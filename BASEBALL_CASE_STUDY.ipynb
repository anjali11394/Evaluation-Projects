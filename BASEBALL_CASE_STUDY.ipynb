{
  "cells": [
    {
      "cell_type": "code",
      "execution_count": 1,
      "metadata": {
        "id": "UprE2_j8kP4d"
      },
      "outputs": [],
      "source": [
        "#importing libraries\n",
        "\n",
        "import pandas as pd\n",
        "import numpy as np\n",
        "import matplotlib.pyplot as plt\n",
        "import seaborn as sns\n",
        "from sklearn.preprocessing import StandardScaler\n",
        "from sklearn.model_selection import train_test_split, GridSearchCV\n",
        "from sklearn.metrics import accuracy_score, confusion_matrix, classification_report\n",
        "\n",
        "import warnings\n",
        "warnings.filterwarnings('ignore')"
      ]
    },
    {
      "cell_type": "code",
      "execution_count": 2,
      "metadata": {
        "id": "iFM2h4kGk9Wk"
      },
      "outputs": [],
      "source": [
        "#reading the dataset\n",
        "df=pd.read_csv('https://raw.githubusercontent.com/dsrscientist/Data-Science-ML-Capstone-Projects/master/baseball.csv')"
      ]
    },
    {
      "cell_type": "code",
      "execution_count": 3,
      "metadata": {
        "colab": {
          "base_uri": "https://localhost:8080/",
          "height": 206
        },
        "id": "l-VSVheilNkX",
        "outputId": "126a519d-967f-43c0-9785-0b044261da77"
      },
      "outputs": [
        {
          "output_type": "execute_result",
          "data": {
            "text/plain": [
              "    W    R    AB     H   2B  3B   HR   BB    SO   SB   RA   ER   ERA  CG  SHO  \\\n",
              "0  95  724  5575  1497  300  42  139  383   973  104  641  601  3.73   2    8   \n",
              "1  83  696  5467  1349  277  44  156  439  1264   70  700  653  4.07   2   12   \n",
              "2  81  669  5439  1395  303  29  141  533  1157   86  640  584  3.67  11   10   \n",
              "3  76  622  5533  1381  260  27  136  404  1231   68  701  643  3.98   7    9   \n",
              "4  74  689  5605  1515  289  49  151  455  1259   83  803  746  4.64   7   12   \n",
              "\n",
              "   SV    E  \n",
              "0  56   88  \n",
              "1  45   86  \n",
              "2  38   79  \n",
              "3  37  101  \n",
              "4  35   86  "
            ],
            "text/html": [
              "\n",
              "  <div id=\"df-d12b5c76-a4ea-4432-8d18-ac2aa709ab6c\">\n",
              "    <div class=\"colab-df-container\">\n",
              "      <div>\n",
              "<style scoped>\n",
              "    .dataframe tbody tr th:only-of-type {\n",
              "        vertical-align: middle;\n",
              "    }\n",
              "\n",
              "    .dataframe tbody tr th {\n",
              "        vertical-align: top;\n",
              "    }\n",
              "\n",
              "    .dataframe thead th {\n",
              "        text-align: right;\n",
              "    }\n",
              "</style>\n",
              "<table border=\"1\" class=\"dataframe\">\n",
              "  <thead>\n",
              "    <tr style=\"text-align: right;\">\n",
              "      <th></th>\n",
              "      <th>W</th>\n",
              "      <th>R</th>\n",
              "      <th>AB</th>\n",
              "      <th>H</th>\n",
              "      <th>2B</th>\n",
              "      <th>3B</th>\n",
              "      <th>HR</th>\n",
              "      <th>BB</th>\n",
              "      <th>SO</th>\n",
              "      <th>SB</th>\n",
              "      <th>RA</th>\n",
              "      <th>ER</th>\n",
              "      <th>ERA</th>\n",
              "      <th>CG</th>\n",
              "      <th>SHO</th>\n",
              "      <th>SV</th>\n",
              "      <th>E</th>\n",
              "    </tr>\n",
              "  </thead>\n",
              "  <tbody>\n",
              "    <tr>\n",
              "      <th>0</th>\n",
              "      <td>95</td>\n",
              "      <td>724</td>\n",
              "      <td>5575</td>\n",
              "      <td>1497</td>\n",
              "      <td>300</td>\n",
              "      <td>42</td>\n",
              "      <td>139</td>\n",
              "      <td>383</td>\n",
              "      <td>973</td>\n",
              "      <td>104</td>\n",
              "      <td>641</td>\n",
              "      <td>601</td>\n",
              "      <td>3.73</td>\n",
              "      <td>2</td>\n",
              "      <td>8</td>\n",
              "      <td>56</td>\n",
              "      <td>88</td>\n",
              "    </tr>\n",
              "    <tr>\n",
              "      <th>1</th>\n",
              "      <td>83</td>\n",
              "      <td>696</td>\n",
              "      <td>5467</td>\n",
              "      <td>1349</td>\n",
              "      <td>277</td>\n",
              "      <td>44</td>\n",
              "      <td>156</td>\n",
              "      <td>439</td>\n",
              "      <td>1264</td>\n",
              "      <td>70</td>\n",
              "      <td>700</td>\n",
              "      <td>653</td>\n",
              "      <td>4.07</td>\n",
              "      <td>2</td>\n",
              "      <td>12</td>\n",
              "      <td>45</td>\n",
              "      <td>86</td>\n",
              "    </tr>\n",
              "    <tr>\n",
              "      <th>2</th>\n",
              "      <td>81</td>\n",
              "      <td>669</td>\n",
              "      <td>5439</td>\n",
              "      <td>1395</td>\n",
              "      <td>303</td>\n",
              "      <td>29</td>\n",
              "      <td>141</td>\n",
              "      <td>533</td>\n",
              "      <td>1157</td>\n",
              "      <td>86</td>\n",
              "      <td>640</td>\n",
              "      <td>584</td>\n",
              "      <td>3.67</td>\n",
              "      <td>11</td>\n",
              "      <td>10</td>\n",
              "      <td>38</td>\n",
              "      <td>79</td>\n",
              "    </tr>\n",
              "    <tr>\n",
              "      <th>3</th>\n",
              "      <td>76</td>\n",
              "      <td>622</td>\n",
              "      <td>5533</td>\n",
              "      <td>1381</td>\n",
              "      <td>260</td>\n",
              "      <td>27</td>\n",
              "      <td>136</td>\n",
              "      <td>404</td>\n",
              "      <td>1231</td>\n",
              "      <td>68</td>\n",
              "      <td>701</td>\n",
              "      <td>643</td>\n",
              "      <td>3.98</td>\n",
              "      <td>7</td>\n",
              "      <td>9</td>\n",
              "      <td>37</td>\n",
              "      <td>101</td>\n",
              "    </tr>\n",
              "    <tr>\n",
              "      <th>4</th>\n",
              "      <td>74</td>\n",
              "      <td>689</td>\n",
              "      <td>5605</td>\n",
              "      <td>1515</td>\n",
              "      <td>289</td>\n",
              "      <td>49</td>\n",
              "      <td>151</td>\n",
              "      <td>455</td>\n",
              "      <td>1259</td>\n",
              "      <td>83</td>\n",
              "      <td>803</td>\n",
              "      <td>746</td>\n",
              "      <td>4.64</td>\n",
              "      <td>7</td>\n",
              "      <td>12</td>\n",
              "      <td>35</td>\n",
              "      <td>86</td>\n",
              "    </tr>\n",
              "  </tbody>\n",
              "</table>\n",
              "</div>\n",
              "      <button class=\"colab-df-convert\" onclick=\"convertToInteractive('df-d12b5c76-a4ea-4432-8d18-ac2aa709ab6c')\"\n",
              "              title=\"Convert this dataframe to an interactive table.\"\n",
              "              style=\"display:none;\">\n",
              "        \n",
              "  <svg xmlns=\"http://www.w3.org/2000/svg\" height=\"24px\"viewBox=\"0 0 24 24\"\n",
              "       width=\"24px\">\n",
              "    <path d=\"M0 0h24v24H0V0z\" fill=\"none\"/>\n",
              "    <path d=\"M18.56 5.44l.94 2.06.94-2.06 2.06-.94-2.06-.94-.94-2.06-.94 2.06-2.06.94zm-11 1L8.5 8.5l.94-2.06 2.06-.94-2.06-.94L8.5 2.5l-.94 2.06-2.06.94zm10 10l.94 2.06.94-2.06 2.06-.94-2.06-.94-.94-2.06-.94 2.06-2.06.94z\"/><path d=\"M17.41 7.96l-1.37-1.37c-.4-.4-.92-.59-1.43-.59-.52 0-1.04.2-1.43.59L10.3 9.45l-7.72 7.72c-.78.78-.78 2.05 0 2.83L4 21.41c.39.39.9.59 1.41.59.51 0 1.02-.2 1.41-.59l7.78-7.78 2.81-2.81c.8-.78.8-2.07 0-2.86zM5.41 20L4 18.59l7.72-7.72 1.47 1.35L5.41 20z\"/>\n",
              "  </svg>\n",
              "      </button>\n",
              "      \n",
              "  <style>\n",
              "    .colab-df-container {\n",
              "      display:flex;\n",
              "      flex-wrap:wrap;\n",
              "      gap: 12px;\n",
              "    }\n",
              "\n",
              "    .colab-df-convert {\n",
              "      background-color: #E8F0FE;\n",
              "      border: none;\n",
              "      border-radius: 50%;\n",
              "      cursor: pointer;\n",
              "      display: none;\n",
              "      fill: #1967D2;\n",
              "      height: 32px;\n",
              "      padding: 0 0 0 0;\n",
              "      width: 32px;\n",
              "    }\n",
              "\n",
              "    .colab-df-convert:hover {\n",
              "      background-color: #E2EBFA;\n",
              "      box-shadow: 0px 1px 2px rgba(60, 64, 67, 0.3), 0px 1px 3px 1px rgba(60, 64, 67, 0.15);\n",
              "      fill: #174EA6;\n",
              "    }\n",
              "\n",
              "    [theme=dark] .colab-df-convert {\n",
              "      background-color: #3B4455;\n",
              "      fill: #D2E3FC;\n",
              "    }\n",
              "\n",
              "    [theme=dark] .colab-df-convert:hover {\n",
              "      background-color: #434B5C;\n",
              "      box-shadow: 0px 1px 3px 1px rgba(0, 0, 0, 0.15);\n",
              "      filter: drop-shadow(0px 1px 2px rgba(0, 0, 0, 0.3));\n",
              "      fill: #FFFFFF;\n",
              "    }\n",
              "  </style>\n",
              "\n",
              "      <script>\n",
              "        const buttonEl =\n",
              "          document.querySelector('#df-d12b5c76-a4ea-4432-8d18-ac2aa709ab6c button.colab-df-convert');\n",
              "        buttonEl.style.display =\n",
              "          google.colab.kernel.accessAllowed ? 'block' : 'none';\n",
              "\n",
              "        async function convertToInteractive(key) {\n",
              "          const element = document.querySelector('#df-d12b5c76-a4ea-4432-8d18-ac2aa709ab6c');\n",
              "          const dataTable =\n",
              "            await google.colab.kernel.invokeFunction('convertToInteractive',\n",
              "                                                     [key], {});\n",
              "          if (!dataTable) return;\n",
              "\n",
              "          const docLinkHtml = 'Like what you see? Visit the ' +\n",
              "            '<a target=\"_blank\" href=https://colab.research.google.com/notebooks/data_table.ipynb>data table notebook</a>'\n",
              "            + ' to learn more about interactive tables.';\n",
              "          element.innerHTML = '';\n",
              "          dataTable['output_type'] = 'display_data';\n",
              "          await google.colab.output.renderOutput(dataTable, element);\n",
              "          const docLink = document.createElement('div');\n",
              "          docLink.innerHTML = docLinkHtml;\n",
              "          element.appendChild(docLink);\n",
              "        }\n",
              "      </script>\n",
              "    </div>\n",
              "  </div>\n",
              "  "
            ]
          },
          "metadata": {},
          "execution_count": 3
        }
      ],
      "source": [
        "df.head()"
      ]
    },
    {
      "cell_type": "code",
      "execution_count": 4,
      "metadata": {
        "colab": {
          "base_uri": "https://localhost:8080/"
        },
        "id": "sqza4RkilTUB",
        "outputId": "2c4bfcf5-2840-4b58-d4ee-1d05aff859f2"
      },
      "outputs": [
        {
          "output_type": "execute_result",
          "data": {
            "text/plain": [
              "(30, 17)"
            ]
          },
          "metadata": {},
          "execution_count": 4
        }
      ],
      "source": [
        "#checking the shape \n",
        "df.shape"
      ]
    },
    {
      "cell_type": "code",
      "execution_count": 5,
      "metadata": {
        "colab": {
          "base_uri": "https://localhost:8080/"
        },
        "id": "TZoAB_QDlgOl",
        "outputId": "e1e5da1c-499a-400c-d56a-1e27bec7d703"
      },
      "outputs": [
        {
          "output_type": "execute_result",
          "data": {
            "text/plain": [
              "W      0\n",
              "R      0\n",
              "AB     0\n",
              "H      0\n",
              "2B     0\n",
              "3B     0\n",
              "HR     0\n",
              "BB     0\n",
              "SO     0\n",
              "SB     0\n",
              "RA     0\n",
              "ER     0\n",
              "ERA    0\n",
              "CG     0\n",
              "SHO    0\n",
              "SV     0\n",
              "E      0\n",
              "dtype: int64"
            ]
          },
          "metadata": {},
          "execution_count": 5
        }
      ],
      "source": [
        "#checking the null values\n",
        "df.isnull().sum()"
      ]
    },
    {
      "cell_type": "code",
      "execution_count": 6,
      "metadata": {
        "colab": {
          "base_uri": "https://localhost:8080/"
        },
        "id": "Ajegk_Islq4A",
        "outputId": "7db498f9-786e-4722-e330-ccad566b0fe9"
      },
      "outputs": [
        {
          "output_type": "execute_result",
          "data": {
            "text/plain": [
              "Index(['W', 'R', 'AB', 'H', '2B', '3B', 'HR', 'BB', 'SO', 'SB', 'RA', 'ER',\n",
              "       'ERA', 'CG', 'SHO', 'SV', 'E'],\n",
              "      dtype='object')"
            ]
          },
          "metadata": {},
          "execution_count": 6
        }
      ],
      "source": [
        "df.columns"
      ]
    },
    {
      "cell_type": "code",
      "execution_count": 15,
      "metadata": {
        "id": "_7HnC4xFlvSJ"
      },
      "outputs": [],
      "source": [
        "#changing the name of the columns\n",
        "\n",
        "df=df.rename(columns={'W':'Wins','R':'Runs', 'AB':'At_Bats', 'H':'Hits', '2B':'Doubles', '3B':'Triples', 'HR':'Homeruns', 'BB':'Walks', 'SO':'Strikeouts', 'SB':'Stolen_Bases', 'RA':'Runs_Allowed', 'ER':' Earned_Runs',\n",
        "       'ERA':'Earned_Run_Average', 'CG':'Complete_Games ', 'SHO':'Shutouts', 'SV':'Saves', 'E':'Errors'})"
      ]
    },
    {
      "cell_type": "code",
      "execution_count": 16,
      "metadata": {
        "colab": {
          "base_uri": "https://localhost:8080/",
          "height": 206
        },
        "id": "pYY-YGXrmImy",
        "outputId": "ceebadf5-6e57-4a8a-ec6a-6b30f2b94d12"
      },
      "outputs": [
        {
          "output_type": "execute_result",
          "data": {
            "text/plain": [
              "   Wins  Runs  At_Bats  Hits  Doubles  Triples  Homeruns  Walks  Strikeouts  \\\n",
              "0    95   724     5575  1497      300       42       139    383         973   \n",
              "1    83   696     5467  1349      277       44       156    439        1264   \n",
              "2    81   669     5439  1395      303       29       141    533        1157   \n",
              "3    76   622     5533  1381      260       27       136    404        1231   \n",
              "4    74   689     5605  1515      289       49       151    455        1259   \n",
              "\n",
              "   Stolen_Bases  Runs_Allowed   Earned_Runs  Earned_Run_Average  \\\n",
              "0           104           641           601                3.73   \n",
              "1            70           700           653                4.07   \n",
              "2            86           640           584                3.67   \n",
              "3            68           701           643                3.98   \n",
              "4            83           803           746                4.64   \n",
              "\n",
              "   Complete_Games   Shutouts  Saves  Errors  \n",
              "0                2         8     56      88  \n",
              "1                2        12     45      86  \n",
              "2               11        10     38      79  \n",
              "3                7         9     37     101  \n",
              "4                7        12     35      86  "
            ],
            "text/html": [
              "\n",
              "  <div id=\"df-e6159ae8-c508-478f-9463-85795e9559ae\">\n",
              "    <div class=\"colab-df-container\">\n",
              "      <div>\n",
              "<style scoped>\n",
              "    .dataframe tbody tr th:only-of-type {\n",
              "        vertical-align: middle;\n",
              "    }\n",
              "\n",
              "    .dataframe tbody tr th {\n",
              "        vertical-align: top;\n",
              "    }\n",
              "\n",
              "    .dataframe thead th {\n",
              "        text-align: right;\n",
              "    }\n",
              "</style>\n",
              "<table border=\"1\" class=\"dataframe\">\n",
              "  <thead>\n",
              "    <tr style=\"text-align: right;\">\n",
              "      <th></th>\n",
              "      <th>Wins</th>\n",
              "      <th>Runs</th>\n",
              "      <th>At_Bats</th>\n",
              "      <th>Hits</th>\n",
              "      <th>Doubles</th>\n",
              "      <th>Triples</th>\n",
              "      <th>Homeruns</th>\n",
              "      <th>Walks</th>\n",
              "      <th>Strikeouts</th>\n",
              "      <th>Stolen_Bases</th>\n",
              "      <th>Runs_Allowed</th>\n",
              "      <th>Earned_Runs</th>\n",
              "      <th>Earned_Run_Average</th>\n",
              "      <th>Complete_Games</th>\n",
              "      <th>Shutouts</th>\n",
              "      <th>Saves</th>\n",
              "      <th>Errors</th>\n",
              "    </tr>\n",
              "  </thead>\n",
              "  <tbody>\n",
              "    <tr>\n",
              "      <th>0</th>\n",
              "      <td>95</td>\n",
              "      <td>724</td>\n",
              "      <td>5575</td>\n",
              "      <td>1497</td>\n",
              "      <td>300</td>\n",
              "      <td>42</td>\n",
              "      <td>139</td>\n",
              "      <td>383</td>\n",
              "      <td>973</td>\n",
              "      <td>104</td>\n",
              "      <td>641</td>\n",
              "      <td>601</td>\n",
              "      <td>3.73</td>\n",
              "      <td>2</td>\n",
              "      <td>8</td>\n",
              "      <td>56</td>\n",
              "      <td>88</td>\n",
              "    </tr>\n",
              "    <tr>\n",
              "      <th>1</th>\n",
              "      <td>83</td>\n",
              "      <td>696</td>\n",
              "      <td>5467</td>\n",
              "      <td>1349</td>\n",
              "      <td>277</td>\n",
              "      <td>44</td>\n",
              "      <td>156</td>\n",
              "      <td>439</td>\n",
              "      <td>1264</td>\n",
              "      <td>70</td>\n",
              "      <td>700</td>\n",
              "      <td>653</td>\n",
              "      <td>4.07</td>\n",
              "      <td>2</td>\n",
              "      <td>12</td>\n",
              "      <td>45</td>\n",
              "      <td>86</td>\n",
              "    </tr>\n",
              "    <tr>\n",
              "      <th>2</th>\n",
              "      <td>81</td>\n",
              "      <td>669</td>\n",
              "      <td>5439</td>\n",
              "      <td>1395</td>\n",
              "      <td>303</td>\n",
              "      <td>29</td>\n",
              "      <td>141</td>\n",
              "      <td>533</td>\n",
              "      <td>1157</td>\n",
              "      <td>86</td>\n",
              "      <td>640</td>\n",
              "      <td>584</td>\n",
              "      <td>3.67</td>\n",
              "      <td>11</td>\n",
              "      <td>10</td>\n",
              "      <td>38</td>\n",
              "      <td>79</td>\n",
              "    </tr>\n",
              "    <tr>\n",
              "      <th>3</th>\n",
              "      <td>76</td>\n",
              "      <td>622</td>\n",
              "      <td>5533</td>\n",
              "      <td>1381</td>\n",
              "      <td>260</td>\n",
              "      <td>27</td>\n",
              "      <td>136</td>\n",
              "      <td>404</td>\n",
              "      <td>1231</td>\n",
              "      <td>68</td>\n",
              "      <td>701</td>\n",
              "      <td>643</td>\n",
              "      <td>3.98</td>\n",
              "      <td>7</td>\n",
              "      <td>9</td>\n",
              "      <td>37</td>\n",
              "      <td>101</td>\n",
              "    </tr>\n",
              "    <tr>\n",
              "      <th>4</th>\n",
              "      <td>74</td>\n",
              "      <td>689</td>\n",
              "      <td>5605</td>\n",
              "      <td>1515</td>\n",
              "      <td>289</td>\n",
              "      <td>49</td>\n",
              "      <td>151</td>\n",
              "      <td>455</td>\n",
              "      <td>1259</td>\n",
              "      <td>83</td>\n",
              "      <td>803</td>\n",
              "      <td>746</td>\n",
              "      <td>4.64</td>\n",
              "      <td>7</td>\n",
              "      <td>12</td>\n",
              "      <td>35</td>\n",
              "      <td>86</td>\n",
              "    </tr>\n",
              "  </tbody>\n",
              "</table>\n",
              "</div>\n",
              "      <button class=\"colab-df-convert\" onclick=\"convertToInteractive('df-e6159ae8-c508-478f-9463-85795e9559ae')\"\n",
              "              title=\"Convert this dataframe to an interactive table.\"\n",
              "              style=\"display:none;\">\n",
              "        \n",
              "  <svg xmlns=\"http://www.w3.org/2000/svg\" height=\"24px\"viewBox=\"0 0 24 24\"\n",
              "       width=\"24px\">\n",
              "    <path d=\"M0 0h24v24H0V0z\" fill=\"none\"/>\n",
              "    <path d=\"M18.56 5.44l.94 2.06.94-2.06 2.06-.94-2.06-.94-.94-2.06-.94 2.06-2.06.94zm-11 1L8.5 8.5l.94-2.06 2.06-.94-2.06-.94L8.5 2.5l-.94 2.06-2.06.94zm10 10l.94 2.06.94-2.06 2.06-.94-2.06-.94-.94-2.06-.94 2.06-2.06.94z\"/><path d=\"M17.41 7.96l-1.37-1.37c-.4-.4-.92-.59-1.43-.59-.52 0-1.04.2-1.43.59L10.3 9.45l-7.72 7.72c-.78.78-.78 2.05 0 2.83L4 21.41c.39.39.9.59 1.41.59.51 0 1.02-.2 1.41-.59l7.78-7.78 2.81-2.81c.8-.78.8-2.07 0-2.86zM5.41 20L4 18.59l7.72-7.72 1.47 1.35L5.41 20z\"/>\n",
              "  </svg>\n",
              "      </button>\n",
              "      \n",
              "  <style>\n",
              "    .colab-df-container {\n",
              "      display:flex;\n",
              "      flex-wrap:wrap;\n",
              "      gap: 12px;\n",
              "    }\n",
              "\n",
              "    .colab-df-convert {\n",
              "      background-color: #E8F0FE;\n",
              "      border: none;\n",
              "      border-radius: 50%;\n",
              "      cursor: pointer;\n",
              "      display: none;\n",
              "      fill: #1967D2;\n",
              "      height: 32px;\n",
              "      padding: 0 0 0 0;\n",
              "      width: 32px;\n",
              "    }\n",
              "\n",
              "    .colab-df-convert:hover {\n",
              "      background-color: #E2EBFA;\n",
              "      box-shadow: 0px 1px 2px rgba(60, 64, 67, 0.3), 0px 1px 3px 1px rgba(60, 64, 67, 0.15);\n",
              "      fill: #174EA6;\n",
              "    }\n",
              "\n",
              "    [theme=dark] .colab-df-convert {\n",
              "      background-color: #3B4455;\n",
              "      fill: #D2E3FC;\n",
              "    }\n",
              "\n",
              "    [theme=dark] .colab-df-convert:hover {\n",
              "      background-color: #434B5C;\n",
              "      box-shadow: 0px 1px 3px 1px rgba(0, 0, 0, 0.15);\n",
              "      filter: drop-shadow(0px 1px 2px rgba(0, 0, 0, 0.3));\n",
              "      fill: #FFFFFF;\n",
              "    }\n",
              "  </style>\n",
              "\n",
              "      <script>\n",
              "        const buttonEl =\n",
              "          document.querySelector('#df-e6159ae8-c508-478f-9463-85795e9559ae button.colab-df-convert');\n",
              "        buttonEl.style.display =\n",
              "          google.colab.kernel.accessAllowed ? 'block' : 'none';\n",
              "\n",
              "        async function convertToInteractive(key) {\n",
              "          const element = document.querySelector('#df-e6159ae8-c508-478f-9463-85795e9559ae');\n",
              "          const dataTable =\n",
              "            await google.colab.kernel.invokeFunction('convertToInteractive',\n",
              "                                                     [key], {});\n",
              "          if (!dataTable) return;\n",
              "\n",
              "          const docLinkHtml = 'Like what you see? Visit the ' +\n",
              "            '<a target=\"_blank\" href=https://colab.research.google.com/notebooks/data_table.ipynb>data table notebook</a>'\n",
              "            + ' to learn more about interactive tables.';\n",
              "          element.innerHTML = '';\n",
              "          dataTable['output_type'] = 'display_data';\n",
              "          await google.colab.output.renderOutput(dataTable, element);\n",
              "          const docLink = document.createElement('div');\n",
              "          docLink.innerHTML = docLinkHtml;\n",
              "          element.appendChild(docLink);\n",
              "        }\n",
              "      </script>\n",
              "    </div>\n",
              "  </div>\n",
              "  "
            ]
          },
          "metadata": {},
          "execution_count": 16
        }
      ],
      "source": [
        "df.head()"
      ]
    },
    {
      "cell_type": "code",
      "execution_count": 17,
      "metadata": {
        "colab": {
          "base_uri": "https://localhost:8080/",
          "height": 345
        },
        "id": "9hDVO2SFnETo",
        "outputId": "2f5d8a65-3ae2-4aba-b5a5-8ac1654f58fa"
      },
      "outputs": [
        {
          "output_type": "execute_result",
          "data": {
            "text/plain": [
              "             Wins        Runs      At_Bats         Hits     Doubles  \\\n",
              "count   30.000000   30.000000    30.000000    30.000000   30.000000   \n",
              "mean    80.966667  688.233333  5516.266667  1403.533333  274.733333   \n",
              "std     10.453455   58.761754    70.467372    57.140923   18.095405   \n",
              "min     63.000000  573.000000  5385.000000  1324.000000  236.000000   \n",
              "25%     74.000000  651.250000  5464.000000  1363.000000  262.250000   \n",
              "50%     81.000000  689.000000  5510.000000  1382.500000  275.500000   \n",
              "75%     87.750000  718.250000  5570.000000  1451.500000  288.750000   \n",
              "max    100.000000  891.000000  5649.000000  1515.000000  308.000000   \n",
              "\n",
              "         Triples    Homeruns       Walks  Strikeouts  Stolen_Bases  \\\n",
              "count  30.000000   30.000000   30.000000    30.00000     30.000000   \n",
              "mean   31.300000  163.633333  469.100000  1248.20000     83.500000   \n",
              "std    10.452355   31.823309   57.053725   103.75947     22.815225   \n",
              "min    13.000000  100.000000  375.000000   973.00000     44.000000   \n",
              "25%    23.000000  140.250000  428.250000  1157.50000     69.000000   \n",
              "50%    31.000000  158.500000  473.000000  1261.50000     83.500000   \n",
              "75%    39.000000  177.000000  501.250000  1311.50000     96.500000   \n",
              "max    49.000000  232.000000  570.000000  1518.00000    134.000000   \n",
              "\n",
              "       Runs_Allowed   Earned_Runs  Earned_Run_Average  Complete_Games   \\\n",
              "count     30.000000     30.000000           30.000000        30.000000   \n",
              "mean     688.233333    635.833333            3.956333         3.466667   \n",
              "std       72.108005     70.140786            0.454089         2.763473   \n",
              "min      525.000000    478.000000            2.940000         0.000000   \n",
              "25%      636.250000    587.250000            3.682500         1.000000   \n",
              "50%      695.500000    644.500000            4.025000         3.000000   \n",
              "75%      732.500000    679.250000            4.220000         5.750000   \n",
              "max      844.000000    799.000000            5.040000        11.000000   \n",
              "\n",
              "        Shutouts      Saves      Errors  \n",
              "count  30.000000  30.000000   30.000000  \n",
              "mean   11.300000  43.066667   94.333333  \n",
              "std     4.120177   7.869335   13.958889  \n",
              "min     4.000000  28.000000   75.000000  \n",
              "25%     9.000000  37.250000   86.000000  \n",
              "50%    12.000000  42.000000   91.000000  \n",
              "75%    13.000000  46.750000   96.750000  \n",
              "max    21.000000  62.000000  126.000000  "
            ],
            "text/html": [
              "\n",
              "  <div id=\"df-a7d49f48-8ef7-419f-9264-ae87978aaba5\">\n",
              "    <div class=\"colab-df-container\">\n",
              "      <div>\n",
              "<style scoped>\n",
              "    .dataframe tbody tr th:only-of-type {\n",
              "        vertical-align: middle;\n",
              "    }\n",
              "\n",
              "    .dataframe tbody tr th {\n",
              "        vertical-align: top;\n",
              "    }\n",
              "\n",
              "    .dataframe thead th {\n",
              "        text-align: right;\n",
              "    }\n",
              "</style>\n",
              "<table border=\"1\" class=\"dataframe\">\n",
              "  <thead>\n",
              "    <tr style=\"text-align: right;\">\n",
              "      <th></th>\n",
              "      <th>Wins</th>\n",
              "      <th>Runs</th>\n",
              "      <th>At_Bats</th>\n",
              "      <th>Hits</th>\n",
              "      <th>Doubles</th>\n",
              "      <th>Triples</th>\n",
              "      <th>Homeruns</th>\n",
              "      <th>Walks</th>\n",
              "      <th>Strikeouts</th>\n",
              "      <th>Stolen_Bases</th>\n",
              "      <th>Runs_Allowed</th>\n",
              "      <th>Earned_Runs</th>\n",
              "      <th>Earned_Run_Average</th>\n",
              "      <th>Complete_Games</th>\n",
              "      <th>Shutouts</th>\n",
              "      <th>Saves</th>\n",
              "      <th>Errors</th>\n",
              "    </tr>\n",
              "  </thead>\n",
              "  <tbody>\n",
              "    <tr>\n",
              "      <th>count</th>\n",
              "      <td>30.000000</td>\n",
              "      <td>30.000000</td>\n",
              "      <td>30.000000</td>\n",
              "      <td>30.000000</td>\n",
              "      <td>30.000000</td>\n",
              "      <td>30.000000</td>\n",
              "      <td>30.000000</td>\n",
              "      <td>30.000000</td>\n",
              "      <td>30.00000</td>\n",
              "      <td>30.000000</td>\n",
              "      <td>30.000000</td>\n",
              "      <td>30.000000</td>\n",
              "      <td>30.000000</td>\n",
              "      <td>30.000000</td>\n",
              "      <td>30.000000</td>\n",
              "      <td>30.000000</td>\n",
              "      <td>30.000000</td>\n",
              "    </tr>\n",
              "    <tr>\n",
              "      <th>mean</th>\n",
              "      <td>80.966667</td>\n",
              "      <td>688.233333</td>\n",
              "      <td>5516.266667</td>\n",
              "      <td>1403.533333</td>\n",
              "      <td>274.733333</td>\n",
              "      <td>31.300000</td>\n",
              "      <td>163.633333</td>\n",
              "      <td>469.100000</td>\n",
              "      <td>1248.20000</td>\n",
              "      <td>83.500000</td>\n",
              "      <td>688.233333</td>\n",
              "      <td>635.833333</td>\n",
              "      <td>3.956333</td>\n",
              "      <td>3.466667</td>\n",
              "      <td>11.300000</td>\n",
              "      <td>43.066667</td>\n",
              "      <td>94.333333</td>\n",
              "    </tr>\n",
              "    <tr>\n",
              "      <th>std</th>\n",
              "      <td>10.453455</td>\n",
              "      <td>58.761754</td>\n",
              "      <td>70.467372</td>\n",
              "      <td>57.140923</td>\n",
              "      <td>18.095405</td>\n",
              "      <td>10.452355</td>\n",
              "      <td>31.823309</td>\n",
              "      <td>57.053725</td>\n",
              "      <td>103.75947</td>\n",
              "      <td>22.815225</td>\n",
              "      <td>72.108005</td>\n",
              "      <td>70.140786</td>\n",
              "      <td>0.454089</td>\n",
              "      <td>2.763473</td>\n",
              "      <td>4.120177</td>\n",
              "      <td>7.869335</td>\n",
              "      <td>13.958889</td>\n",
              "    </tr>\n",
              "    <tr>\n",
              "      <th>min</th>\n",
              "      <td>63.000000</td>\n",
              "      <td>573.000000</td>\n",
              "      <td>5385.000000</td>\n",
              "      <td>1324.000000</td>\n",
              "      <td>236.000000</td>\n",
              "      <td>13.000000</td>\n",
              "      <td>100.000000</td>\n",
              "      <td>375.000000</td>\n",
              "      <td>973.00000</td>\n",
              "      <td>44.000000</td>\n",
              "      <td>525.000000</td>\n",
              "      <td>478.000000</td>\n",
              "      <td>2.940000</td>\n",
              "      <td>0.000000</td>\n",
              "      <td>4.000000</td>\n",
              "      <td>28.000000</td>\n",
              "      <td>75.000000</td>\n",
              "    </tr>\n",
              "    <tr>\n",
              "      <th>25%</th>\n",
              "      <td>74.000000</td>\n",
              "      <td>651.250000</td>\n",
              "      <td>5464.000000</td>\n",
              "      <td>1363.000000</td>\n",
              "      <td>262.250000</td>\n",
              "      <td>23.000000</td>\n",
              "      <td>140.250000</td>\n",
              "      <td>428.250000</td>\n",
              "      <td>1157.50000</td>\n",
              "      <td>69.000000</td>\n",
              "      <td>636.250000</td>\n",
              "      <td>587.250000</td>\n",
              "      <td>3.682500</td>\n",
              "      <td>1.000000</td>\n",
              "      <td>9.000000</td>\n",
              "      <td>37.250000</td>\n",
              "      <td>86.000000</td>\n",
              "    </tr>\n",
              "    <tr>\n",
              "      <th>50%</th>\n",
              "      <td>81.000000</td>\n",
              "      <td>689.000000</td>\n",
              "      <td>5510.000000</td>\n",
              "      <td>1382.500000</td>\n",
              "      <td>275.500000</td>\n",
              "      <td>31.000000</td>\n",
              "      <td>158.500000</td>\n",
              "      <td>473.000000</td>\n",
              "      <td>1261.50000</td>\n",
              "      <td>83.500000</td>\n",
              "      <td>695.500000</td>\n",
              "      <td>644.500000</td>\n",
              "      <td>4.025000</td>\n",
              "      <td>3.000000</td>\n",
              "      <td>12.000000</td>\n",
              "      <td>42.000000</td>\n",
              "      <td>91.000000</td>\n",
              "    </tr>\n",
              "    <tr>\n",
              "      <th>75%</th>\n",
              "      <td>87.750000</td>\n",
              "      <td>718.250000</td>\n",
              "      <td>5570.000000</td>\n",
              "      <td>1451.500000</td>\n",
              "      <td>288.750000</td>\n",
              "      <td>39.000000</td>\n",
              "      <td>177.000000</td>\n",
              "      <td>501.250000</td>\n",
              "      <td>1311.50000</td>\n",
              "      <td>96.500000</td>\n",
              "      <td>732.500000</td>\n",
              "      <td>679.250000</td>\n",
              "      <td>4.220000</td>\n",
              "      <td>5.750000</td>\n",
              "      <td>13.000000</td>\n",
              "      <td>46.750000</td>\n",
              "      <td>96.750000</td>\n",
              "    </tr>\n",
              "    <tr>\n",
              "      <th>max</th>\n",
              "      <td>100.000000</td>\n",
              "      <td>891.000000</td>\n",
              "      <td>5649.000000</td>\n",
              "      <td>1515.000000</td>\n",
              "      <td>308.000000</td>\n",
              "      <td>49.000000</td>\n",
              "      <td>232.000000</td>\n",
              "      <td>570.000000</td>\n",
              "      <td>1518.00000</td>\n",
              "      <td>134.000000</td>\n",
              "      <td>844.000000</td>\n",
              "      <td>799.000000</td>\n",
              "      <td>5.040000</td>\n",
              "      <td>11.000000</td>\n",
              "      <td>21.000000</td>\n",
              "      <td>62.000000</td>\n",
              "      <td>126.000000</td>\n",
              "    </tr>\n",
              "  </tbody>\n",
              "</table>\n",
              "</div>\n",
              "      <button class=\"colab-df-convert\" onclick=\"convertToInteractive('df-a7d49f48-8ef7-419f-9264-ae87978aaba5')\"\n",
              "              title=\"Convert this dataframe to an interactive table.\"\n",
              "              style=\"display:none;\">\n",
              "        \n",
              "  <svg xmlns=\"http://www.w3.org/2000/svg\" height=\"24px\"viewBox=\"0 0 24 24\"\n",
              "       width=\"24px\">\n",
              "    <path d=\"M0 0h24v24H0V0z\" fill=\"none\"/>\n",
              "    <path d=\"M18.56 5.44l.94 2.06.94-2.06 2.06-.94-2.06-.94-.94-2.06-.94 2.06-2.06.94zm-11 1L8.5 8.5l.94-2.06 2.06-.94-2.06-.94L8.5 2.5l-.94 2.06-2.06.94zm10 10l.94 2.06.94-2.06 2.06-.94-2.06-.94-.94-2.06-.94 2.06-2.06.94z\"/><path d=\"M17.41 7.96l-1.37-1.37c-.4-.4-.92-.59-1.43-.59-.52 0-1.04.2-1.43.59L10.3 9.45l-7.72 7.72c-.78.78-.78 2.05 0 2.83L4 21.41c.39.39.9.59 1.41.59.51 0 1.02-.2 1.41-.59l7.78-7.78 2.81-2.81c.8-.78.8-2.07 0-2.86zM5.41 20L4 18.59l7.72-7.72 1.47 1.35L5.41 20z\"/>\n",
              "  </svg>\n",
              "      </button>\n",
              "      \n",
              "  <style>\n",
              "    .colab-df-container {\n",
              "      display:flex;\n",
              "      flex-wrap:wrap;\n",
              "      gap: 12px;\n",
              "    }\n",
              "\n",
              "    .colab-df-convert {\n",
              "      background-color: #E8F0FE;\n",
              "      border: none;\n",
              "      border-radius: 50%;\n",
              "      cursor: pointer;\n",
              "      display: none;\n",
              "      fill: #1967D2;\n",
              "      height: 32px;\n",
              "      padding: 0 0 0 0;\n",
              "      width: 32px;\n",
              "    }\n",
              "\n",
              "    .colab-df-convert:hover {\n",
              "      background-color: #E2EBFA;\n",
              "      box-shadow: 0px 1px 2px rgba(60, 64, 67, 0.3), 0px 1px 3px 1px rgba(60, 64, 67, 0.15);\n",
              "      fill: #174EA6;\n",
              "    }\n",
              "\n",
              "    [theme=dark] .colab-df-convert {\n",
              "      background-color: #3B4455;\n",
              "      fill: #D2E3FC;\n",
              "    }\n",
              "\n",
              "    [theme=dark] .colab-df-convert:hover {\n",
              "      background-color: #434B5C;\n",
              "      box-shadow: 0px 1px 3px 1px rgba(0, 0, 0, 0.15);\n",
              "      filter: drop-shadow(0px 1px 2px rgba(0, 0, 0, 0.3));\n",
              "      fill: #FFFFFF;\n",
              "    }\n",
              "  </style>\n",
              "\n",
              "      <script>\n",
              "        const buttonEl =\n",
              "          document.querySelector('#df-a7d49f48-8ef7-419f-9264-ae87978aaba5 button.colab-df-convert');\n",
              "        buttonEl.style.display =\n",
              "          google.colab.kernel.accessAllowed ? 'block' : 'none';\n",
              "\n",
              "        async function convertToInteractive(key) {\n",
              "          const element = document.querySelector('#df-a7d49f48-8ef7-419f-9264-ae87978aaba5');\n",
              "          const dataTable =\n",
              "            await google.colab.kernel.invokeFunction('convertToInteractive',\n",
              "                                                     [key], {});\n",
              "          if (!dataTable) return;\n",
              "\n",
              "          const docLinkHtml = 'Like what you see? Visit the ' +\n",
              "            '<a target=\"_blank\" href=https://colab.research.google.com/notebooks/data_table.ipynb>data table notebook</a>'\n",
              "            + ' to learn more about interactive tables.';\n",
              "          element.innerHTML = '';\n",
              "          dataTable['output_type'] = 'display_data';\n",
              "          await google.colab.output.renderOutput(dataTable, element);\n",
              "          const docLink = document.createElement('div');\n",
              "          docLink.innerHTML = docLinkHtml;\n",
              "          element.appendChild(docLink);\n",
              "        }\n",
              "      </script>\n",
              "    </div>\n",
              "  </div>\n",
              "  "
            ]
          },
          "metadata": {},
          "execution_count": 17
        }
      ],
      "source": [
        "df.describe()"
      ]
    },
    {
      "cell_type": "markdown",
      "metadata": {
        "id": "t_oUdH4_oVpp"
      },
      "source": [
        "OBSERVATIONS\n",
        "\n",
        "1.There is no null values\n",
        "\n",
        "\n",
        "2.There is differnce between the mean and standard values, so there are outliers"
      ]
    },
    {
      "cell_type": "markdown",
      "metadata": {
        "id": "4M18S8y_pQyt"
      },
      "source": [
        "#EDA"
      ]
    },
    {
      "cell_type": "code",
      "execution_count": 18,
      "metadata": {
        "colab": {
          "base_uri": "https://localhost:8080/",
          "height": 1000
        },
        "id": "rKwDCPkkpCD0",
        "outputId": "b957fae1-e021-4c04-be41-a8cb4f3badc6"
      },
      "outputs": [
        {
          "output_type": "display_data",
          "data": {
            "text/plain": [
              "<Figure size 1440x1800 with 17 Axes>"
            ],
            "image/png": "[encoded data removed]"
          },
          "metadata": {
            "needs_background": "light"
          }
        }
      ],
      "source": [
        "plt.figure(figsize=(20,25))\n",
        "plotnumber=1\n",
        "\n",
        "for column in df:\n",
        "  if plotnumber <=17:\n",
        "    ax=plt.subplot(5,4,plotnumber)\n",
        "    sns.distplot(df[column])\n",
        "    plt.xlabel(column,fontsize=20)\n",
        "\n",
        "    plotnumber +=1\n",
        "\n",
        "\n",
        "plt.show()"
      ]
    },
    {
      "cell_type": "code",
      "execution_count": 19,
      "metadata": {
        "colab": {
          "base_uri": "https://localhost:8080/",
          "height": 1000
        },
        "id": "rIc7JE0kSRWe",
        "outputId": "5f834ab1-e8ee-4a4e-ccbf-b18542567b78"
      },
      "outputs": [
        {
          "output_type": "display_data",
          "data": {
            "text/plain": [
              "<Figure size 1440x1800 with 17 Axes>"
            ],
            "image/png": "[encoded data removed]"
          },
          "metadata": {
            "needs_background": "light"
          }
        }
      ],
      "source": [
        "plt.figure(figsize=(20,25))\n",
        "plotnumber=1\n",
        "\n",
        "for column in df:\n",
        "  if plotnumber <=17:\n",
        "    ax=plt.subplot(5,4,plotnumber)\n",
        "    sns.boxplot(df[column])\n",
        "    plt.xlabel(column,fontsize=20)\n",
        "\n",
        "    plotnumber +=1\n",
        "\n",
        "\n",
        "plt.show()"
      ]
    },
    {
      "cell_type": "markdown",
      "metadata": {
        "id": "VCa8ceWESmMp"
      },
      "source": [
        "#Removing Outliers"
      ]
    },
    {
      "cell_type": "code",
      "execution_count": 11,
      "metadata": {
        "colab": {
          "base_uri": "https://localhost:8080/"
        },
        "id": "XuDJMp6LSp0o",
        "outputId": "4d58a79c-6084-4907-f1e2-e7c745774b91"
      },
      "outputs": [
        {
          "output_type": "execute_result",
          "data": {
            "text/plain": [
              "(30, 17)"
            ]
          },
          "metadata": {},
          "execution_count": 11
        }
      ],
      "source": [
        "df.shape"
      ]
    },
    {
      "cell_type": "code",
      "execution_count": 12,
      "metadata": {
        "id": "w-shOj1rSkzm"
      },
      "outputs": [],
      "source": [
        "#find the IQR(INTER QUANTILE RANGE) to identify outliers\n",
        "\n",
        "#1st quantile\n",
        "q1=df.quantile(0.25)\n",
        "\n",
        "#3rd quantile\n",
        "q3=df.quantile(0.75)\n",
        "\n",
        "iqr=q3 - q1"
      ]
    },
    {
      "cell_type": "code",
      "source": [
        "#importing zscore to remove outliers\n",
        "\n",
        "from scipy.stats import zscore"
      ],
      "metadata": {
        "id": "nOvOKzTKsDNs"
      },
      "execution_count": 14,
      "outputs": []
    },
    {
      "cell_type": "code",
      "source": [
        "z_score=zscore(df)"
      ],
      "metadata": {
        "id": "PnxsnnsAsITw"
      },
      "execution_count": 20,
      "outputs": []
    },
    {
      "cell_type": "code",
      "source": [
        "abs_z_score=np.abs(z_score)"
      ],
      "metadata": {
        "id": "5wnYFlF3sbJD"
      },
      "execution_count": 21,
      "outputs": []
    },
    {
      "cell_type": "code",
      "source": [
        "filtering_entry=(abs_z_score < 3).all(axis=1)"
      ],
      "metadata": {
        "id": "owzqC0uQseOE"
      },
      "execution_count": 22,
      "outputs": []
    },
    {
      "cell_type": "code",
      "source": [
        "df=df[filtering_entry]"
      ],
      "metadata": {
        "id": "E8zPQ2YesiQS"
      },
      "execution_count": 23,
      "outputs": []
    },
    {
      "cell_type": "code",
      "source": [
        "df.shape"
      ],
      "metadata": {
        "colab": {
          "base_uri": "https://localhost:8080/"
        },
        "id": "kgLbjoersp02",
        "outputId": "b173d2c4-011d-41a3-f669-f21d13fa8c71"
      },
      "execution_count": 25,
      "outputs": [
        {
          "output_type": "execute_result",
          "data": {
            "text/plain": [
              "(29, 17)"
            ]
          },
          "metadata": {},
          "execution_count": 25
        }
      ]
    },
    {
      "cell_type": "code",
      "source": [
        "#statistics of data after removing outliers\n",
        "\n",
        "df.describe()"
      ],
      "metadata": {
        "colab": {
          "base_uri": "https://localhost:8080/",
          "height": 345
        },
        "id": "IR-KmVs4smxR",
        "outputId": "ded0ea8a-7340-40d2-e16c-f51e5a19679c"
      },
      "execution_count": 24,
      "outputs": [
        {
          "output_type": "execute_result",
          "data": {
            "text/plain": [
              "             Wins        Runs      At_Bats         Hits     Doubles  \\\n",
              "count   29.000000   29.000000    29.000000    29.000000   29.000000   \n",
              "mean    80.551724  681.241379  5516.517241  1400.896552  273.586207   \n",
              "std     10.384006   45.357040    71.701076    56.264265   17.269952   \n",
              "min     63.000000  573.000000  5385.000000  1324.000000  236.000000   \n",
              "25%     74.000000  650.000000  5463.000000  1363.000000  262.000000   \n",
              "50%     81.000000  689.000000  5511.000000  1382.000000  274.000000   \n",
              "75%     87.000000  713.000000  5571.000000  1420.000000  288.000000   \n",
              "max    100.000000  764.000000  5649.000000  1515.000000  303.000000   \n",
              "\n",
              "         Triples    Homeruns       Walks   Strikeouts  Stolen_Bases  \\\n",
              "count  29.000000   29.000000   29.000000    29.000000     29.000000   \n",
              "mean   31.793103  161.275862  465.620690  1251.551724     83.344828   \n",
              "std    10.276114   29.600792   54.728821   103.930123     23.202949   \n",
              "min    13.000000  100.000000  375.000000   973.000000     44.000000   \n",
              "25%    26.000000  140.000000  426.000000  1159.000000     69.000000   \n",
              "50%    32.000000  156.000000  471.000000  1264.000000     83.000000   \n",
              "75%    39.000000  177.000000  496.000000  1312.000000     97.000000   \n",
              "max    49.000000  230.000000  567.000000  1518.000000    134.000000   \n",
              "\n",
              "       Runs_Allowed   Earned_Runs  Earned_Run_Average  Complete_Games   \\\n",
              "count     29.000000     29.000000           29.000000        29.000000   \n",
              "mean     688.862069    636.758621            3.961724         3.344828   \n",
              "std       73.300616     71.195734            0.461148         2.729153   \n",
              "min      525.000000    478.000000            2.940000         0.000000   \n",
              "25%      635.000000    584.000000            3.670000         1.000000   \n",
              "50%      698.000000    646.000000            4.030000         3.000000   \n",
              "75%      733.000000    680.000000            4.240000         5.000000   \n",
              "max      844.000000    799.000000            5.040000        11.000000   \n",
              "\n",
              "        Shutouts      Saves      Errors  \n",
              "count  29.000000  29.000000   29.000000  \n",
              "mean   11.344828  43.379310   94.551724  \n",
              "std     4.185655   7.816712   14.153713  \n",
              "min     4.000000  28.000000   75.000000  \n",
              "25%     9.000000  38.000000   86.000000  \n",
              "50%    12.000000  43.000000   92.000000  \n",
              "75%    13.000000  47.000000   97.000000  \n",
              "max    21.000000  62.000000  126.000000  "
            ],
            "text/html": [
              "\n",
              "  <div id=\"df-defb64fe-b994-449b-88f5-f1019222e4d5\">\n",
              "    <div class=\"colab-df-container\">\n",
              "      <div>\n",
              "<style scoped>\n",
              "    .dataframe tbody tr th:only-of-type {\n",
              "        vertical-align: middle;\n",
              "    }\n",
              "\n",
              "    .dataframe tbody tr th {\n",
              "        vertical-align: top;\n",
              "    }\n",
              "\n",
              "    .dataframe thead th {\n",
              "        text-align: right;\n",
              "    }\n",
              "</style>\n",
              "<table border=\"1\" class=\"dataframe\">\n",
              "  <thead>\n",
              "    <tr style=\"text-align: right;\">\n",
              "      <th></th>\n",
              "      <th>Wins</th>\n",
              "      <th>Runs</th>\n",
              "      <th>At_Bats</th>\n",
              "      <th>Hits</th>\n",
              "      <th>Doubles</th>\n",
              "      <th>Triples</th>\n",
              "      <th>Homeruns</th>\n",
              "      <th>Walks</th>\n",
              "      <th>Strikeouts</th>\n",
              "      <th>Stolen_Bases</th>\n",
              "      <th>Runs_Allowed</th>\n",
              "      <th>Earned_Runs</th>\n",
              "      <th>Earned_Run_Average</th>\n",
              "      <th>Complete_Games</th>\n",
              "      <th>Shutouts</th>\n",
              "      <th>Saves</th>\n",
              "      <th>Errors</th>\n",
              "    </tr>\n",
              "  </thead>\n",
              "  <tbody>\n",
              "    <tr>\n",
              "      <th>count</th>\n",
              "      <td>29.000000</td>\n",
              "      <td>29.000000</td>\n",
              "      <td>29.000000</td>\n",
              "      <td>29.000000</td>\n",
              "      <td>29.000000</td>\n",
              "      <td>29.000000</td>\n",
              "      <td>29.000000</td>\n",
              "      <td>29.000000</td>\n",
              "      <td>29.000000</td>\n",
              "      <td>29.000000</td>\n",
              "      <td>29.000000</td>\n",
              "      <td>29.000000</td>\n",
              "      <td>29.000000</td>\n",
              "      <td>29.000000</td>\n",
              "      <td>29.000000</td>\n",
              "      <td>29.000000</td>\n",
              "      <td>29.000000</td>\n",
              "    </tr>\n",
              "    <tr>\n",
              "      <th>mean</th>\n",
              "      <td>80.551724</td>\n",
              "      <td>681.241379</td>\n",
              "      <td>5516.517241</td>\n",
              "      <td>1400.896552</td>\n",
              "      <td>273.586207</td>\n",
              "      <td>31.793103</td>\n",
              "      <td>161.275862</td>\n",
              "      <td>465.620690</td>\n",
              "      <td>1251.551724</td>\n",
              "      <td>83.344828</td>\n",
              "      <td>688.862069</td>\n",
              "      <td>636.758621</td>\n",
              "      <td>3.961724</td>\n",
              "      <td>3.344828</td>\n",
              "      <td>11.344828</td>\n",
              "      <td>43.379310</td>\n",
              "      <td>94.551724</td>\n",
              "    </tr>\n",
              "    <tr>\n",
              "      <th>std</th>\n",
              "      <td>10.384006</td>\n",
              "      <td>45.357040</td>\n",
              "      <td>71.701076</td>\n",
              "      <td>56.264265</td>\n",
              "      <td>17.269952</td>\n",
              "      <td>10.276114</td>\n",
              "      <td>29.600792</td>\n",
              "      <td>54.728821</td>\n",
              "      <td>103.930123</td>\n",
              "      <td>23.202949</td>\n",
              "      <td>73.300616</td>\n",
              "      <td>71.195734</td>\n",
              "      <td>0.461148</td>\n",
              "      <td>2.729153</td>\n",
              "      <td>4.185655</td>\n",
              "      <td>7.816712</td>\n",
              "      <td>14.153713</td>\n",
              "    </tr>\n",
              "    <tr>\n",
              "      <th>min</th>\n",
              "      <td>63.000000</td>\n",
              "      <td>573.000000</td>\n",
              "      <td>5385.000000</td>\n",
              "      <td>1324.000000</td>\n",
              "      <td>236.000000</td>\n",
              "      <td>13.000000</td>\n",
              "      <td>100.000000</td>\n",
              "      <td>375.000000</td>\n",
              "      <td>973.000000</td>\n",
              "      <td>44.000000</td>\n",
              "      <td>525.000000</td>\n",
              "      <td>478.000000</td>\n",
              "      <td>2.940000</td>\n",
              "      <td>0.000000</td>\n",
              "      <td>4.000000</td>\n",
              "      <td>28.000000</td>\n",
              "      <td>75.000000</td>\n",
              "    </tr>\n",
              "    <tr>\n",
              "      <th>25%</th>\n",
              "      <td>74.000000</td>\n",
              "      <td>650.000000</td>\n",
              "      <td>5463.000000</td>\n",
              "      <td>1363.000000</td>\n",
              "      <td>262.000000</td>\n",
              "      <td>26.000000</td>\n",
              "      <td>140.000000</td>\n",
              "      <td>426.000000</td>\n",
              "      <td>1159.000000</td>\n",
              "      <td>69.000000</td>\n",
              "      <td>635.000000</td>\n",
              "      <td>584.000000</td>\n",
              "      <td>3.670000</td>\n",
              "      <td>1.000000</td>\n",
              "      <td>9.000000</td>\n",
              "      <td>38.000000</td>\n",
              "      <td>86.000000</td>\n",
              "    </tr>\n",
              "    <tr>\n",
              "      <th>50%</th>\n",
              "      <td>81.000000</td>\n",
              "      <td>689.000000</td>\n",
              "      <td>5511.000000</td>\n",
              "      <td>1382.000000</td>\n",
              "      <td>274.000000</td>\n",
              "      <td>32.000000</td>\n",
              "      <td>156.000000</td>\n",
              "      <td>471.000000</td>\n",
              "      <td>1264.000000</td>\n",
              "      <td>83.000000</td>\n",
              "      <td>698.000000</td>\n",
              "      <td>646.000000</td>\n",
              "      <td>4.030000</td>\n",
              "      <td>3.000000</td>\n",
              "      <td>12.000000</td>\n",
              "      <td>43.000000</td>\n",
              "      <td>92.000000</td>\n",
              "    </tr>\n",
              "    <tr>\n",
              "      <th>75%</th>\n",
              "      <td>87.000000</td>\n",
              "      <td>713.000000</td>\n",
              "      <td>5571.000000</td>\n",
              "      <td>1420.000000</td>\n",
              "      <td>288.000000</td>\n",
              "      <td>39.000000</td>\n",
              "      <td>177.000000</td>\n",
              "      <td>496.000000</td>\n",
              "      <td>1312.000000</td>\n",
              "      <td>97.000000</td>\n",
              "      <td>733.000000</td>\n",
              "      <td>680.000000</td>\n",
              "      <td>4.240000</td>\n",
              "      <td>5.000000</td>\n",
              "      <td>13.000000</td>\n",
              "      <td>47.000000</td>\n",
              "      <td>97.000000</td>\n",
              "    </tr>\n",
              "    <tr>\n",
              "      <th>max</th>\n",
              "      <td>100.000000</td>\n",
              "      <td>764.000000</td>\n",
              "      <td>5649.000000</td>\n",
              "      <td>1515.000000</td>\n",
              "      <td>303.000000</td>\n",
              "      <td>49.000000</td>\n",
              "      <td>230.000000</td>\n",
              "      <td>567.000000</td>\n",
              "      <td>1518.000000</td>\n",
              "      <td>134.000000</td>\n",
              "      <td>844.000000</td>\n",
              "      <td>799.000000</td>\n",
              "      <td>5.040000</td>\n",
              "      <td>11.000000</td>\n",
              "      <td>21.000000</td>\n",
              "      <td>62.000000</td>\n",
              "      <td>126.000000</td>\n",
              "    </tr>\n",
              "  </tbody>\n",
              "</table>\n",
              "</div>\n",
              "      <button class=\"colab-df-convert\" onclick=\"convertToInteractive('df-defb64fe-b994-449b-88f5-f1019222e4d5')\"\n",
              "              title=\"Convert this dataframe to an interactive table.\"\n",
              "              style=\"display:none;\">\n",
              "        \n",
              "  <svg xmlns=\"http://www.w3.org/2000/svg\" height=\"24px\"viewBox=\"0 0 24 24\"\n",
              "       width=\"24px\">\n",
              "    <path d=\"M0 0h24v24H0V0z\" fill=\"none\"/>\n",
              "    <path d=\"M18.56 5.44l.94 2.06.94-2.06 2.06-.94-2.06-.94-.94-2.06-.94 2.06-2.06.94zm-11 1L8.5 8.5l.94-2.06 2.06-.94-2.06-.94L8.5 2.5l-.94 2.06-2.06.94zm10 10l.94 2.06.94-2.06 2.06-.94-2.06-.94-.94-2.06-.94 2.06-2.06.94z\"/><path d=\"M17.41 7.96l-1.37-1.37c-.4-.4-.92-.59-1.43-.59-.52 0-1.04.2-1.43.59L10.3 9.45l-7.72 7.72c-.78.78-.78 2.05 0 2.83L4 21.41c.39.39.9.59 1.41.59.51 0 1.02-.2 1.41-.59l7.78-7.78 2.81-2.81c.8-.78.8-2.07 0-2.86zM5.41 20L4 18.59l7.72-7.72 1.47 1.35L5.41 20z\"/>\n",
              "  </svg>\n",
              "      </button>\n",
              "      \n",
              "  <style>\n",
              "    .colab-df-container {\n",
              "      display:flex;\n",
              "      flex-wrap:wrap;\n",
              "      gap: 12px;\n",
              "    }\n",
              "\n",
              "    .colab-df-convert {\n",
              "      background-color: #E8F0FE;\n",
              "      border: none;\n",
              "      border-radius: 50%;\n",
              "      cursor: pointer;\n",
              "      display: none;\n",
              "      fill: #1967D2;\n",
              "      height: 32px;\n",
              "      padding: 0 0 0 0;\n",
              "      width: 32px;\n",
              "    }\n",
              "\n",
              "    .colab-df-convert:hover {\n",
              "      background-color: #E2EBFA;\n",
              "      box-shadow: 0px 1px 2px rgba(60, 64, 67, 0.3), 0px 1px 3px 1px rgba(60, 64, 67, 0.15);\n",
              "      fill: #174EA6;\n",
              "    }\n",
              "\n",
              "    [theme=dark] .colab-df-convert {\n",
              "      background-color: #3B4455;\n",
              "      fill: #D2E3FC;\n",
              "    }\n",
              "\n",
              "    [theme=dark] .colab-df-convert:hover {\n",
              "      background-color: #434B5C;\n",
              "      box-shadow: 0px 1px 3px 1px rgba(0, 0, 0, 0.15);\n",
              "      filter: drop-shadow(0px 1px 2px rgba(0, 0, 0, 0.3));\n",
              "      fill: #FFFFFF;\n",
              "    }\n",
              "  </style>\n",
              "\n",
              "      <script>\n",
              "        const buttonEl =\n",
              "          document.querySelector('#df-defb64fe-b994-449b-88f5-f1019222e4d5 button.colab-df-convert');\n",
              "        buttonEl.style.display =\n",
              "          google.colab.kernel.accessAllowed ? 'block' : 'none';\n",
              "\n",
              "        async function convertToInteractive(key) {\n",
              "          const element = document.querySelector('#df-defb64fe-b994-449b-88f5-f1019222e4d5');\n",
              "          const dataTable =\n",
              "            await google.colab.kernel.invokeFunction('convertToInteractive',\n",
              "                                                     [key], {});\n",
              "          if (!dataTable) return;\n",
              "\n",
              "          const docLinkHtml = 'Like what you see? Visit the ' +\n",
              "            '<a target=\"_blank\" href=https://colab.research.google.com/notebooks/data_table.ipynb>data table notebook</a>'\n",
              "            + ' to learn more about interactive tables.';\n",
              "          element.innerHTML = '';\n",
              "          dataTable['output_type'] = 'display_data';\n",
              "          await google.colab.output.renderOutput(dataTable, element);\n",
              "          const docLink = document.createElement('div');\n",
              "          docLink.innerHTML = docLinkHtml;\n",
              "          element.appendChild(docLink);\n",
              "        }\n",
              "      </script>\n",
              "    </div>\n",
              "  </div>\n",
              "  "
            ]
          },
          "metadata": {},
          "execution_count": 24
        }
      ]
    },
    {
      "cell_type": "code",
      "execution_count": 26,
      "metadata": {
        "id": "1eS4Lws7VWhy"
      },
      "outputs": [],
      "source": [
        "X=df.drop(['Wins'],axis=1)\n",
        "y=df['Wins']"
      ]
    },
    {
      "cell_type": "code",
      "execution_count": 27,
      "metadata": {
        "colab": {
          "base_uri": "https://localhost:8080/",
          "height": 1000
        },
        "id": "iurfgOk_ZWLo",
        "outputId": "2f5f99d8-ead8-4d86-8456-55a4a6ed796b"
      },
      "outputs": [
        {
          "output_type": "display_data",
          "data": {
            "text/plain": [
              "<Figure size 1440x1080 with 16 Axes>"
            ],
            "image/png": "[encoded data removed]"
          },
          "metadata": {}
        }
      ],
      "source": [
        "plt.figure(figsize=(20,15),facecolor='yellow')\n",
        "plotnumber= 1\n",
        "\n",
        "for column in X:\n",
        "    if plotnumber <= 16:\n",
        "        ax=plt.subplot(4,4,plotnumber)\n",
        "        plt.scatter(X[column],y)\n",
        "        plt.xlabel(column,fontsize=10)\n",
        "        plt.ylabel('Wins',fontsize=10)\n",
        "        \n",
        "        \n",
        "    plotnumber+=1\n",
        "plt.tight_layout()"
      ]
    },
    {
      "cell_type": "markdown",
      "metadata": {
        "id": "9Pu2FGZSZxWc"
      },
      "source": [
        "At_bats, Hits, Runs_allowed, Earned_runs have zero relation with the Wins.\n",
        "\n",
        "most columns have linear relation with the target variable."
      ]
    },
    {
      "cell_type": "code",
      "source": [
        "from sklearn.feature_selection import SelectPercentile, chi2"
      ],
      "metadata": {
        "id": "CpEvsZsmtIuJ"
      },
      "execution_count": 37,
      "outputs": []
    },
    {
      "cell_type": "code",
      "source": [
        "X=df.drop(['Wins'],axis=1)\n",
        "y=df['Wins']"
      ],
      "metadata": {
        "id": "IFhcEQbGtMaw"
      },
      "execution_count": 38,
      "outputs": []
    },
    {
      "cell_type": "code",
      "source": [
        "SPercentile=SelectPercentile(score_func=chi2,percentile=80)\n",
        "\n",
        "SPercentile=SPercentile.fit(X,y)"
      ],
      "metadata": {
        "id": "yN4kB9yhtUEc"
      },
      "execution_count": 39,
      "outputs": []
    },
    {
      "cell_type": "code",
      "source": [
        "cols=SPercentile.get_support(indices=True)\n",
        "print('Features Index=',cols)\n",
        "\n",
        "\n",
        "features=X.columns[cols]\n",
        "print('Features',list(features))\n",
        "\n",
        "#THESE ARE 80% BEST FEATURES"
      ],
      "metadata": {
        "colab": {
          "base_uri": "https://localhost:8080/"
        },
        "id": "BPyB7Im9tXep",
        "outputId": "9971f028-2b02-4eff-9227-7536c30b89d4"
      },
      "execution_count": 40,
      "outputs": [
        {
          "output_type": "stream",
          "name": "stdout",
          "text": [
            "Features Index= [ 0  2  4  5  6  7  8  9 10 12 14 15]\n",
            "Features ['Runs', 'Hits', 'Triples', 'Homeruns', 'Walks', 'Strikeouts', 'Stolen_Bases', 'Runs_Allowed', ' Earned_Runs', 'Complete_Games ', 'Saves', 'Errors']\n"
          ]
        }
      ]
    },
    {
      "cell_type": "code",
      "source": [
        "df_scores=pd.DataFrame({'features':X.columns,'chi2score':SPercentile.scores_,'pvalue':SPercentile.pvalues_})\n",
        "\n",
        "df_scores.sort_values(by='chi2score',ascending=False)"
      ],
      "metadata": {
        "colab": {
          "base_uri": "https://localhost:8080/",
          "height": 551
        },
        "id": "8czdNJL7tZyi",
        "outputId": "7a2711b4-c6b5-442c-cd83-5d18ea924d26"
      },
      "execution_count": 41,
      "outputs": [
        {
          "output_type": "execute_result",
          "data": {
            "text/plain": [
              "              features   chi2score        pvalue\n",
              "7           Strikeouts  204.888061  1.254117e-31\n",
              "9         Runs_Allowed  197.101792  4.194304e-30\n",
              "10         Earned_Runs  191.050119  6.351106e-29\n",
              "8         Stolen_Bases  166.997587  2.809275e-24\n",
              "6                Walks  139.722802  4.056144e-19\n",
              "5             Homeruns  114.119949  2.016215e-14\n",
              "0                 Runs   76.195671  6.772880e-08\n",
              "4              Triples   69.598698  7.648404e-07\n",
              "15              Errors   53.473438  1.950212e-04\n",
              "2                 Hits   46.054095  1.946075e-03\n",
              "14               Saves   36.092342  2.968143e-02\n",
              "12     Complete_Games    35.542955  3.396964e-02\n",
              "13            Shutouts   35.512665  3.422149e-02\n",
              "3              Doubles   22.757121  4.155510e-01\n",
              "1              At_Bats   22.339380  4.397948e-01\n",
              "11  Earned_Run_Average    1.298537  1.000000e+00"
            ],
            "text/html": [
              "\n",
              "  <div id=\"df-8a46f3db-ec9a-4d21-a2b0-1ec9ca554e80\">\n",
              "    <div class=\"colab-df-container\">\n",
              "      <div>\n",
              "<style scoped>\n",
              "    .dataframe tbody tr th:only-of-type {\n",
              "        vertical-align: middle;\n",
              "    }\n",
              "\n",
              "    .dataframe tbody tr th {\n",
              "        vertical-align: top;\n",
              "    }\n",
              "\n",
              "    .dataframe thead th {\n",
              "        text-align: right;\n",
              "    }\n",
              "</style>\n",
              "<table border=\"1\" class=\"dataframe\">\n",
              "  <thead>\n",
              "    <tr style=\"text-align: right;\">\n",
              "      <th></th>\n",
              "      <th>features</th>\n",
              "      <th>chi2score</th>\n",
              "      <th>pvalue</th>\n",
              "    </tr>\n",
              "  </thead>\n",
              "  <tbody>\n",
              "    <tr>\n",
              "      <th>7</th>\n",
              "      <td>Strikeouts</td>\n",
              "      <td>204.888061</td>\n",
              "      <td>1.254117e-31</td>\n",
              "    </tr>\n",
              "    <tr>\n",
              "      <th>9</th>\n",
              "      <td>Runs_Allowed</td>\n",
              "      <td>197.101792</td>\n",
              "      <td>4.194304e-30</td>\n",
              "    </tr>\n",
              "    <tr>\n",
              "      <th>10</th>\n",
              "      <td>Earned_Runs</td>\n",
              "      <td>191.050119</td>\n",
              "      <td>6.351106e-29</td>\n",
              "    </tr>\n",
              "    <tr>\n",
              "      <th>8</th>\n",
              "      <td>Stolen_Bases</td>\n",
              "      <td>166.997587</td>\n",
              "      <td>2.809275e-24</td>\n",
              "    </tr>\n",
              "    <tr>\n",
              "      <th>6</th>\n",
              "      <td>Walks</td>\n",
              "      <td>139.722802</td>\n",
              "      <td>4.056144e-19</td>\n",
              "    </tr>\n",
              "    <tr>\n",
              "      <th>5</th>\n",
              "      <td>Homeruns</td>\n",
              "      <td>114.119949</td>\n",
              "      <td>2.016215e-14</td>\n",
              "    </tr>\n",
              "    <tr>\n",
              "      <th>0</th>\n",
              "      <td>Runs</td>\n",
              "      <td>76.195671</td>\n",
              "      <td>6.772880e-08</td>\n",
              "    </tr>\n",
              "    <tr>\n",
              "      <th>4</th>\n",
              "      <td>Triples</td>\n",
              "      <td>69.598698</td>\n",
              "      <td>7.648404e-07</td>\n",
              "    </tr>\n",
              "    <tr>\n",
              "      <th>15</th>\n",
              "      <td>Errors</td>\n",
              "      <td>53.473438</td>\n",
              "      <td>1.950212e-04</td>\n",
              "    </tr>\n",
              "    <tr>\n",
              "      <th>2</th>\n",
              "      <td>Hits</td>\n",
              "      <td>46.054095</td>\n",
              "      <td>1.946075e-03</td>\n",
              "    </tr>\n",
              "    <tr>\n",
              "      <th>14</th>\n",
              "      <td>Saves</td>\n",
              "      <td>36.092342</td>\n",
              "      <td>2.968143e-02</td>\n",
              "    </tr>\n",
              "    <tr>\n",
              "      <th>12</th>\n",
              "      <td>Complete_Games</td>\n",
              "      <td>35.542955</td>\n",
              "      <td>3.396964e-02</td>\n",
              "    </tr>\n",
              "    <tr>\n",
              "      <th>13</th>\n",
              "      <td>Shutouts</td>\n",
              "      <td>35.512665</td>\n",
              "      <td>3.422149e-02</td>\n",
              "    </tr>\n",
              "    <tr>\n",
              "      <th>3</th>\n",
              "      <td>Doubles</td>\n",
              "      <td>22.757121</td>\n",
              "      <td>4.155510e-01</td>\n",
              "    </tr>\n",
              "    <tr>\n",
              "      <th>1</th>\n",
              "      <td>At_Bats</td>\n",
              "      <td>22.339380</td>\n",
              "      <td>4.397948e-01</td>\n",
              "    </tr>\n",
              "    <tr>\n",
              "      <th>11</th>\n",
              "      <td>Earned_Run_Average</td>\n",
              "      <td>1.298537</td>\n",
              "      <td>1.000000e+00</td>\n",
              "    </tr>\n",
              "  </tbody>\n",
              "</table>\n",
              "</div>\n",
              "      <button class=\"colab-df-convert\" onclick=\"convertToInteractive('df-8a46f3db-ec9a-4d21-a2b0-1ec9ca554e80')\"\n",
              "              title=\"Convert this dataframe to an interactive table.\"\n",
              "              style=\"display:none;\">\n",
              "        \n",
              "  <svg xmlns=\"http://www.w3.org/2000/svg\" height=\"24px\"viewBox=\"0 0 24 24\"\n",
              "       width=\"24px\">\n",
              "    <path d=\"M0 0h24v24H0V0z\" fill=\"none\"/>\n",
              "    <path d=\"M18.56 5.44l.94 2.06.94-2.06 2.06-.94-2.06-.94-.94-2.06-.94 2.06-2.06.94zm-11 1L8.5 8.5l.94-2.06 2.06-.94-2.06-.94L8.5 2.5l-.94 2.06-2.06.94zm10 10l.94 2.06.94-2.06 2.06-.94-2.06-.94-.94-2.06-.94 2.06-2.06.94z\"/><path d=\"M17.41 7.96l-1.37-1.37c-.4-.4-.92-.59-1.43-.59-.52 0-1.04.2-1.43.59L10.3 9.45l-7.72 7.72c-.78.78-.78 2.05 0 2.83L4 21.41c.39.39.9.59 1.41.59.51 0 1.02-.2 1.41-.59l7.78-7.78 2.81-2.81c.8-.78.8-2.07 0-2.86zM5.41 20L4 18.59l7.72-7.72 1.47 1.35L5.41 20z\"/>\n",
              "  </svg>\n",
              "      </button>\n",
              "      \n",
              "  <style>\n",
              "    .colab-df-container {\n",
              "      display:flex;\n",
              "      flex-wrap:wrap;\n",
              "      gap: 12px;\n",
              "    }\n",
              "\n",
              "    .colab-df-convert {\n",
              "      background-color: #E8F0FE;\n",
              "      border: none;\n",
              "      border-radius: 50%;\n",
              "      cursor: pointer;\n",
              "      display: none;\n",
              "      fill: #1967D2;\n",
              "      height: 32px;\n",
              "      padding: 0 0 0 0;\n",
              "      width: 32px;\n",
              "    }\n",
              "\n",
              "    .colab-df-convert:hover {\n",
              "      background-color: #E2EBFA;\n",
              "      box-shadow: 0px 1px 2px rgba(60, 64, 67, 0.3), 0px 1px 3px 1px rgba(60, 64, 67, 0.15);\n",
              "      fill: #174EA6;\n",
              "    }\n",
              "\n",
              "    [theme=dark] .colab-df-convert {\n",
              "      background-color: #3B4455;\n",
              "      fill: #D2E3FC;\n",
              "    }\n",
              "\n",
              "    [theme=dark] .colab-df-convert:hover {\n",
              "      background-color: #434B5C;\n",
              "      box-shadow: 0px 1px 3px 1px rgba(0, 0, 0, 0.15);\n",
              "      filter: drop-shadow(0px 1px 2px rgba(0, 0, 0, 0.3));\n",
              "      fill: #FFFFFF;\n",
              "    }\n",
              "  </style>\n",
              "\n",
              "      <script>\n",
              "        const buttonEl =\n",
              "          document.querySelector('#df-8a46f3db-ec9a-4d21-a2b0-1ec9ca554e80 button.colab-df-convert');\n",
              "        buttonEl.style.display =\n",
              "          google.colab.kernel.accessAllowed ? 'block' : 'none';\n",
              "\n",
              "        async function convertToInteractive(key) {\n",
              "          const element = document.querySelector('#df-8a46f3db-ec9a-4d21-a2b0-1ec9ca554e80');\n",
              "          const dataTable =\n",
              "            await google.colab.kernel.invokeFunction('convertToInteractive',\n",
              "                                                     [key], {});\n",
              "          if (!dataTable) return;\n",
              "\n",
              "          const docLinkHtml = 'Like what you see? Visit the ' +\n",
              "            '<a target=\"_blank\" href=https://colab.research.google.com/notebooks/data_table.ipynb>data table notebook</a>'\n",
              "            + ' to learn more about interactive tables.';\n",
              "          element.innerHTML = '';\n",
              "          dataTable['output_type'] = 'display_data';\n",
              "          await google.colab.output.renderOutput(dataTable, element);\n",
              "          const docLink = document.createElement('div');\n",
              "          docLink.innerHTML = docLinkHtml;\n",
              "          element.appendChild(docLink);\n",
              "        }\n",
              "      </script>\n",
              "    </div>\n",
              "  </div>\n",
              "  "
            ]
          },
          "metadata": {},
          "execution_count": 41
        }
      ]
    },
    {
      "cell_type": "code",
      "source": [
        "#creating subset of selected features\n",
        "\n",
        "X=df[features]\n",
        "\n",
        "y=df['Wins']"
      ],
      "metadata": {
        "id": "NlVhmbV8tf-4"
      },
      "execution_count": 42,
      "outputs": []
    },
    {
      "cell_type": "code",
      "source": [
        "from sklearn.preprocessing import StandardScaler"
      ],
      "metadata": {
        "id": "F12buxiutuoy"
      },
      "execution_count": 43,
      "outputs": []
    },
    {
      "cell_type": "code",
      "source": [
        "scaler=StandardScaler()\n",
        "X_scaler=scaler.fit_transform(X)"
      ],
      "metadata": {
        "id": "0qQT7yyGtxo-"
      },
      "execution_count": 44,
      "outputs": []
    },
    {
      "cell_type": "code",
      "execution_count": 45,
      "metadata": {
        "id": "I8tMlnZQXMtV"
      },
      "outputs": [],
      "source": [
        "from sklearn.linear_model import LinearRegression\n",
        "from sklearn.ensemble import RandomForestRegressor\n",
        "from sklearn.tree import DecisionTreeRegressor\n",
        "import xgboost as xgb\n",
        "\n",
        "from sklearn.model_selection import train_test_split\n",
        "from sklearn.metrics import r2_score\n",
        "from sklearn.metrics import  mean_squared_error,mean_absolute_error\n",
        "from sklearn.linear_model import Lasso, Ridge, LassoCV, RidgeCV\n",
        "lr=LinearRegression()\n",
        "rf=RandomForestRegressor()\n",
        "dt=DecisionTreeRegressor()\n"
      ]
    },
    {
      "cell_type": "code",
      "execution_count": 54,
      "metadata": {
        "id": "3j1-qJBBb6S-"
      },
      "outputs": [],
      "source": [
        "for i in range(0,100):\n",
        "  x_train,x_test,y_train,y_test=train_test_split(X_scaler,y,test_size=0.20,random_state=i)\n",
        "  lr.fit(x_train,y_train)\n",
        "  pred_train=lr.predict(x_train)\n",
        "  pred_test=lr.predict(x_test)\n",
        "  if round(r2_score(y_train,pred_train)*100,1)==round(r2_score(y_test,pred_test)*100,1):\n",
        "    print('At random state',i,'the model performs well')\n",
        "    print('At random state',i)\n",
        "    print('Training accuracy of data is :-',r2_score(y_train,pred_train)*100)\n",
        "    print('Testing accuracy of data is :-',r2_score(y_test,pred_test)*100)\n",
        "    print('\\n')"
      ]
    },
    {
      "cell_type": "code",
      "execution_count": 48,
      "metadata": {
        "id": "quwK6SUQ1fax"
      },
      "outputs": [],
      "source": [
        "x_train,x_test,y_train,y_test=train_test_split(X,y,test_size=0.2,random_state=99)"
      ]
    },
    {
      "cell_type": "code",
      "execution_count": 49,
      "metadata": {
        "colab": {
          "base_uri": "https://localhost:8080/"
        },
        "id": "0SjfoXsn1iv_",
        "outputId": "6401d48c-da8f-4720-9a5f-021b59a19509"
      },
      "outputs": [
        {
          "output_type": "execute_result",
          "data": {
            "text/plain": [
              "LinearRegression()"
            ]
          },
          "metadata": {},
          "execution_count": 49
        }
      ],
      "source": [
        "#train the model\n",
        "\n",
        "lr.fit(x_train,y_train)"
      ]
    },
    {
      "cell_type": "code",
      "execution_count": 50,
      "metadata": {
        "id": "cpNVv6CM1rza"
      },
      "outputs": [],
      "source": [
        "pred_test=lr.predict(x_test)"
      ]
    },
    {
      "cell_type": "code",
      "execution_count": 51,
      "metadata": {
        "colab": {
          "base_uri": "https://localhost:8080/"
        },
        "id": "BTkX7UzG1zVO",
        "outputId": "bade78e0-6ee2-4791-b6c3-46507f3abefc"
      },
      "outputs": [
        {
          "output_type": "stream",
          "name": "stdout",
          "text": [
            "0.8774713038174338\n"
          ]
        }
      ],
      "source": [
        "print(r2_score(y_test,pred_test))"
      ]
    },
    {
      "cell_type": "markdown",
      "metadata": {
        "id": "SaaqL_Qh1-jH"
      },
      "source": [
        "#Cross Validation "
      ]
    },
    {
      "cell_type": "code",
      "execution_count": 52,
      "metadata": {
        "colab": {
          "base_uri": "https://localhost:8080/"
        },
        "id": "fH1FfWB517_f",
        "outputId": "4b60b7a7-34cb-47ef-e415-2ff8b284ff0d"
      },
      "outputs": [
        {
          "output_type": "stream",
          "name": "stdout",
          "text": [
            "At cross fold 2 cv score is -2.1363784668852133 and the accuracy score is -1.2533065818781548 and testing score is 0.8774713038174338\n",
            "\n",
            "\n",
            "At cross fold 3 cv score is 0.09668653146520008 and the accuracy score is -1.2533065818781548 and testing score is 0.8774713038174338\n",
            "\n",
            "\n",
            "At cross fold 4 cv score is 0.5229088792775246 and the accuracy score is -1.2533065818781548 and testing score is 0.8774713038174338\n",
            "\n",
            "\n",
            "At cross fold 5 cv score is 0.1385801035950763 and the accuracy score is -1.2533065818781548 and testing score is 0.8774713038174338\n",
            "\n",
            "\n",
            "At cross fold 6 cv score is 0.35866306398438175 and the accuracy score is -1.2533065818781548 and testing score is 0.8774713038174338\n",
            "\n",
            "\n",
            "At cross fold 7 cv score is 0.11716728371034964 and the accuracy score is -1.2533065818781548 and testing score is 0.8774713038174338\n",
            "\n",
            "\n",
            "At cross fold 8 cv score is 0.19262491862381698 and the accuracy score is -1.2533065818781548 and testing score is 0.8774713038174338\n",
            "\n",
            "\n",
            "At cross fold 9 cv score is -6.94228546556875 and the accuracy score is -1.2533065818781548 and testing score is 0.8774713038174338\n",
            "\n",
            "\n"
          ]
        }
      ],
      "source": [
        "train_accuracy=r2_score(y_train,pred_train)\n",
        "test_accuracy=r2_score(y_test,pred_test)\n",
        "\n",
        "from sklearn.model_selection import cross_val_score\n",
        "\n",
        "for i in range(2,10):\n",
        "  cv_score=cross_val_score(lr,X,y,cv=i)\n",
        "  cv_mean=cv_score.mean()\n",
        "  print(f'At cross fold {i} cv score is {cv_mean} and the accuracy score is {train_accuracy} and testing score is {test_accuracy}')\n",
        "  print('\\n')"
      ]
    },
    {
      "cell_type": "markdown",
      "metadata": {
        "id": "8bx8KH1a4B7V"
      },
      "source": [
        "We will take cv score is 3"
      ]
    },
    {
      "cell_type": "code",
      "execution_count": 55,
      "metadata": {
        "colab": {
          "base_uri": "https://localhost:8080/"
        },
        "id": "CtatpwX93vxI",
        "outputId": "1ce75b96-a11d-45fb-8907-369ebca57d06"
      },
      "outputs": [
        {
          "output_type": "stream",
          "name": "stdout",
          "text": [
            "the cv score is 0.09668653146520008 and the accuracy score is 0.8774713038174338\n"
          ]
        }
      ],
      "source": [
        "cv_score=cross_val_score(lr,X,y,cv=3).mean()\n",
        "\n",
        "print(f'the cv score is {cv_score} and the accuracy score is {test_accuracy}')"
      ]
    },
    {
      "cell_type": "markdown",
      "metadata": {
        "id": "cUwxfPNK5rrq"
      },
      "source": []
    },
    {
      "cell_type": "markdown",
      "metadata": {
        "id": "OT_87r755r0C"
      },
      "source": [
        "#Randomforest Regressor"
      ]
    },
    {
      "cell_type": "code",
      "execution_count": 56,
      "metadata": {
        "id": "HgV165XZ5orJ"
      },
      "outputs": [],
      "source": [
        "from sklearn.ensemble import RandomForestRegressor"
      ]
    },
    {
      "cell_type": "code",
      "execution_count": 57,
      "metadata": {
        "id": "6QNuQFU46Iwk"
      },
      "outputs": [],
      "source": [
        "rf=RandomForestRegressor()"
      ]
    },
    {
      "cell_type": "code",
      "execution_count": 58,
      "metadata": {
        "colab": {
          "base_uri": "https://localhost:8080/"
        },
        "id": "rj_j0BJg6QO0",
        "outputId": "d3130f57-cc65-4ca8-a0be-0be7d17a7169"
      },
      "outputs": [
        {
          "output_type": "execute_result",
          "data": {
            "text/plain": [
              "RandomForestRegressor()"
            ]
          },
          "metadata": {},
          "execution_count": 58
        }
      ],
      "source": [
        "rf.fit(x_train,y_train)"
      ]
    },
    {
      "cell_type": "code",
      "source": [],
      "metadata": {
        "id": "QHu3LiDCTSIe"
      },
      "execution_count": 58,
      "outputs": []
    },
    {
      "cell_type": "code",
      "execution_count": 59,
      "metadata": {
        "id": "N2-wIzbL6Vsk"
      },
      "outputs": [],
      "source": [
        "rf_train_pred=rf.predict(x_train)"
      ]
    },
    {
      "cell_type": "code",
      "source": [
        "rf_test_pred=rf.predict(x_test)"
      ],
      "metadata": {
        "id": "0W4L4eloL5ko"
      },
      "execution_count": 60,
      "outputs": []
    },
    {
      "cell_type": "code",
      "source": [
        "print(r2_score(y_test,rf_test_pred))"
      ],
      "metadata": {
        "colab": {
          "base_uri": "https://localhost:8080/"
        },
        "id": "vUrS7YSZL-ef",
        "outputId": "1266453e-a496-4e5d-fbd1-a4431d5286c8"
      },
      "execution_count": 61,
      "outputs": [
        {
          "output_type": "stream",
          "name": "stdout",
          "text": [
            "0.7523532774945376\n"
          ]
        }
      ]
    },
    {
      "cell_type": "markdown",
      "source": [
        "#Decision Tree Regressor"
      ],
      "metadata": {
        "id": "pbQ9xNzQMN4u"
      }
    },
    {
      "cell_type": "code",
      "source": [
        "from sklearn.tree import DecisionTreeRegressor"
      ],
      "metadata": {
        "id": "zIVe1sy1ML-j"
      },
      "execution_count": 62,
      "outputs": []
    },
    {
      "cell_type": "code",
      "source": [
        "dt=DecisionTreeRegressor()"
      ],
      "metadata": {
        "id": "JPGHTt22MgKX"
      },
      "execution_count": 63,
      "outputs": []
    },
    {
      "cell_type": "code",
      "source": [
        "dt.fit(x_train,y_train)"
      ],
      "metadata": {
        "colab": {
          "base_uri": "https://localhost:8080/"
        },
        "id": "_lCGBd-KMjJp",
        "outputId": "9bae9257-1d4a-4d19-8f05-edc40de4956c"
      },
      "execution_count": 64,
      "outputs": [
        {
          "output_type": "execute_result",
          "data": {
            "text/plain": [
              "DecisionTreeRegressor()"
            ]
          },
          "metadata": {},
          "execution_count": 64
        }
      ]
    },
    {
      "cell_type": "code",
      "source": [
        "dt_train_pred=dt.predict(x_train)"
      ],
      "metadata": {
        "id": "Qn4fy4tQMo53"
      },
      "execution_count": 65,
      "outputs": []
    },
    {
      "cell_type": "code",
      "source": [
        "dt_test_pred=dt.predict(x_test)"
      ],
      "metadata": {
        "id": "NrHqSvjQMvSu"
      },
      "execution_count": 66,
      "outputs": []
    },
    {
      "cell_type": "code",
      "source": [
        "print(r2_score(y_test,dt_test_pred))"
      ],
      "metadata": {
        "colab": {
          "base_uri": "https://localhost:8080/"
        },
        "id": "Dn0iBDZVM0TR",
        "outputId": "d09f65d3-36b8-4db1-a0a9-60b7004234fe"
      },
      "execution_count": 67,
      "outputs": [
        {
          "output_type": "stream",
          "name": "stdout",
          "text": [
            "0.6678805535324108\n"
          ]
        }
      ]
    },
    {
      "cell_type": "markdown",
      "source": [
        "#SAVING THE MODEL"
      ],
      "metadata": {
        "id": "N5bYG4B8vifu"
      }
    },
    {
      "cell_type": "code",
      "source": [
        "import joblib"
      ],
      "metadata": {
        "id": "6eEsJT6uu5XJ"
      },
      "execution_count": 68,
      "outputs": []
    },
    {
      "cell_type": "code",
      "source": [
        "joblib.dump(lr,'baseball.obj')"
      ],
      "metadata": {
        "colab": {
          "base_uri": "https://localhost:8080/"
        },
        "id": "Lf9OWDgFvDyO",
        "outputId": "227d7f46-bd11-452c-cb02-07fd80db060f"
      },
      "execution_count": 69,
      "outputs": [
        {
          "output_type": "execute_result",
          "data": {
            "text/plain": [
              "['baseball.obj']"
            ]
          },
          "metadata": {},
          "execution_count": 69
        }
      ]
    },
    {
      "cell_type": "code",
      "source": [
        "model=joblib.load('baseball.obj')"
      ],
      "metadata": {
        "id": "GAxj3lbYvMXN"
      },
      "execution_count": 71,
      "outputs": []
    },
    {
      "cell_type": "code",
      "source": [
        "result=model.predict(x_test)"
      ],
      "metadata": {
        "id": "UBQKcUzGvUXv"
      },
      "execution_count": 72,
      "outputs": []
    },
    {
      "cell_type": "code",
      "source": [
        "r2_score(y_test,result)"
      ],
      "metadata": {
        "colab": {
          "base_uri": "https://localhost:8080/"
        },
        "id": "6iO5Rcz_vW4f",
        "outputId": "537ab7c9-c2d6-479b-be52-8f4b01af73de"
      },
      "execution_count": 73,
      "outputs": [
        {
          "output_type": "execute_result",
          "data": {
            "text/plain": [
              "0.8774713038174338"
            ]
          },
          "metadata": {},
          "execution_count": 73
        }
      ]
    },
    {
      "cell_type": "code",
      "source": [
        "predicted_values=pd.DataFrame({'Actual':y_test,'Predicted':result})"
      ],
      "metadata": {
        "id": "-nstbvMcvaUs"
      },
      "execution_count": 74,
      "outputs": []
    },
    {
      "cell_type": "code",
      "source": [
        "predicted_values"
      ],
      "metadata": {
        "colab": {
          "base_uri": "https://localhost:8080/",
          "height": 238
        },
        "id": "Atqi2cXtvbgU",
        "outputId": "f255cd55-2633-4350-90a2-6dcf818eec1c"
      },
      "execution_count": 75,
      "outputs": [
        {
          "output_type": "execute_result",
          "data": {
            "text/plain": [
              "    Actual  Predicted\n",
              "23      67  67.502445\n",
              "24      63  61.498287\n",
              "17      97  89.394428\n",
              "13      76  74.990062\n",
              "21      83  86.723994\n",
              "25      92  85.924296"
            ],
            "text/html": [
              "\n",
              "  <div id=\"df-32c2dc14-629f-4e69-8a48-bb0fe06af2ad\">\n",
              "    <div class=\"colab-df-container\">\n",
              "      <div>\n",
              "<style scoped>\n",
              "    .dataframe tbody tr th:only-of-type {\n",
              "        vertical-align: middle;\n",
              "    }\n",
              "\n",
              "    .dataframe tbody tr th {\n",
              "        vertical-align: top;\n",
              "    }\n",
              "\n",
              "    .dataframe thead th {\n",
              "        text-align: right;\n",
              "    }\n",
              "</style>\n",
              "<table border=\"1\" class=\"dataframe\">\n",
              "  <thead>\n",
              "    <tr style=\"text-align: right;\">\n",
              "      <th></th>\n",
              "      <th>Actual</th>\n",
              "      <th>Predicted</th>\n",
              "    </tr>\n",
              "  </thead>\n",
              "  <tbody>\n",
              "    <tr>\n",
              "      <th>23</th>\n",
              "      <td>67</td>\n",
              "      <td>67.502445</td>\n",
              "    </tr>\n",
              "    <tr>\n",
              "      <th>24</th>\n",
              "      <td>63</td>\n",
              "      <td>61.498287</td>\n",
              "    </tr>\n",
              "    <tr>\n",
              "      <th>17</th>\n",
              "      <td>97</td>\n",
              "      <td>89.394428</td>\n",
              "    </tr>\n",
              "    <tr>\n",
              "      <th>13</th>\n",
              "      <td>76</td>\n",
              "      <td>74.990062</td>\n",
              "    </tr>\n",
              "    <tr>\n",
              "      <th>21</th>\n",
              "      <td>83</td>\n",
              "      <td>86.723994</td>\n",
              "    </tr>\n",
              "    <tr>\n",
              "      <th>25</th>\n",
              "      <td>92</td>\n",
              "      <td>85.924296</td>\n",
              "    </tr>\n",
              "  </tbody>\n",
              "</table>\n",
              "</div>\n",
              "      <button class=\"colab-df-convert\" onclick=\"convertToInteractive('df-32c2dc14-629f-4e69-8a48-bb0fe06af2ad')\"\n",
              "              title=\"Convert this dataframe to an interactive table.\"\n",
              "              style=\"display:none;\">\n",
              "        \n",
              "  <svg xmlns=\"http://www.w3.org/2000/svg\" height=\"24px\"viewBox=\"0 0 24 24\"\n",
              "       width=\"24px\">\n",
              "    <path d=\"M0 0h24v24H0V0z\" fill=\"none\"/>\n",
              "    <path d=\"M18.56 5.44l.94 2.06.94-2.06 2.06-.94-2.06-.94-.94-2.06-.94 2.06-2.06.94zm-11 1L8.5 8.5l.94-2.06 2.06-.94-2.06-.94L8.5 2.5l-.94 2.06-2.06.94zm10 10l.94 2.06.94-2.06 2.06-.94-2.06-.94-.94-2.06-.94 2.06-2.06.94z\"/><path d=\"M17.41 7.96l-1.37-1.37c-.4-.4-.92-.59-1.43-.59-.52 0-1.04.2-1.43.59L10.3 9.45l-7.72 7.72c-.78.78-.78 2.05 0 2.83L4 21.41c.39.39.9.59 1.41.59.51 0 1.02-.2 1.41-.59l7.78-7.78 2.81-2.81c.8-.78.8-2.07 0-2.86zM5.41 20L4 18.59l7.72-7.72 1.47 1.35L5.41 20z\"/>\n",
              "  </svg>\n",
              "      </button>\n",
              "      \n",
              "  <style>\n",
              "    .colab-df-container {\n",
              "      display:flex;\n",
              "      flex-wrap:wrap;\n",
              "      gap: 12px;\n",
              "    }\n",
              "\n",
              "    .colab-df-convert {\n",
              "      background-color: #E8F0FE;\n",
              "      border: none;\n",
              "      border-radius: 50%;\n",
              "      cursor: pointer;\n",
              "      display: none;\n",
              "      fill: #1967D2;\n",
              "      height: 32px;\n",
              "      padding: 0 0 0 0;\n",
              "      width: 32px;\n",
              "    }\n",
              "\n",
              "    .colab-df-convert:hover {\n",
              "      background-color: #E2EBFA;\n",
              "      box-shadow: 0px 1px 2px rgba(60, 64, 67, 0.3), 0px 1px 3px 1px rgba(60, 64, 67, 0.15);\n",
              "      fill: #174EA6;\n",
              "    }\n",
              "\n",
              "    [theme=dark] .colab-df-convert {\n",
              "      background-color: #3B4455;\n",
              "      fill: #D2E3FC;\n",
              "    }\n",
              "\n",
              "    [theme=dark] .colab-df-convert:hover {\n",
              "      background-color: #434B5C;\n",
              "      box-shadow: 0px 1px 3px 1px rgba(0, 0, 0, 0.15);\n",
              "      filter: drop-shadow(0px 1px 2px rgba(0, 0, 0, 0.3));\n",
              "      fill: #FFFFFF;\n",
              "    }\n",
              "  </style>\n",
              "\n",
              "      <script>\n",
              "        const buttonEl =\n",
              "          document.querySelector('#df-32c2dc14-629f-4e69-8a48-bb0fe06af2ad button.colab-df-convert');\n",
              "        buttonEl.style.display =\n",
              "          google.colab.kernel.accessAllowed ? 'block' : 'none';\n",
              "\n",
              "        async function convertToInteractive(key) {\n",
              "          const element = document.querySelector('#df-32c2dc14-629f-4e69-8a48-bb0fe06af2ad');\n",
              "          const dataTable =\n",
              "            await google.colab.kernel.invokeFunction('convertToInteractive',\n",
              "                                                     [key], {});\n",
              "          if (!dataTable) return;\n",
              "\n",
              "          const docLinkHtml = 'Like what you see? Visit the ' +\n",
              "            '<a target=\"_blank\" href=https://colab.research.google.com/notebooks/data_table.ipynb>data table notebook</a>'\n",
              "            + ' to learn more about interactive tables.';\n",
              "          element.innerHTML = '';\n",
              "          dataTable['output_type'] = 'display_data';\n",
              "          await google.colab.output.renderOutput(dataTable, element);\n",
              "          const docLink = document.createElement('div');\n",
              "          docLink.innerHTML = docLinkHtml;\n",
              "          element.appendChild(docLink);\n",
              "        }\n",
              "      </script>\n",
              "    </div>\n",
              "  </div>\n",
              "  "
            ]
          },
          "metadata": {},
          "execution_count": 75
        }
      ]
    }
  ],
  "metadata": {
    "colab": {
      "provenance": []
    },
    "kernelspec": {
      "display_name": "Python 3",
      "name": "python3"
    },
    "language_info": {
      "name": "python"
    }
  },
  "nbformat": 4,
  "nbformat_minor": 0
}