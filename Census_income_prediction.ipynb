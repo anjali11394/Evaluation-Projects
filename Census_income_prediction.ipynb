{
  "cells": [
    {
      "cell_type": "code",
      "execution_count": 1,
      "metadata": {
        "id": "Z5_5HrLjvLrY"
      },
      "outputs": [],
      "source": [
        "#importing libraries\n",
        "\n",
        "import numpy as np\n",
        "import pandas as pd"
      ]
    },
    {
      "cell_type": "code",
      "execution_count": 2,
      "metadata": {
        "id": "d_I_s-davc7t"
      },
      "outputs": [],
      "source": [
        "#reading the dataset\n",
        "\n",
        "df=pd.read_csv('https://raw.githubusercontent.com/dsrscientist/dataset1/master/census_income.csv')"
      ]
    },
    {
      "cell_type": "code",
      "execution_count": 3,
      "metadata": {
        "colab": {
          "base_uri": "https://localhost:8080/",
          "height": 661
        },
        "id": "a6iplnvFvj9G",
        "outputId": "86ddaa2f-d74e-4653-ee5e-7c6cb84f58e1"
      },
      "outputs": [
        {
          "output_type": "execute_result",
          "data": {
            "text/plain": [
              "       Age          Workclass  Fnlwgt    Education  Education_num  \\\n",
              "0       50   Self-emp-not-inc   83311    Bachelors             13   \n",
              "1       38            Private  215646      HS-grad              9   \n",
              "2       53            Private  234721         11th              7   \n",
              "3       28            Private  338409    Bachelors             13   \n",
              "4       37            Private  284582      Masters             14   \n",
              "...    ...                ...     ...          ...            ...   \n",
              "32555   27            Private  257302   Assoc-acdm             12   \n",
              "32556   40            Private  154374      HS-grad              9   \n",
              "32557   58            Private  151910      HS-grad              9   \n",
              "32558   22            Private  201490      HS-grad              9   \n",
              "32559   52       Self-emp-inc  287927      HS-grad              9   \n",
              "\n",
              "            Marital_status          Occupation    Relationship    Race  \\\n",
              "0       Married-civ-spouse     Exec-managerial         Husband   White   \n",
              "1                 Divorced   Handlers-cleaners   Not-in-family   White   \n",
              "2       Married-civ-spouse   Handlers-cleaners         Husband   Black   \n",
              "3       Married-civ-spouse      Prof-specialty            Wife   Black   \n",
              "4       Married-civ-spouse     Exec-managerial            Wife   White   \n",
              "...                    ...                 ...             ...     ...   \n",
              "32555   Married-civ-spouse        Tech-support            Wife   White   \n",
              "32556   Married-civ-spouse   Machine-op-inspct         Husband   White   \n",
              "32557              Widowed        Adm-clerical       Unmarried   White   \n",
              "32558        Never-married        Adm-clerical       Own-child   White   \n",
              "32559   Married-civ-spouse     Exec-managerial            Wife   White   \n",
              "\n",
              "           Sex  Capital_gain  Capital_loss  Hours_per_week  Native_country  \\\n",
              "0         Male             0             0              13   United-States   \n",
              "1         Male             0             0              40   United-States   \n",
              "2         Male             0             0              40   United-States   \n",
              "3       Female             0             0              40            Cuba   \n",
              "4       Female             0             0              40   United-States   \n",
              "...        ...           ...           ...             ...             ...   \n",
              "32555   Female             0             0              38   United-States   \n",
              "32556     Male             0             0              40   United-States   \n",
              "32557   Female             0             0              40   United-States   \n",
              "32558     Male             0             0              20   United-States   \n",
              "32559   Female         15024             0              40   United-States   \n",
              "\n",
              "       Income  \n",
              "0       <=50K  \n",
              "1       <=50K  \n",
              "2       <=50K  \n",
              "3       <=50K  \n",
              "4       <=50K  \n",
              "...       ...  \n",
              "32555   <=50K  \n",
              "32556    >50K  \n",
              "32557   <=50K  \n",
              "32558   <=50K  \n",
              "32559    >50K  \n",
              "\n",
              "[32560 rows x 15 columns]"
            ],
            "text/html": [
              "\n",
              "  <div id=\"df-694f0c90-85de-4171-b76b-bb27370645ce\">\n",
              "    <div class=\"colab-df-container\">\n",
              "      <div>\n",
              "<style scoped>\n",
              "    .dataframe tbody tr th:only-of-type {\n",
              "        vertical-align: middle;\n",
              "    }\n",
              "\n",
              "    .dataframe tbody tr th {\n",
              "        vertical-align: top;\n",
              "    }\n",
              "\n",
              "    .dataframe thead th {\n",
              "        text-align: right;\n",
              "    }\n",
              "</style>\n",
              "<table border=\"1\" class=\"dataframe\">\n",
              "  <thead>\n",
              "    <tr style=\"text-align: right;\">\n",
              "      <th></th>\n",
              "      <th>Age</th>\n",
              "      <th>Workclass</th>\n",
              "      <th>Fnlwgt</th>\n",
              "      <th>Education</th>\n",
              "      <th>Education_num</th>\n",
              "      <th>Marital_status</th>\n",
              "      <th>Occupation</th>\n",
              "      <th>Relationship</th>\n",
              "      <th>Race</th>\n",
              "      <th>Sex</th>\n",
              "      <th>Capital_gain</th>\n",
              "      <th>Capital_loss</th>\n",
              "      <th>Hours_per_week</th>\n",
              "      <th>Native_country</th>\n",
              "      <th>Income</th>\n",
              "    </tr>\n",
              "  </thead>\n",
              "  <tbody>\n",
              "    <tr>\n",
              "      <th>0</th>\n",
              "      <td>50</td>\n",
              "      <td>Self-emp-not-inc</td>\n",
              "      <td>83311</td>\n",
              "      <td>Bachelors</td>\n",
              "      <td>13</td>\n",
              "      <td>Married-civ-spouse</td>\n",
              "      <td>Exec-managerial</td>\n",
              "      <td>Husband</td>\n",
              "      <td>White</td>\n",
              "      <td>Male</td>\n",
              "      <td>0</td>\n",
              "      <td>0</td>\n",
              "      <td>13</td>\n",
              "      <td>United-States</td>\n",
              "      <td>&lt;=50K</td>\n",
              "    </tr>\n",
              "    <tr>\n",
              "      <th>1</th>\n",
              "      <td>38</td>\n",
              "      <td>Private</td>\n",
              "      <td>215646</td>\n",
              "      <td>HS-grad</td>\n",
              "      <td>9</td>\n",
              "      <td>Divorced</td>\n",
              "      <td>Handlers-cleaners</td>\n",
              "      <td>Not-in-family</td>\n",
              "      <td>White</td>\n",
              "      <td>Male</td>\n",
              "      <td>0</td>\n",
              "      <td>0</td>\n",
              "      <td>40</td>\n",
              "      <td>United-States</td>\n",
              "      <td>&lt;=50K</td>\n",
              "    </tr>\n",
              "    <tr>\n",
              "      <th>2</th>\n",
              "      <td>53</td>\n",
              "      <td>Private</td>\n",
              "      <td>234721</td>\n",
              "      <td>11th</td>\n",
              "      <td>7</td>\n",
              "      <td>Married-civ-spouse</td>\n",
              "      <td>Handlers-cleaners</td>\n",
              "      <td>Husband</td>\n",
              "      <td>Black</td>\n",
              "      <td>Male</td>\n",
              "      <td>0</td>\n",
              "      <td>0</td>\n",
              "      <td>40</td>\n",
              "      <td>United-States</td>\n",
              "      <td>&lt;=50K</td>\n",
              "    </tr>\n",
              "    <tr>\n",
              "      <th>3</th>\n",
              "      <td>28</td>\n",
              "      <td>Private</td>\n",
              "      <td>338409</td>\n",
              "      <td>Bachelors</td>\n",
              "      <td>13</td>\n",
              "      <td>Married-civ-spouse</td>\n",
              "      <td>Prof-specialty</td>\n",
              "      <td>Wife</td>\n",
              "      <td>Black</td>\n",
              "      <td>Female</td>\n",
              "      <td>0</td>\n",
              "      <td>0</td>\n",
              "      <td>40</td>\n",
              "      <td>Cuba</td>\n",
              "      <td>&lt;=50K</td>\n",
              "    </tr>\n",
              "    <tr>\n",
              "      <th>4</th>\n",
              "      <td>37</td>\n",
              "      <td>Private</td>\n",
              "      <td>284582</td>\n",
              "      <td>Masters</td>\n",
              "      <td>14</td>\n",
              "      <td>Married-civ-spouse</td>\n",
              "      <td>Exec-managerial</td>\n",
              "      <td>Wife</td>\n",
              "      <td>White</td>\n",
              "      <td>Female</td>\n",
              "      <td>0</td>\n",
              "      <td>0</td>\n",
              "      <td>40</td>\n",
              "      <td>United-States</td>\n",
              "      <td>&lt;=50K</td>\n",
              "    </tr>\n",
              "    <tr>\n",
              "      <th>...</th>\n",
              "      <td>...</td>\n",
              "      <td>...</td>\n",
              "      <td>...</td>\n",
              "      <td>...</td>\n",
              "      <td>...</td>\n",
              "      <td>...</td>\n",
              "      <td>...</td>\n",
              "      <td>...</td>\n",
              "      <td>...</td>\n",
              "      <td>...</td>\n",
              "      <td>...</td>\n",
              "      <td>...</td>\n",
              "      <td>...</td>\n",
              "      <td>...</td>\n",
              "      <td>...</td>\n",
              "    </tr>\n",
              "    <tr>\n",
              "      <th>32555</th>\n",
              "      <td>27</td>\n",
              "      <td>Private</td>\n",
              "      <td>257302</td>\n",
              "      <td>Assoc-acdm</td>\n",
              "      <td>12</td>\n",
              "      <td>Married-civ-spouse</td>\n",
              "      <td>Tech-support</td>\n",
              "      <td>Wife</td>\n",
              "      <td>White</td>\n",
              "      <td>Female</td>\n",
              "      <td>0</td>\n",
              "      <td>0</td>\n",
              "      <td>38</td>\n",
              "      <td>United-States</td>\n",
              "      <td>&lt;=50K</td>\n",
              "    </tr>\n",
              "    <tr>\n",
              "      <th>32556</th>\n",
              "      <td>40</td>\n",
              "      <td>Private</td>\n",
              "      <td>154374</td>\n",
              "      <td>HS-grad</td>\n",
              "      <td>9</td>\n",
              "      <td>Married-civ-spouse</td>\n",
              "      <td>Machine-op-inspct</td>\n",
              "      <td>Husband</td>\n",
              "      <td>White</td>\n",
              "      <td>Male</td>\n",
              "      <td>0</td>\n",
              "      <td>0</td>\n",
              "      <td>40</td>\n",
              "      <td>United-States</td>\n",
              "      <td>&gt;50K</td>\n",
              "    </tr>\n",
              "    <tr>\n",
              "      <th>32557</th>\n",
              "      <td>58</td>\n",
              "      <td>Private</td>\n",
              "      <td>151910</td>\n",
              "      <td>HS-grad</td>\n",
              "      <td>9</td>\n",
              "      <td>Widowed</td>\n",
              "      <td>Adm-clerical</td>\n",
              "      <td>Unmarried</td>\n",
              "      <td>White</td>\n",
              "      <td>Female</td>\n",
              "      <td>0</td>\n",
              "      <td>0</td>\n",
              "      <td>40</td>\n",
              "      <td>United-States</td>\n",
              "      <td>&lt;=50K</td>\n",
              "    </tr>\n",
              "    <tr>\n",
              "      <th>32558</th>\n",
              "      <td>22</td>\n",
              "      <td>Private</td>\n",
              "      <td>201490</td>\n",
              "      <td>HS-grad</td>\n",
              "      <td>9</td>\n",
              "      <td>Never-married</td>\n",
              "      <td>Adm-clerical</td>\n",
              "      <td>Own-child</td>\n",
              "      <td>White</td>\n",
              "      <td>Male</td>\n",
              "      <td>0</td>\n",
              "      <td>0</td>\n",
              "      <td>20</td>\n",
              "      <td>United-States</td>\n",
              "      <td>&lt;=50K</td>\n",
              "    </tr>\n",
              "    <tr>\n",
              "      <th>32559</th>\n",
              "      <td>52</td>\n",
              "      <td>Self-emp-inc</td>\n",
              "      <td>287927</td>\n",
              "      <td>HS-grad</td>\n",
              "      <td>9</td>\n",
              "      <td>Married-civ-spouse</td>\n",
              "      <td>Exec-managerial</td>\n",
              "      <td>Wife</td>\n",
              "      <td>White</td>\n",
              "      <td>Female</td>\n",
              "      <td>15024</td>\n",
              "      <td>0</td>\n",
              "      <td>40</td>\n",
              "      <td>United-States</td>\n",
              "      <td>&gt;50K</td>\n",
              "    </tr>\n",
              "  </tbody>\n",
              "</table>\n",
              "<p>32560 rows × 15 columns</p>\n",
              "</div>\n",
              "      <button class=\"colab-df-convert\" onclick=\"convertToInteractive('df-694f0c90-85de-4171-b76b-bb27370645ce')\"\n",
              "              title=\"Convert this dataframe to an interactive table.\"\n",
              "              style=\"display:none;\">\n",
              "        \n",
              "  <svg xmlns=\"http://www.w3.org/2000/svg\" height=\"24px\"viewBox=\"0 0 24 24\"\n",
              "       width=\"24px\">\n",
              "    <path d=\"M0 0h24v24H0V0z\" fill=\"none\"/>\n",
              "    <path d=\"M18.56 5.44l.94 2.06.94-2.06 2.06-.94-2.06-.94-.94-2.06-.94 2.06-2.06.94zm-11 1L8.5 8.5l.94-2.06 2.06-.94-2.06-.94L8.5 2.5l-.94 2.06-2.06.94zm10 10l.94 2.06.94-2.06 2.06-.94-2.06-.94-.94-2.06-.94 2.06-2.06.94z\"/><path d=\"M17.41 7.96l-1.37-1.37c-.4-.4-.92-.59-1.43-.59-.52 0-1.04.2-1.43.59L10.3 9.45l-7.72 7.72c-.78.78-.78 2.05 0 2.83L4 21.41c.39.39.9.59 1.41.59.51 0 1.02-.2 1.41-.59l7.78-7.78 2.81-2.81c.8-.78.8-2.07 0-2.86zM5.41 20L4 18.59l7.72-7.72 1.47 1.35L5.41 20z\"/>\n",
              "  </svg>\n",
              "      </button>\n",
              "      \n",
              "  <style>\n",
              "    .colab-df-container {\n",
              "      display:flex;\n",
              "      flex-wrap:wrap;\n",
              "      gap: 12px;\n",
              "    }\n",
              "\n",
              "    .colab-df-convert {\n",
              "      background-color: #E8F0FE;\n",
              "      border: none;\n",
              "      border-radius: 50%;\n",
              "      cursor: pointer;\n",
              "      display: none;\n",
              "      fill: #1967D2;\n",
              "      height: 32px;\n",
              "      padding: 0 0 0 0;\n",
              "      width: 32px;\n",
              "    }\n",
              "\n",
              "    .colab-df-convert:hover {\n",
              "      background-color: #E2EBFA;\n",
              "      box-shadow: 0px 1px 2px rgba(60, 64, 67, 0.3), 0px 1px 3px 1px rgba(60, 64, 67, 0.15);\n",
              "      fill: #174EA6;\n",
              "    }\n",
              "\n",
              "    [theme=dark] .colab-df-convert {\n",
              "      background-color: #3B4455;\n",
              "      fill: #D2E3FC;\n",
              "    }\n",
              "\n",
              "    [theme=dark] .colab-df-convert:hover {\n",
              "      background-color: #434B5C;\n",
              "      box-shadow: 0px 1px 3px 1px rgba(0, 0, 0, 0.15);\n",
              "      filter: drop-shadow(0px 1px 2px rgba(0, 0, 0, 0.3));\n",
              "      fill: #FFFFFF;\n",
              "    }\n",
              "  </style>\n",
              "\n",
              "      <script>\n",
              "        const buttonEl =\n",
              "          document.querySelector('#df-694f0c90-85de-4171-b76b-bb27370645ce button.colab-df-convert');\n",
              "        buttonEl.style.display =\n",
              "          google.colab.kernel.accessAllowed ? 'block' : 'none';\n",
              "\n",
              "        async function convertToInteractive(key) {\n",
              "          const element = document.querySelector('#df-694f0c90-85de-4171-b76b-bb27370645ce');\n",
              "          const dataTable =\n",
              "            await google.colab.kernel.invokeFunction('convertToInteractive',\n",
              "                                                     [key], {});\n",
              "          if (!dataTable) return;\n",
              "\n",
              "          const docLinkHtml = 'Like what you see? Visit the ' +\n",
              "            '<a target=\"_blank\" href=https://colab.research.google.com/notebooks/data_table.ipynb>data table notebook</a>'\n",
              "            + ' to learn more about interactive tables.';\n",
              "          element.innerHTML = '';\n",
              "          dataTable['output_type'] = 'display_data';\n",
              "          await google.colab.output.renderOutput(dataTable, element);\n",
              "          const docLink = document.createElement('div');\n",
              "          docLink.innerHTML = docLinkHtml;\n",
              "          element.appendChild(docLink);\n",
              "        }\n",
              "      </script>\n",
              "    </div>\n",
              "  </div>\n",
              "  "
            ]
          },
          "metadata": {},
          "execution_count": 3
        }
      ],
      "source": [
        "df"
      ]
    },
    {
      "cell_type": "code",
      "execution_count": 4,
      "metadata": {
        "colab": {
          "base_uri": "https://localhost:8080/"
        },
        "id": "LkLZy3DqvvOA",
        "outputId": "5886780f-785a-48ce-c5ce-2bda675fe753"
      },
      "outputs": [
        {
          "output_type": "execute_result",
          "data": {
            "text/plain": [
              "(32560, 15)"
            ]
          },
          "metadata": {},
          "execution_count": 4
        }
      ],
      "source": [
        "#shape of the dataset\n",
        "\n",
        "df.shape"
      ]
    },
    {
      "cell_type": "code",
      "execution_count": 5,
      "metadata": {
        "colab": {
          "base_uri": "https://localhost:8080/"
        },
        "id": "-DW9jzrGxy39",
        "outputId": "7b6e4615-01b9-49bc-c62a-db10555652c5"
      },
      "outputs": [
        {
          "output_type": "execute_result",
          "data": {
            "text/plain": [
              "Age               0\n",
              "Workclass         0\n",
              "Fnlwgt            0\n",
              "Education         0\n",
              "Education_num     0\n",
              "Marital_status    0\n",
              "Occupation        0\n",
              "Relationship      0\n",
              "Race              0\n",
              "Sex               0\n",
              "Capital_gain      0\n",
              "Capital_loss      0\n",
              "Hours_per_week    0\n",
              "Native_country    0\n",
              "Income            0\n",
              "dtype: int64"
            ]
          },
          "metadata": {},
          "execution_count": 5
        }
      ],
      "source": [
        "#checking the null values\n",
        "\n",
        "df.isnull().sum()"
      ]
    },
    {
      "cell_type": "code",
      "execution_count": 6,
      "metadata": {
        "colab": {
          "base_uri": "https://localhost:8080/"
        },
        "id": "916C6u3Px5l7",
        "outputId": "6bb3aaa3-d1e0-4959-d90b-c552ba6fb164"
      },
      "outputs": [
        {
          "output_type": "execute_result",
          "data": {
            "text/plain": [
              "Age                  73\n",
              "Workclass             9\n",
              "Fnlwgt            21647\n",
              "Education            16\n",
              "Education_num        16\n",
              "Marital_status        7\n",
              "Occupation           15\n",
              "Relationship          6\n",
              "Race                  5\n",
              "Sex                   2\n",
              "Capital_gain        119\n",
              "Capital_loss         92\n",
              "Hours_per_week       94\n",
              "Native_country       42\n",
              "Income                2\n",
              "dtype: int64"
            ]
          },
          "metadata": {},
          "execution_count": 6
        }
      ],
      "source": [
        "#checking the unique values\n",
        "\n",
        "df.nunique()"
      ]
    },
    {
      "cell_type": "code",
      "execution_count": 7,
      "metadata": {
        "colab": {
          "base_uri": "https://localhost:8080/"
        },
        "id": "wLN2nM0MyiXd",
        "outputId": "818cac47-5ee1-4525-b923-baf44efdf7b4"
      },
      "outputs": [
        {
          "output_type": "execute_result",
          "data": {
            "text/plain": [
              "Age                int64\n",
              "Workclass         object\n",
              "Fnlwgt             int64\n",
              "Education         object\n",
              "Education_num      int64\n",
              "Marital_status    object\n",
              "Occupation        object\n",
              "Relationship      object\n",
              "Race              object\n",
              "Sex               object\n",
              "Capital_gain       int64\n",
              "Capital_loss       int64\n",
              "Hours_per_week     int64\n",
              "Native_country    object\n",
              "Income            object\n",
              "dtype: object"
            ]
          },
          "metadata": {},
          "execution_count": 7
        }
      ],
      "source": [
        "#checking the datatypes\n",
        "\n",
        "df.dtypes"
      ]
    },
    {
      "cell_type": "code",
      "execution_count": 8,
      "metadata": {
        "colab": {
          "base_uri": "https://localhost:8080/",
          "height": 238
        },
        "id": "cyttCuATzCA0",
        "outputId": "99e8fb26-9519-4266-a723-d3c675bf85eb"
      },
      "outputs": [
        {
          "output_type": "execute_result",
          "data": {
            "text/plain": [
              "                  count           mean            std      min       25%  \\\n",
              "Age             32560.0      38.581634      13.640642     17.0      28.0   \n",
              "Fnlwgt          32560.0  189781.814373  105549.764924  12285.0  117831.5   \n",
              "Education_num   32560.0      10.080590       2.572709      1.0       9.0   \n",
              "Capital_gain    32560.0    1077.615172    7385.402999      0.0       0.0   \n",
              "Capital_loss    32560.0      87.306511     402.966116      0.0       0.0   \n",
              "Hours_per_week  32560.0      40.437469      12.347618      1.0      40.0   \n",
              "\n",
              "                     50%       75%        max  \n",
              "Age                 37.0      48.0       90.0  \n",
              "Fnlwgt          178363.0  237054.5  1484705.0  \n",
              "Education_num       10.0      12.0       16.0  \n",
              "Capital_gain         0.0       0.0    99999.0  \n",
              "Capital_loss         0.0       0.0     4356.0  \n",
              "Hours_per_week      40.0      45.0       99.0  "
            ],
            "text/html": [
              "\n",
              "  <div id=\"df-cc782be7-7541-4e1c-88c2-d58cceb222f5\">\n",
              "    <div class=\"colab-df-container\">\n",
              "      <div>\n",
              "<style scoped>\n",
              "    .dataframe tbody tr th:only-of-type {\n",
              "        vertical-align: middle;\n",
              "    }\n",
              "\n",
              "    .dataframe tbody tr th {\n",
              "        vertical-align: top;\n",
              "    }\n",
              "\n",
              "    .dataframe thead th {\n",
              "        text-align: right;\n",
              "    }\n",
              "</style>\n",
              "<table border=\"1\" class=\"dataframe\">\n",
              "  <thead>\n",
              "    <tr style=\"text-align: right;\">\n",
              "      <th></th>\n",
              "      <th>count</th>\n",
              "      <th>mean</th>\n",
              "      <th>std</th>\n",
              "      <th>min</th>\n",
              "      <th>25%</th>\n",
              "      <th>50%</th>\n",
              "      <th>75%</th>\n",
              "      <th>max</th>\n",
              "    </tr>\n",
              "  </thead>\n",
              "  <tbody>\n",
              "    <tr>\n",
              "      <th>Age</th>\n",
              "      <td>32560.0</td>\n",
              "      <td>38.581634</td>\n",
              "      <td>13.640642</td>\n",
              "      <td>17.0</td>\n",
              "      <td>28.0</td>\n",
              "      <td>37.0</td>\n",
              "      <td>48.0</td>\n",
              "      <td>90.0</td>\n",
              "    </tr>\n",
              "    <tr>\n",
              "      <th>Fnlwgt</th>\n",
              "      <td>32560.0</td>\n",
              "      <td>189781.814373</td>\n",
              "      <td>105549.764924</td>\n",
              "      <td>12285.0</td>\n",
              "      <td>117831.5</td>\n",
              "      <td>178363.0</td>\n",
              "      <td>237054.5</td>\n",
              "      <td>1484705.0</td>\n",
              "    </tr>\n",
              "    <tr>\n",
              "      <th>Education_num</th>\n",
              "      <td>32560.0</td>\n",
              "      <td>10.080590</td>\n",
              "      <td>2.572709</td>\n",
              "      <td>1.0</td>\n",
              "      <td>9.0</td>\n",
              "      <td>10.0</td>\n",
              "      <td>12.0</td>\n",
              "      <td>16.0</td>\n",
              "    </tr>\n",
              "    <tr>\n",
              "      <th>Capital_gain</th>\n",
              "      <td>32560.0</td>\n",
              "      <td>1077.615172</td>\n",
              "      <td>7385.402999</td>\n",
              "      <td>0.0</td>\n",
              "      <td>0.0</td>\n",
              "      <td>0.0</td>\n",
              "      <td>0.0</td>\n",
              "      <td>99999.0</td>\n",
              "    </tr>\n",
              "    <tr>\n",
              "      <th>Capital_loss</th>\n",
              "      <td>32560.0</td>\n",
              "      <td>87.306511</td>\n",
              "      <td>402.966116</td>\n",
              "      <td>0.0</td>\n",
              "      <td>0.0</td>\n",
              "      <td>0.0</td>\n",
              "      <td>0.0</td>\n",
              "      <td>4356.0</td>\n",
              "    </tr>\n",
              "    <tr>\n",
              "      <th>Hours_per_week</th>\n",
              "      <td>32560.0</td>\n",
              "      <td>40.437469</td>\n",
              "      <td>12.347618</td>\n",
              "      <td>1.0</td>\n",
              "      <td>40.0</td>\n",
              "      <td>40.0</td>\n",
              "      <td>45.0</td>\n",
              "      <td>99.0</td>\n",
              "    </tr>\n",
              "  </tbody>\n",
              "</table>\n",
              "</div>\n",
              "      <button class=\"colab-df-convert\" onclick=\"convertToInteractive('df-cc782be7-7541-4e1c-88c2-d58cceb222f5')\"\n",
              "              title=\"Convert this dataframe to an interactive table.\"\n",
              "              style=\"display:none;\">\n",
              "        \n",
              "  <svg xmlns=\"http://www.w3.org/2000/svg\" height=\"24px\"viewBox=\"0 0 24 24\"\n",
              "       width=\"24px\">\n",
              "    <path d=\"M0 0h24v24H0V0z\" fill=\"none\"/>\n",
              "    <path d=\"M18.56 5.44l.94 2.06.94-2.06 2.06-.94-2.06-.94-.94-2.06-.94 2.06-2.06.94zm-11 1L8.5 8.5l.94-2.06 2.06-.94-2.06-.94L8.5 2.5l-.94 2.06-2.06.94zm10 10l.94 2.06.94-2.06 2.06-.94-2.06-.94-.94-2.06-.94 2.06-2.06.94z\"/><path d=\"M17.41 7.96l-1.37-1.37c-.4-.4-.92-.59-1.43-.59-.52 0-1.04.2-1.43.59L10.3 9.45l-7.72 7.72c-.78.78-.78 2.05 0 2.83L4 21.41c.39.39.9.59 1.41.59.51 0 1.02-.2 1.41-.59l7.78-7.78 2.81-2.81c.8-.78.8-2.07 0-2.86zM5.41 20L4 18.59l7.72-7.72 1.47 1.35L5.41 20z\"/>\n",
              "  </svg>\n",
              "      </button>\n",
              "      \n",
              "  <style>\n",
              "    .colab-df-container {\n",
              "      display:flex;\n",
              "      flex-wrap:wrap;\n",
              "      gap: 12px;\n",
              "    }\n",
              "\n",
              "    .colab-df-convert {\n",
              "      background-color: #E8F0FE;\n",
              "      border: none;\n",
              "      border-radius: 50%;\n",
              "      cursor: pointer;\n",
              "      display: none;\n",
              "      fill: #1967D2;\n",
              "      height: 32px;\n",
              "      padding: 0 0 0 0;\n",
              "      width: 32px;\n",
              "    }\n",
              "\n",
              "    .colab-df-convert:hover {\n",
              "      background-color: #E2EBFA;\n",
              "      box-shadow: 0px 1px 2px rgba(60, 64, 67, 0.3), 0px 1px 3px 1px rgba(60, 64, 67, 0.15);\n",
              "      fill: #174EA6;\n",
              "    }\n",
              "\n",
              "    [theme=dark] .colab-df-convert {\n",
              "      background-color: #3B4455;\n",
              "      fill: #D2E3FC;\n",
              "    }\n",
              "\n",
              "    [theme=dark] .colab-df-convert:hover {\n",
              "      background-color: #434B5C;\n",
              "      box-shadow: 0px 1px 3px 1px rgba(0, 0, 0, 0.15);\n",
              "      filter: drop-shadow(0px 1px 2px rgba(0, 0, 0, 0.3));\n",
              "      fill: #FFFFFF;\n",
              "    }\n",
              "  </style>\n",
              "\n",
              "      <script>\n",
              "        const buttonEl =\n",
              "          document.querySelector('#df-cc782be7-7541-4e1c-88c2-d58cceb222f5 button.colab-df-convert');\n",
              "        buttonEl.style.display =\n",
              "          google.colab.kernel.accessAllowed ? 'block' : 'none';\n",
              "\n",
              "        async function convertToInteractive(key) {\n",
              "          const element = document.querySelector('#df-cc782be7-7541-4e1c-88c2-d58cceb222f5');\n",
              "          const dataTable =\n",
              "            await google.colab.kernel.invokeFunction('convertToInteractive',\n",
              "                                                     [key], {});\n",
              "          if (!dataTable) return;\n",
              "\n",
              "          const docLinkHtml = 'Like what you see? Visit the ' +\n",
              "            '<a target=\"_blank\" href=https://colab.research.google.com/notebooks/data_table.ipynb>data table notebook</a>'\n",
              "            + ' to learn more about interactive tables.';\n",
              "          element.innerHTML = '';\n",
              "          dataTable['output_type'] = 'display_data';\n",
              "          await google.colab.output.renderOutput(dataTable, element);\n",
              "          const docLink = document.createElement('div');\n",
              "          docLink.innerHTML = docLinkHtml;\n",
              "          element.appendChild(docLink);\n",
              "        }\n",
              "      </script>\n",
              "    </div>\n",
              "  </div>\n",
              "  "
            ]
          },
          "metadata": {},
          "execution_count": 8
        }
      ],
      "source": [
        "df.describe().T"
      ]
    },
    {
      "cell_type": "markdown",
      "metadata": {
        "id": "u3-8YFYdzQe5"
      },
      "source": [
        "The above information is about continuous columns.\n",
        "\n",
        "Count shows that there are no null values.\n",
        "\n",
        "Minumum age is 17 and max is 90.There is a lot of difference between the q3 and max value.\n",
        "\n",
        "Capital gain & capital loss mean and standard deviation have discrepencies.\n",
        "\n",
        "\n"
      ]
    },
    {
      "cell_type": "code",
      "execution_count": 9,
      "metadata": {
        "colab": {
          "base_uri": "https://localhost:8080/"
        },
        "id": "8PJF0S_nz0fq",
        "outputId": "20b9af5a-6b22-40c2-dda5-73f83bdac6cd"
      },
      "outputs": [
        {
          "output_type": "execute_result",
          "data": {
            "text/plain": [
              " Private             22696\n",
              " Self-emp-not-inc     2541\n",
              " Local-gov            2093\n",
              " ?                    1836\n",
              " State-gov            1297\n",
              " Self-emp-inc         1116\n",
              " Federal-gov           960\n",
              " Without-pay            14\n",
              " Never-worked            7\n",
              "Name: Workclass, dtype: int64"
            ]
          },
          "metadata": {},
          "execution_count": 9
        }
      ],
      "source": [
        "#checking the unique values of the columns\n",
        "\n",
        "df['Workclass'].value_counts()"
      ]
    },
    {
      "cell_type": "code",
      "execution_count": 10,
      "metadata": {
        "colab": {
          "base_uri": "https://localhost:8080/"
        },
        "id": "3Bk4zKgT0qOB",
        "outputId": "7e5870b2-2bd4-4c0d-e9db-96978df85545"
      },
      "outputs": [
        {
          "output_type": "execute_result",
          "data": {
            "text/plain": [
              "Index(['Age', 'Workclass', 'Fnlwgt', 'Education', 'Education_num',\n",
              "       'Marital_status', 'Occupation', 'Relationship', 'Race', 'Sex',\n",
              "       'Capital_gain', 'Capital_loss', 'Hours_per_week', 'Native_country',\n",
              "       'Income'],\n",
              "      dtype='object')"
            ]
          },
          "metadata": {},
          "execution_count": 10
        }
      ],
      "source": [
        "df.columns"
      ]
    },
    {
      "cell_type": "code",
      "execution_count": 11,
      "metadata": {
        "colab": {
          "base_uri": "https://localhost:8080/"
        },
        "id": "-0wwxCy_0KI8",
        "outputId": "5cefe7dd-2e1a-4e4d-b065-e49892401828"
      },
      "outputs": [
        {
          "output_type": "stream",
          "name": "stdout",
          "text": [
            "Education unique value ;  HS-grad         10501\n",
            " Some-college     7291\n",
            " Bachelors        5354\n",
            " Masters          1723\n",
            " Assoc-voc        1382\n",
            " 11th             1175\n",
            " Assoc-acdm       1067\n",
            " 10th              933\n",
            " 7th-8th           646\n",
            " Prof-school       576\n",
            " 9th               514\n",
            " 12th              433\n",
            " Doctorate         413\n",
            " 5th-6th           333\n",
            " 1st-4th           168\n",
            " Preschool          51\n",
            "Name: Education, dtype: int64\n",
            "\n",
            " -------------------------------------------------------\n",
            "\n",
            "Education_num unique value ; 9     10501\n",
            "10     7291\n",
            "13     5354\n",
            "14     1723\n",
            "11     1382\n",
            "7      1175\n",
            "12     1067\n",
            "6       933\n",
            "4       646\n",
            "15      576\n",
            "5       514\n",
            "8       433\n",
            "16      413\n",
            "3       333\n",
            "2       168\n",
            "1        51\n",
            "Name: Education_num, dtype: int64\n",
            "\n",
            " -------------------------------------------------------\n",
            "\n",
            "Martial status unique value ;  Married-civ-spouse       14976\n",
            " Never-married            10682\n",
            " Divorced                  4443\n",
            " Separated                 1025\n",
            " Widowed                    993\n",
            " Married-spouse-absent      418\n",
            " Married-AF-spouse           23\n",
            "Name: Marital_status, dtype: int64\n",
            "\n",
            " -------------------------------------------------------\n",
            "\n",
            "occupation unique value ;  Prof-specialty       4140\n",
            " Craft-repair         4099\n",
            " Exec-managerial      4066\n",
            " Adm-clerical         3769\n",
            " Sales                3650\n",
            " Other-service        3295\n",
            " Machine-op-inspct    2002\n",
            " ?                    1843\n",
            " Transport-moving     1597\n",
            " Handlers-cleaners    1370\n",
            " Farming-fishing       994\n",
            " Tech-support          928\n",
            " Protective-serv       649\n",
            " Priv-house-serv       149\n",
            " Armed-Forces            9\n",
            "Name: Occupation, dtype: int64\n",
            "\n",
            " -------------------------------------------------------\n",
            "\n",
            "Realtionship unique value ;  Husband           13193\n",
            " Not-in-family      8304\n",
            " Own-child          5068\n",
            " Unmarried          3446\n",
            " Wife               1568\n",
            " Other-relative      981\n",
            "Name: Relationship, dtype: int64\n",
            "\n",
            " -------------------------------------------------------\n",
            "\n",
            "Race unique value ;  White                 27815\n",
            " Black                  3124\n",
            " Asian-Pac-Islander     1039\n",
            " Amer-Indian-Eskimo      311\n",
            " Other                   271\n",
            "Name: Race, dtype: int64\n",
            "\n",
            " -------------------------------------------------------\n",
            "\n",
            "Sex unique value ;  Male      21789\n",
            " Female    10771\n",
            "Name: Sex, dtype: int64\n",
            "\n",
            " -------------------------------------------------------\n",
            "\n",
            "Capital gain unique value ; 0        29849\n",
            "15024      347\n",
            "7688       284\n",
            "7298       246\n",
            "99999      159\n",
            "         ...  \n",
            "1111         1\n",
            "2538         1\n",
            "22040        1\n",
            "4931         1\n",
            "5060         1\n",
            "Name: Capital_gain, Length: 119, dtype: int64\n",
            "\n",
            " -------------------------------------------------------\n",
            "\n",
            "Capital loss unique value ; 0       31041\n",
            "1902      202\n",
            "1977      168\n",
            "1887      159\n",
            "1848       51\n",
            "        ...  \n",
            "2080        1\n",
            "1539        1\n",
            "1844        1\n",
            "2489        1\n",
            "1411        1\n",
            "Name: Capital_loss, Length: 92, dtype: int64\n",
            "\n",
            " -------------------------------------------------------\n",
            "\n",
            "Hours per week unique value ; 40    15216\n",
            "50     2819\n",
            "45     1824\n",
            "60     1475\n",
            "35     1297\n",
            "      ...  \n",
            "82        1\n",
            "94        1\n",
            "92        1\n",
            "74        1\n",
            "87        1\n",
            "Name: Hours_per_week, Length: 94, dtype: int64\n",
            "\n",
            " -------------------------------------------------------\n",
            "\n",
            "Native country unique value ;  United-States                 29169\n",
            " Mexico                          643\n",
            " ?                               583\n",
            " Philippines                     198\n",
            " Germany                         137\n",
            " Canada                          121\n",
            " Puerto-Rico                     114\n",
            " El-Salvador                     106\n",
            " India                           100\n",
            " Cuba                             95\n",
            " England                          90\n",
            " Jamaica                          81\n",
            " South                            80\n",
            " China                            75\n",
            " Italy                            73\n",
            " Dominican-Republic               70\n",
            " Vietnam                          67\n",
            " Guatemala                        64\n",
            " Japan                            62\n",
            " Poland                           60\n",
            " Columbia                         59\n",
            " Taiwan                           51\n",
            " Haiti                            44\n",
            " Iran                             43\n",
            " Portugal                         37\n",
            " Nicaragua                        34\n",
            " Peru                             31\n",
            " France                           29\n",
            " Greece                           29\n",
            " Ecuador                          28\n",
            " Ireland                          24\n",
            " Hong                             20\n",
            " Cambodia                         19\n",
            " Trinadad&Tobago                  19\n",
            " Laos                             18\n",
            " Thailand                         18\n",
            " Yugoslavia                       16\n",
            " Outlying-US(Guam-USVI-etc)       14\n",
            " Honduras                         13\n",
            " Hungary                          13\n",
            " Scotland                         12\n",
            " Holand-Netherlands                1\n",
            "Name: Native_country, dtype: int64\n",
            "\n",
            " -------------------------------------------------------\n",
            "\n",
            "Age unique value ; 36    898\n",
            "31    888\n",
            "34    886\n",
            "23    877\n",
            "35    876\n",
            "     ... \n",
            "83      6\n",
            "88      3\n",
            "85      3\n",
            "86      1\n",
            "87      1\n",
            "Name: Age, Length: 73, dtype: int64\n",
            "\n",
            " -------------------------------------------------------\n",
            "\n"
          ]
        }
      ],
      "source": [
        "print('Education unique value ;',df['Education'].value_counts())\n",
        "print('\\n -------------------------------------------------------\\n')\n",
        "\n",
        "\n",
        "print('Education_num unique value ;',df['Education_num'].value_counts())\n",
        "print('\\n -------------------------------------------------------\\n')\n",
        "\n",
        "\n",
        "print('Martial status unique value ;',df['Marital_status'].value_counts())\n",
        "print('\\n -------------------------------------------------------\\n')\n",
        "\n",
        "\n",
        "print('occupation unique value ;',df['Occupation'].value_counts())\n",
        "print('\\n -------------------------------------------------------\\n')\n",
        "\n",
        "\n",
        "print('Realtionship unique value ;',df['Relationship'].value_counts())\n",
        "print('\\n -------------------------------------------------------\\n')\n",
        "\n",
        "\n",
        "print('Race unique value ;',df['Race'].value_counts())\n",
        "print('\\n -------------------------------------------------------\\n')\n",
        "\n",
        "print('Sex unique value ;',df['Sex'].value_counts())\n",
        "print('\\n -------------------------------------------------------\\n')\n",
        "\n",
        "print('Capital gain unique value ;',df['Capital_gain'].value_counts())\n",
        "print('\\n -------------------------------------------------------\\n')\n",
        "\n",
        "print('Capital loss unique value ;',df['Capital_loss'].value_counts())\n",
        "print('\\n -------------------------------------------------------\\n')\n",
        "\n",
        "print('Hours per week unique value ;',df['Hours_per_week'].value_counts())\n",
        "print('\\n -------------------------------------------------------\\n')\n",
        "\n",
        "print('Native country unique value ;',df['Native_country'].value_counts())\n",
        "print('\\n -------------------------------------------------------\\n')\n",
        "\n",
        "print('Age unique value ;',df['Age'].value_counts())\n",
        "print('\\n -------------------------------------------------------\\n')"
      ]
    },
    {
      "cell_type": "markdown",
      "metadata": {
        "id": "CRKHHg_u3p6y"
      },
      "source": [
        "***Native country,workclass, occupation has unwanted entries (?) that can effect the model learning abilty.***"
      ]
    },
    {
      "cell_type": "code",
      "execution_count": 12,
      "metadata": {
        "colab": {
          "base_uri": "https://localhost:8080/"
        },
        "id": "zNy7iF0p0Xqb",
        "outputId": "6973601a-468c-400d-b452-3363ce037d84"
      },
      "outputs": [
        {
          "output_type": "stream",
          "name": "stderr",
          "text": [
            "<ipython-input-12-f36ed781e797>:3: FutureWarning: The default value of regex will change from True to False in a future version. In addition, single character regular expressions will *not* be treated as literal strings when regex=True.\n",
            "  df['Workclass']=df['Workclass'].str.replace('?','Private')\n",
            "<ipython-input-12-f36ed781e797>:5: FutureWarning: The default value of regex will change from True to False in a future version. In addition, single character regular expressions will *not* be treated as literal strings when regex=True.\n",
            "  df['Occupation']=df['Occupation'].str.replace('?','Prof-specialty')\n",
            "<ipython-input-12-f36ed781e797>:7: FutureWarning: The default value of regex will change from True to False in a future version. In addition, single character regular expressions will *not* be treated as literal strings when regex=True.\n",
            "  df.Native_country=df.Native_country.str.replace('?','United-States')\n"
          ]
        }
      ],
      "source": [
        "#filling ? values with mode\n",
        "\n",
        "df['Workclass']=df['Workclass'].str.replace('?','Private')\n",
        "\n",
        "df['Occupation']=df['Occupation'].str.replace('?','Prof-specialty')\n",
        "\n",
        "df.Native_country=df.Native_country.str.replace('?','United-States')"
      ]
    },
    {
      "cell_type": "code",
      "execution_count": 13,
      "metadata": {
        "colab": {
          "base_uri": "https://localhost:8080/"
        },
        "id": "QlsRk7mdP6d5",
        "outputId": "1dde7735-64d8-4ede-9f1e-648c16566320"
      },
      "outputs": [
        {
          "output_type": "execute_result",
          "data": {
            "text/plain": [
              " Private             24532\n",
              " Self-emp-not-inc     2541\n",
              " Local-gov            2093\n",
              " State-gov            1297\n",
              " Self-emp-inc         1116\n",
              " Federal-gov           960\n",
              " Without-pay            14\n",
              " Never-worked            7\n",
              "Name: Workclass, dtype: int64"
            ]
          },
          "metadata": {},
          "execution_count": 13
        }
      ],
      "source": [
        "\n",
        "df['Workclass'].value_counts()"
      ]
    },
    {
      "cell_type": "code",
      "execution_count": 14,
      "metadata": {
        "colab": {
          "base_uri": "https://localhost:8080/"
        },
        "id": "qK-J_TevTf7V",
        "outputId": "1777a459-798e-4b55-e38c-876f8d733727"
      },
      "outputs": [
        {
          "output_type": "execute_result",
          "data": {
            "text/plain": [
              " Prof-specialty       5983\n",
              " Craft-repair         4099\n",
              " Exec-managerial      4066\n",
              " Adm-clerical         3769\n",
              " Sales                3650\n",
              " Other-service        3295\n",
              " Machine-op-inspct    2002\n",
              " Transport-moving     1597\n",
              " Handlers-cleaners    1370\n",
              " Farming-fishing       994\n",
              " Tech-support          928\n",
              " Protective-serv       649\n",
              " Priv-house-serv       149\n",
              " Armed-Forces            9\n",
              "Name: Occupation, dtype: int64"
            ]
          },
          "metadata": {},
          "execution_count": 14
        }
      ],
      "source": [
        "\n",
        "df['Occupation'].value_counts()"
      ]
    },
    {
      "cell_type": "code",
      "execution_count": 15,
      "metadata": {
        "colab": {
          "base_uri": "https://localhost:8080/"
        },
        "id": "uYA6LlJoTlz4",
        "outputId": "7050c5ff-58b0-4a6c-a6d9-e8e3b992956d"
      },
      "outputs": [
        {
          "output_type": "execute_result",
          "data": {
            "text/plain": [
              " United-States                 29752\n",
              " Mexico                          643\n",
              " Philippines                     198\n",
              " Germany                         137\n",
              " Canada                          121\n",
              " Puerto-Rico                     114\n",
              " El-Salvador                     106\n",
              " India                           100\n",
              " Cuba                             95\n",
              " England                          90\n",
              " Jamaica                          81\n",
              " South                            80\n",
              " China                            75\n",
              " Italy                            73\n",
              " Dominican-Republic               70\n",
              " Vietnam                          67\n",
              " Guatemala                        64\n",
              " Japan                            62\n",
              " Poland                           60\n",
              " Columbia                         59\n",
              " Taiwan                           51\n",
              " Haiti                            44\n",
              " Iran                             43\n",
              " Portugal                         37\n",
              " Nicaragua                        34\n",
              " Peru                             31\n",
              " France                           29\n",
              " Greece                           29\n",
              " Ecuador                          28\n",
              " Ireland                          24\n",
              " Hong                             20\n",
              " Cambodia                         19\n",
              " Trinadad&Tobago                  19\n",
              " Laos                             18\n",
              " Thailand                         18\n",
              " Yugoslavia                       16\n",
              " Outlying-US(Guam-USVI-etc)       14\n",
              " Honduras                         13\n",
              " Hungary                          13\n",
              " Scotland                         12\n",
              " Holand-Netherlands                1\n",
              "Name: Native_country, dtype: int64"
            ]
          },
          "metadata": {},
          "execution_count": 15
        }
      ],
      "source": [
        "\n",
        "df['Native_country'].value_counts()"
      ]
    },
    {
      "cell_type": "code",
      "execution_count": 16,
      "metadata": {
        "id": "n7HkGNeVTGAw"
      },
      "outputs": [],
      "source": [
        "#replacing target value with binary code\n",
        "\n",
        "df.Income.replace({'<=50K':0,'>50K':1},inplace=True,regex=True)"
      ]
    },
    {
      "cell_type": "code",
      "execution_count": 17,
      "metadata": {
        "colab": {
          "base_uri": "https://localhost:8080/",
          "height": 357
        },
        "id": "rAgvpGUiTj8o",
        "outputId": "7412cc9b-b886-479b-ab65-fa1bd9fc5f2d"
      },
      "outputs": [
        {
          "output_type": "execute_result",
          "data": {
            "text/plain": [
              "   Age          Workclass  Fnlwgt   Education  Education_num  \\\n",
              "0   50   Self-emp-not-inc   83311   Bachelors             13   \n",
              "1   38            Private  215646     HS-grad              9   \n",
              "2   53            Private  234721        11th              7   \n",
              "3   28            Private  338409   Bachelors             13   \n",
              "4   37            Private  284582     Masters             14   \n",
              "\n",
              "        Marital_status          Occupation    Relationship    Race      Sex  \\\n",
              "0   Married-civ-spouse     Exec-managerial         Husband   White     Male   \n",
              "1             Divorced   Handlers-cleaners   Not-in-family   White     Male   \n",
              "2   Married-civ-spouse   Handlers-cleaners         Husband   Black     Male   \n",
              "3   Married-civ-spouse      Prof-specialty            Wife   Black   Female   \n",
              "4   Married-civ-spouse     Exec-managerial            Wife   White   Female   \n",
              "\n",
              "   Capital_gain  Capital_loss  Hours_per_week  Native_country  Income  \n",
              "0             0             0              13   United-States       0  \n",
              "1             0             0              40   United-States       0  \n",
              "2             0             0              40   United-States       0  \n",
              "3             0             0              40            Cuba       0  \n",
              "4             0             0              40   United-States       0  "
            ],
            "text/html": [
              "\n",
              "  <div id=\"df-69db8036-7860-41fe-a29a-0745388eb41a\">\n",
              "    <div class=\"colab-df-container\">\n",
              "      <div>\n",
              "<style scoped>\n",
              "    .dataframe tbody tr th:only-of-type {\n",
              "        vertical-align: middle;\n",
              "    }\n",
              "\n",
              "    .dataframe tbody tr th {\n",
              "        vertical-align: top;\n",
              "    }\n",
              "\n",
              "    .dataframe thead th {\n",
              "        text-align: right;\n",
              "    }\n",
              "</style>\n",
              "<table border=\"1\" class=\"dataframe\">\n",
              "  <thead>\n",
              "    <tr style=\"text-align: right;\">\n",
              "      <th></th>\n",
              "      <th>Age</th>\n",
              "      <th>Workclass</th>\n",
              "      <th>Fnlwgt</th>\n",
              "      <th>Education</th>\n",
              "      <th>Education_num</th>\n",
              "      <th>Marital_status</th>\n",
              "      <th>Occupation</th>\n",
              "      <th>Relationship</th>\n",
              "      <th>Race</th>\n",
              "      <th>Sex</th>\n",
              "      <th>Capital_gain</th>\n",
              "      <th>Capital_loss</th>\n",
              "      <th>Hours_per_week</th>\n",
              "      <th>Native_country</th>\n",
              "      <th>Income</th>\n",
              "    </tr>\n",
              "  </thead>\n",
              "  <tbody>\n",
              "    <tr>\n",
              "      <th>0</th>\n",
              "      <td>50</td>\n",
              "      <td>Self-emp-not-inc</td>\n",
              "      <td>83311</td>\n",
              "      <td>Bachelors</td>\n",
              "      <td>13</td>\n",
              "      <td>Married-civ-spouse</td>\n",
              "      <td>Exec-managerial</td>\n",
              "      <td>Husband</td>\n",
              "      <td>White</td>\n",
              "      <td>Male</td>\n",
              "      <td>0</td>\n",
              "      <td>0</td>\n",
              "      <td>13</td>\n",
              "      <td>United-States</td>\n",
              "      <td>0</td>\n",
              "    </tr>\n",
              "    <tr>\n",
              "      <th>1</th>\n",
              "      <td>38</td>\n",
              "      <td>Private</td>\n",
              "      <td>215646</td>\n",
              "      <td>HS-grad</td>\n",
              "      <td>9</td>\n",
              "      <td>Divorced</td>\n",
              "      <td>Handlers-cleaners</td>\n",
              "      <td>Not-in-family</td>\n",
              "      <td>White</td>\n",
              "      <td>Male</td>\n",
              "      <td>0</td>\n",
              "      <td>0</td>\n",
              "      <td>40</td>\n",
              "      <td>United-States</td>\n",
              "      <td>0</td>\n",
              "    </tr>\n",
              "    <tr>\n",
              "      <th>2</th>\n",
              "      <td>53</td>\n",
              "      <td>Private</td>\n",
              "      <td>234721</td>\n",
              "      <td>11th</td>\n",
              "      <td>7</td>\n",
              "      <td>Married-civ-spouse</td>\n",
              "      <td>Handlers-cleaners</td>\n",
              "      <td>Husband</td>\n",
              "      <td>Black</td>\n",
              "      <td>Male</td>\n",
              "      <td>0</td>\n",
              "      <td>0</td>\n",
              "      <td>40</td>\n",
              "      <td>United-States</td>\n",
              "      <td>0</td>\n",
              "    </tr>\n",
              "    <tr>\n",
              "      <th>3</th>\n",
              "      <td>28</td>\n",
              "      <td>Private</td>\n",
              "      <td>338409</td>\n",
              "      <td>Bachelors</td>\n",
              "      <td>13</td>\n",
              "      <td>Married-civ-spouse</td>\n",
              "      <td>Prof-specialty</td>\n",
              "      <td>Wife</td>\n",
              "      <td>Black</td>\n",
              "      <td>Female</td>\n",
              "      <td>0</td>\n",
              "      <td>0</td>\n",
              "      <td>40</td>\n",
              "      <td>Cuba</td>\n",
              "      <td>0</td>\n",
              "    </tr>\n",
              "    <tr>\n",
              "      <th>4</th>\n",
              "      <td>37</td>\n",
              "      <td>Private</td>\n",
              "      <td>284582</td>\n",
              "      <td>Masters</td>\n",
              "      <td>14</td>\n",
              "      <td>Married-civ-spouse</td>\n",
              "      <td>Exec-managerial</td>\n",
              "      <td>Wife</td>\n",
              "      <td>White</td>\n",
              "      <td>Female</td>\n",
              "      <td>0</td>\n",
              "      <td>0</td>\n",
              "      <td>40</td>\n",
              "      <td>United-States</td>\n",
              "      <td>0</td>\n",
              "    </tr>\n",
              "  </tbody>\n",
              "</table>\n",
              "</div>\n",
              "      <button class=\"colab-df-convert\" onclick=\"convertToInteractive('df-69db8036-7860-41fe-a29a-0745388eb41a')\"\n",
              "              title=\"Convert this dataframe to an interactive table.\"\n",
              "              style=\"display:none;\">\n",
              "        \n",
              "  <svg xmlns=\"http://www.w3.org/2000/svg\" height=\"24px\"viewBox=\"0 0 24 24\"\n",
              "       width=\"24px\">\n",
              "    <path d=\"M0 0h24v24H0V0z\" fill=\"none\"/>\n",
              "    <path d=\"M18.56 5.44l.94 2.06.94-2.06 2.06-.94-2.06-.94-.94-2.06-.94 2.06-2.06.94zm-11 1L8.5 8.5l.94-2.06 2.06-.94-2.06-.94L8.5 2.5l-.94 2.06-2.06.94zm10 10l.94 2.06.94-2.06 2.06-.94-2.06-.94-.94-2.06-.94 2.06-2.06.94z\"/><path d=\"M17.41 7.96l-1.37-1.37c-.4-.4-.92-.59-1.43-.59-.52 0-1.04.2-1.43.59L10.3 9.45l-7.72 7.72c-.78.78-.78 2.05 0 2.83L4 21.41c.39.39.9.59 1.41.59.51 0 1.02-.2 1.41-.59l7.78-7.78 2.81-2.81c.8-.78.8-2.07 0-2.86zM5.41 20L4 18.59l7.72-7.72 1.47 1.35L5.41 20z\"/>\n",
              "  </svg>\n",
              "      </button>\n",
              "      \n",
              "  <style>\n",
              "    .colab-df-container {\n",
              "      display:flex;\n",
              "      flex-wrap:wrap;\n",
              "      gap: 12px;\n",
              "    }\n",
              "\n",
              "    .colab-df-convert {\n",
              "      background-color: #E8F0FE;\n",
              "      border: none;\n",
              "      border-radius: 50%;\n",
              "      cursor: pointer;\n",
              "      display: none;\n",
              "      fill: #1967D2;\n",
              "      height: 32px;\n",
              "      padding: 0 0 0 0;\n",
              "      width: 32px;\n",
              "    }\n",
              "\n",
              "    .colab-df-convert:hover {\n",
              "      background-color: #E2EBFA;\n",
              "      box-shadow: 0px 1px 2px rgba(60, 64, 67, 0.3), 0px 1px 3px 1px rgba(60, 64, 67, 0.15);\n",
              "      fill: #174EA6;\n",
              "    }\n",
              "\n",
              "    [theme=dark] .colab-df-convert {\n",
              "      background-color: #3B4455;\n",
              "      fill: #D2E3FC;\n",
              "    }\n",
              "\n",
              "    [theme=dark] .colab-df-convert:hover {\n",
              "      background-color: #434B5C;\n",
              "      box-shadow: 0px 1px 3px 1px rgba(0, 0, 0, 0.15);\n",
              "      filter: drop-shadow(0px 1px 2px rgba(0, 0, 0, 0.3));\n",
              "      fill: #FFFFFF;\n",
              "    }\n",
              "  </style>\n",
              "\n",
              "      <script>\n",
              "        const buttonEl =\n",
              "          document.querySelector('#df-69db8036-7860-41fe-a29a-0745388eb41a button.colab-df-convert');\n",
              "        buttonEl.style.display =\n",
              "          google.colab.kernel.accessAllowed ? 'block' : 'none';\n",
              "\n",
              "        async function convertToInteractive(key) {\n",
              "          const element = document.querySelector('#df-69db8036-7860-41fe-a29a-0745388eb41a');\n",
              "          const dataTable =\n",
              "            await google.colab.kernel.invokeFunction('convertToInteractive',\n",
              "                                                     [key], {});\n",
              "          if (!dataTable) return;\n",
              "\n",
              "          const docLinkHtml = 'Like what you see? Visit the ' +\n",
              "            '<a target=\"_blank\" href=https://colab.research.google.com/notebooks/data_table.ipynb>data table notebook</a>'\n",
              "            + ' to learn more about interactive tables.';\n",
              "          element.innerHTML = '';\n",
              "          dataTable['output_type'] = 'display_data';\n",
              "          await google.colab.output.renderOutput(dataTable, element);\n",
              "          const docLink = document.createElement('div');\n",
              "          docLink.innerHTML = docLinkHtml;\n",
              "          element.appendChild(docLink);\n",
              "        }\n",
              "      </script>\n",
              "    </div>\n",
              "  </div>\n",
              "  "
            ]
          },
          "metadata": {},
          "execution_count": 17
        }
      ],
      "source": [
        "df.head()"
      ]
    },
    {
      "cell_type": "code",
      "execution_count": 18,
      "metadata": {
        "colab": {
          "base_uri": "https://localhost:8080/"
        },
        "id": "PAnU4e-cV3sa",
        "outputId": "75cdec1f-bc87-4868-8013-c5f2d00f2d03"
      },
      "outputs": [
        {
          "output_type": "execute_result",
          "data": {
            "text/plain": [
              "0    24719\n",
              "1     7841\n",
              "Name: Income, dtype: int64"
            ]
          },
          "metadata": {},
          "execution_count": 18
        }
      ],
      "source": [
        "df.Income.value_counts()"
      ]
    },
    {
      "cell_type": "markdown",
      "metadata": {
        "id": "ccGzeOCjaS94"
      },
      "source": [
        "#Feature Engineering"
      ]
    },
    {
      "cell_type": "code",
      "execution_count": 19,
      "metadata": {
        "colab": {
          "base_uri": "https://localhost:8080/"
        },
        "id": "lkHUYmBPWDUM",
        "outputId": "31c88cf2-9ff6-42a4-ef72-8f1c70ce796e"
      },
      "outputs": [
        {
          "output_type": "execute_result",
          "data": {
            "text/plain": [
              " Married-civ-spouse       14976\n",
              " Never-married            10682\n",
              " Divorced                  4443\n",
              " Separated                 1025\n",
              " Widowed                    993\n",
              " Married-spouse-absent      418\n",
              " Married-AF-spouse           23\n",
              "Name: Marital_status, dtype: int64"
            ]
          },
          "metadata": {},
          "execution_count": 19
        }
      ],
      "source": [
        "#checking the unique values\n",
        "df.Marital_status.value_counts()"
      ]
    },
    {
      "cell_type": "code",
      "execution_count": 20,
      "metadata": {
        "id": "X_Mc4SL1WQLa"
      },
      "outputs": [],
      "source": [
        "#reducing the multiple categories into few\n",
        "\n",
        "df.Marital_status.replace({'Married-civ-spouse':'Married','Married-AF-spouse':'Married','Divorced':'Separated',\n",
        "                           'Married-spouse-absent':'Separated',},inplace=True,regex=True)"
      ]
    },
    {
      "cell_type": "code",
      "execution_count": 21,
      "metadata": {
        "colab": {
          "base_uri": "https://localhost:8080/"
        },
        "id": "W-a4LDr0XSAP",
        "outputId": "36cc809d-7d7c-493c-a60b-d6fa2372916c"
      },
      "outputs": [
        {
          "output_type": "execute_result",
          "data": {
            "text/plain": [
              " Married          14999\n",
              " Never-married    10682\n",
              " Separated         5886\n",
              " Widowed            993\n",
              "Name: Marital_status, dtype: int64"
            ]
          },
          "metadata": {},
          "execution_count": 21
        }
      ],
      "source": [
        "#checking the changes\n",
        "df.Marital_status.value_counts()"
      ]
    },
    {
      "cell_type": "code",
      "execution_count": 22,
      "metadata": {
        "colab": {
          "base_uri": "https://localhost:8080/"
        },
        "id": "t_zXektiYSe0",
        "outputId": "b6e3a57c-6eee-4e41-e18a-7bfc2ccb3f3f"
      },
      "outputs": [
        {
          "output_type": "execute_result",
          "data": {
            "text/plain": [
              " HS-grad         10501\n",
              " Some-college     7291\n",
              " Bachelors        5354\n",
              " Masters          1723\n",
              " Assoc-voc        1382\n",
              " 11th             1175\n",
              " Assoc-acdm       1067\n",
              " 10th              933\n",
              " 7th-8th           646\n",
              " Prof-school       576\n",
              " 9th               514\n",
              " 12th              433\n",
              " Doctorate         413\n",
              " 5th-6th           333\n",
              " 1st-4th           168\n",
              " Preschool          51\n",
              "Name: Education, dtype: int64"
            ]
          },
          "metadata": {},
          "execution_count": 22
        }
      ],
      "source": [
        "#checking the unique values\n",
        "df.Education.value_counts()"
      ]
    },
    {
      "cell_type": "code",
      "execution_count": 23,
      "metadata": {
        "id": "fwd1lqyzYaxX"
      },
      "outputs": [],
      "source": [
        "#reducing the multiple categories into few\n",
        "df.Education.replace({'Preschool':'School','1st-4th':'School','5th-6th':'School',\n",
        "                           '7th-8th':'School','9th':'School','10th':'School','11th':'School',\n",
        "                           '12th':'School','Some-college':'High-School','Assoc-voc':'High-School','Prof-school':'High-School',\n",
        "                           'Assoc-acdm':'High-School','HS-grad':'Graduate','Bachelors':'Graduate'},inplace=True,regex=True)"
      ]
    },
    {
      "cell_type": "code",
      "execution_count": 24,
      "metadata": {
        "colab": {
          "base_uri": "https://localhost:8080/"
        },
        "id": "tnv63g-aZxI0",
        "outputId": "438fafc9-2d90-4fb0-b941-c6e505c5e26a"
      },
      "outputs": [
        {
          "output_type": "execute_result",
          "data": {
            "text/plain": [
              " Graduate       15855\n",
              " High-School    10316\n",
              " School          4253\n",
              " Masters         1723\n",
              " Doctorate        413\n",
              "Name: Education, dtype: int64"
            ]
          },
          "metadata": {},
          "execution_count": 24
        }
      ],
      "source": [
        "#checking the changes\n",
        "df.Education.value_counts()"
      ]
    },
    {
      "cell_type": "code",
      "execution_count": 25,
      "metadata": {
        "colab": {
          "base_uri": "https://localhost:8080/"
        },
        "id": "y4ErjhUZHde6",
        "outputId": "226f2063-4a80-4a23-ee7e-29fc771f0e4e"
      },
      "outputs": [
        {
          "output_type": "execute_result",
          "data": {
            "text/plain": [
              " Private             24532\n",
              " Self-emp-not-inc     2541\n",
              " Local-gov            2093\n",
              " State-gov            1297\n",
              " Self-emp-inc         1116\n",
              " Federal-gov           960\n",
              " Without-pay            14\n",
              " Never-worked            7\n",
              "Name: Workclass, dtype: int64"
            ]
          },
          "metadata": {},
          "execution_count": 25
        }
      ],
      "source": [
        "#checking the unique values\n",
        "df.Workclass.value_counts()"
      ]
    },
    {
      "cell_type": "code",
      "execution_count": 26,
      "metadata": {
        "id": "HRK4xoKHHpo2"
      },
      "outputs": [],
      "source": [
        "#reducing the multiple categories into few\n",
        "df.Workclass.replace({'Self-emp-not-inc':'Self-employed','Self-emp-inc':'Self-employed','Local-gov':'Government','State-gov':'Government',\n",
        "                      'Federal-gov':'Government'},inplace=True,regex=True)"
      ]
    },
    {
      "cell_type": "code",
      "execution_count": 27,
      "metadata": {
        "colab": {
          "base_uri": "https://localhost:8080/"
        },
        "id": "UBm7rJVVImQg",
        "outputId": "69937e5b-6684-4809-8831-7439512a27a6"
      },
      "outputs": [
        {
          "output_type": "execute_result",
          "data": {
            "text/plain": [
              " Private          24532\n",
              " Government        4350\n",
              " Self-employed     3657\n",
              " Without-pay         14\n",
              " Never-worked         7\n",
              "Name: Workclass, dtype: int64"
            ]
          },
          "metadata": {},
          "execution_count": 27
        }
      ],
      "source": [
        "df.Workclass.value_counts()"
      ]
    },
    {
      "cell_type": "code",
      "execution_count": 28,
      "metadata": {
        "colab": {
          "base_uri": "https://localhost:8080/"
        },
        "id": "-9pUoymjItGS",
        "outputId": "e5d2dbe5-d3a4-40f5-c88c-c2678bbe2c0f"
      },
      "outputs": [
        {
          "output_type": "execute_result",
          "data": {
            "text/plain": [
              " Husband           13193\n",
              " Not-in-family      8304\n",
              " Own-child          5068\n",
              " Unmarried          3446\n",
              " Wife               1568\n",
              " Other-relative      981\n",
              "Name: Relationship, dtype: int64"
            ]
          },
          "metadata": {},
          "execution_count": 28
        }
      ],
      "source": [
        "df.Relationship.value_counts()"
      ]
    },
    {
      "cell_type": "code",
      "execution_count": 29,
      "metadata": {
        "id": "tEc8maoHJcxV"
      },
      "outputs": [],
      "source": [
        "#reducing the multiple categories into few\n",
        "df.Relationship.replace({'Not-in-family':'Others','Own-child':'Others','Unmarried':'Others','Other-relative':'Others'},inplace=True,regex=True)"
      ]
    },
    {
      "cell_type": "code",
      "execution_count": 30,
      "metadata": {
        "colab": {
          "base_uri": "https://localhost:8080/"
        },
        "id": "lIxzjigxJ-x_",
        "outputId": "cd1f6b5b-e24a-4041-c677-e4ba9cdc7a1d"
      },
      "outputs": [
        {
          "output_type": "execute_result",
          "data": {
            "text/plain": [
              " Others     17799\n",
              " Husband    13193\n",
              " Wife        1568\n",
              "Name: Relationship, dtype: int64"
            ]
          },
          "metadata": {},
          "execution_count": 30
        }
      ],
      "source": [
        "#checking the changes\n",
        "df.Relationship.value_counts()"
      ]
    },
    {
      "cell_type": "code",
      "execution_count": 31,
      "metadata": {
        "colab": {
          "base_uri": "https://localhost:8080/"
        },
        "id": "LGwEJUmlKB9d",
        "outputId": "8b285ce3-838e-43bb-f45c-a619f27f9846"
      },
      "outputs": [
        {
          "output_type": "execute_result",
          "data": {
            "text/plain": [
              " White                 27815\n",
              " Black                  3124\n",
              " Asian-Pac-Islander     1039\n",
              " Amer-Indian-Eskimo      311\n",
              " Other                   271\n",
              "Name: Race, dtype: int64"
            ]
          },
          "metadata": {},
          "execution_count": 31
        }
      ],
      "source": [
        "df.Race.value_counts()"
      ]
    },
    {
      "cell_type": "code",
      "execution_count": 32,
      "metadata": {
        "id": "9eyVmKWsKL22"
      },
      "outputs": [],
      "source": [
        "df.Race.replace({'Asian-Pac-Islander':'Others','Amer-Indian-Eskimo':'Others','Other':'Others'},inplace=True,regex=True)"
      ]
    },
    {
      "cell_type": "code",
      "execution_count": 33,
      "metadata": {
        "colab": {
          "base_uri": "https://localhost:8080/"
        },
        "id": "7g3Dkd1sKYkz",
        "outputId": "d6e8b6a3-ea2b-4706-a979-b1d70090fcf4"
      },
      "outputs": [
        {
          "output_type": "execute_result",
          "data": {
            "text/plain": [
              " White     27815\n",
              " Black      3124\n",
              " Others     1621\n",
              "Name: Race, dtype: int64"
            ]
          },
          "metadata": {},
          "execution_count": 33
        }
      ],
      "source": [
        "df.Race.value_counts()"
      ]
    },
    {
      "cell_type": "markdown",
      "metadata": {
        "id": "-rzwJSaMSLG3"
      },
      "source": [
        "#Data Visualisation"
      ]
    },
    {
      "cell_type": "code",
      "execution_count": 34,
      "metadata": {
        "id": "FqmWu5V_SJNC"
      },
      "outputs": [],
      "source": [
        "import matplotlib.pyplot as plt\n",
        "import seaborn as sns\n",
        "import warnings\n",
        "warnings.filterwarnings('ignore')"
      ]
    },
    {
      "cell_type": "code",
      "execution_count": 35,
      "metadata": {
        "colab": {
          "base_uri": "https://localhost:8080/"
        },
        "id": "dM9L6FNXaobJ",
        "outputId": "63f537cd-6335-4b6b-94b3-25ce0c32005a"
      },
      "outputs": [
        {
          "output_type": "execute_result",
          "data": {
            "text/plain": [
              "Index(['Age', 'Workclass', 'Fnlwgt', 'Education', 'Education_num',\n",
              "       'Marital_status', 'Occupation', 'Relationship', 'Race', 'Sex',\n",
              "       'Capital_gain', 'Capital_loss', 'Hours_per_week', 'Native_country',\n",
              "       'Income'],\n",
              "      dtype='object')"
            ]
          },
          "metadata": {},
          "execution_count": 35
        }
      ],
      "source": [
        "df.columns"
      ]
    },
    {
      "cell_type": "code",
      "execution_count": 36,
      "metadata": {
        "colab": {
          "base_uri": "https://localhost:8080/",
          "height": 279
        },
        "id": "BwSGb4vIS_yL",
        "outputId": "05bf024e-9ed1-44e8-ae8e-8eee75ebb880"
      },
      "outputs": [
        {
          "output_type": "display_data",
          "data": {
            "text/plain": [
              "<Figure size 432x288 with 1 Axes>"
            ],
            "image/png": "[encoded data removed]"
          },
          "metadata": {
            "needs_background": "light"
          }
        }
      ],
      "source": [
        "sns.countplot(x='Sex',hue='Income',data=df);"
      ]
    },
    {
      "cell_type": "markdown",
      "metadata": {
        "id": "yuRD9HdSauf5"
      },
      "source": [
        "More males have income greater than 50K than females."
      ]
    },
    {
      "cell_type": "code",
      "execution_count": 37,
      "metadata": {
        "colab": {
          "base_uri": "https://localhost:8080/",
          "height": 339
        },
        "id": "bcddkZHjbBpj",
        "outputId": "6e33fa8c-646f-457a-e504-8f523bec3de9"
      },
      "outputs": [
        {
          "output_type": "display_data",
          "data": {
            "text/plain": [
              "<Figure size 1080x360 with 1 Axes>"
            ],
            "image/png": "[encoded data removed]"
          },
          "metadata": {
            "needs_background": "light"
          }
        }
      ],
      "source": [
        "plt.figure(figsize=(15,5))\n",
        "sns.set()\n",
        "sns.countplot(x='Workclass',hue='Income',data=df);"
      ]
    },
    {
      "cell_type": "markdown",
      "metadata": {
        "id": "5ETxGDQHbaNZ"
      },
      "source": [
        "Private working people have highere level of income more than 50K."
      ]
    },
    {
      "cell_type": "code",
      "execution_count": 38,
      "metadata": {
        "colab": {
          "base_uri": "https://localhost:8080/",
          "height": 339
        },
        "id": "rKq8CKP_bt1_",
        "outputId": "38fd2939-518b-495b-b382-6356caa6d516"
      },
      "outputs": [
        {
          "output_type": "display_data",
          "data": {
            "text/plain": [
              "<Figure size 1080x360 with 1 Axes>"
            ],
            "image/png": "[encoded data removed]"
          },
          "metadata": {}
        }
      ],
      "source": [
        "plt.figure(figsize=(15,5))\n",
        "sns.set()\n",
        "sns.countplot(x='Education',hue='Income',data=df);"
      ]
    },
    {
      "cell_type": "markdown",
      "metadata": {
        "id": "-QCDu5h9b5eN"
      },
      "source": [
        "People with schhol,highschool and graduate degree have more weightage of income <=50K ,whereas masters and doctorates have income >50K."
      ]
    },
    {
      "cell_type": "code",
      "execution_count": 39,
      "metadata": {
        "colab": {
          "base_uri": "https://localhost:8080/",
          "height": 339
        },
        "id": "ZyAXlmbweei6",
        "outputId": "ccf0bfff-d84b-4404-ba68-cc62080d168b"
      },
      "outputs": [
        {
          "output_type": "display_data",
          "data": {
            "text/plain": [
              "<Figure size 1080x360 with 1 Axes>"
            ],
            "image/png": "[encoded data removed]"
          },
          "metadata": {}
        }
      ],
      "source": [
        "plt.figure(figsize=(15,5))\n",
        "sns.set()\n",
        "sns.countplot(x='Marital_status',hue='Income',data=df);"
      ]
    },
    {
      "cell_type": "markdown",
      "metadata": {
        "id": "1jZwyWsQfabX"
      },
      "source": [
        "More Married people have income >50K.\n",
        "\n",
        "Mostly Separated,Never-married and widowed have income <=50K.It can be because of single earning member."
      ]
    },
    {
      "cell_type": "code",
      "execution_count": 40,
      "metadata": {
        "colab": {
          "base_uri": "https://localhost:8080/",
          "height": 291
        },
        "id": "2legK1LfetPI",
        "outputId": "f6f9d197-c716-4fd0-e2a8-7f2f5fe0150e"
      },
      "outputs": [
        {
          "output_type": "display_data",
          "data": {
            "text/plain": [
              "<Figure size 1800x360 with 1 Axes>"
            ],
            "image/png": "[encoded data removed]"
          },
          "metadata": {}
        }
      ],
      "source": [
        "plt.figure(figsize=(25,5))\n",
        "sns.set()\n",
        "sns.countplot(x='Occupation',hue='Income',data=df);"
      ]
    },
    {
      "cell_type": "markdown",
      "metadata": {
        "id": "yvBlxzYyf9cd"
      },
      "source": [
        "People at mangerial level or involved in sepciality profession or sales have income >50K as compared to other occupation."
      ]
    },
    {
      "cell_type": "code",
      "execution_count": 41,
      "metadata": {
        "colab": {
          "base_uri": "https://localhost:8080/",
          "height": 289
        },
        "id": "MdJrc3k6e8q2",
        "outputId": "7dbb08f5-c814-46ce-85fd-8729ec648095"
      },
      "outputs": [
        {
          "output_type": "display_data",
          "data": {
            "text/plain": [
              "<Figure size 1800x360 with 1 Axes>"
            ],
            "image/png": "[encoded data removed]"
          },
          "metadata": {}
        }
      ],
      "source": [
        "plt.figure(figsize=(25,5))\n",
        "sns.set()\n",
        "sns.countplot(x='Race',hue='Income',data=df);"
      ]
    },
    {
      "cell_type": "markdown",
      "metadata": {
        "id": "9tdSdmVrgO7e"
      },
      "source": [
        "More Whites have income >50K as compared to other races."
      ]
    },
    {
      "cell_type": "code",
      "execution_count": 42,
      "metadata": {
        "colab": {
          "base_uri": "https://localhost:8080/",
          "height": 901
        },
        "id": "7XDjHcvYfMFn",
        "outputId": "f9190f5d-e8dc-4caa-a58b-c4f513a4513f"
      },
      "outputs": [
        {
          "output_type": "display_data",
          "data": {
            "text/plain": [
              "<Figure size 1440x1080 with 6 Axes>"
            ],
            "image/png": "[encoded data removed]"
          },
          "metadata": {}
        }
      ],
      "source": [
        "plt.figure(figsize=(20,15))\n",
        "plotnumber=1\n",
        "\n",
        "for column in df[['Age','Fnlwgt','Education_num','Capital_gain','Capital_loss','Hours_per_week']]:\n",
        "  if plotnumber <=6:\n",
        "    ax=plt.subplot(2,3,plotnumber)\n",
        "    sns.distplot(df[column])\n",
        "    plt.xlabel(column,fontsize=20)\n",
        "\n",
        "\n",
        "    plotnumber +=1\n",
        "\n",
        "plt.show()"
      ]
    },
    {
      "cell_type": "markdown",
      "metadata": {
        "id": "M6d2V4jpp3j1"
      },
      "source": [
        "The above graph shows the skewness in the data.\n",
        "It means it has outliers."
      ]
    },
    {
      "cell_type": "code",
      "execution_count": 43,
      "metadata": {
        "colab": {
          "base_uri": "https://localhost:8080/",
          "height": 890
        },
        "id": "VHT1KHE_qEwm",
        "outputId": "d924813e-4b69-4878-ac34-d836c60a4efd"
      },
      "outputs": [
        {
          "output_type": "display_data",
          "data": {
            "text/plain": [
              "<Figure size 1440x1080 with 6 Axes>"
            ],
            "image/png": "[encoded data removed]"
          },
          "metadata": {}
        }
      ],
      "source": [
        "plt.figure(figsize=(20,15))\n",
        "plotnumber=1\n",
        "\n",
        "for column in df[['Age','Fnlwgt','Education_num','Capital_gain','Capital_loss','Hours_per_week']]:\n",
        "  if plotnumber <=6:\n",
        "    ax=plt.subplot(2,3,plotnumber)\n",
        "    sns.boxplot(df[column])\n",
        "    plt.xlabel(column,fontsize=20)\n",
        "\n",
        "\n",
        "    plotnumber +=1\n",
        "\n",
        "plt.show()"
      ]
    },
    {
      "cell_type": "code",
      "execution_count": 44,
      "metadata": {
        "id": "_YPf0nCN6xxI"
      },
      "outputs": [],
      "source": [
        "#removing outliers\n",
        "\n",
        "from scipy.stats import zscore"
      ]
    },
    {
      "cell_type": "code",
      "execution_count": 45,
      "metadata": {
        "id": "IrbunKbK7ak9"
      },
      "outputs": [],
      "source": [
        "z_score=zscore(df[['Age','Fnlwgt','Education_num','Capital_gain','Capital_loss','Hours_per_week']])"
      ]
    },
    {
      "cell_type": "code",
      "execution_count": 46,
      "metadata": {
        "id": "cdLW6fQz8Ybr"
      },
      "outputs": [],
      "source": [
        "abs_z_score=np.abs(z_score)"
      ]
    },
    {
      "cell_type": "code",
      "execution_count": 47,
      "metadata": {
        "id": "v9kr_9Az8ekL"
      },
      "outputs": [],
      "source": [
        "filter_entry=(abs_z_score<3).all(axis=1)"
      ]
    },
    {
      "cell_type": "code",
      "execution_count": 48,
      "metadata": {
        "id": "sfd6RxW98p47"
      },
      "outputs": [],
      "source": [
        "df=df[filter_entry]"
      ]
    },
    {
      "cell_type": "markdown",
      "metadata": {
        "id": "YD-gBAWSNfs1"
      },
      "source": [
        "#ENCODING THE DATA"
      ]
    },
    {
      "cell_type": "code",
      "execution_count": 49,
      "metadata": {
        "id": "-iAb3_BzNZlL"
      },
      "outputs": [],
      "source": [
        "from sklearn.preprocessing import LabelEncoder"
      ]
    },
    {
      "cell_type": "code",
      "execution_count": 50,
      "metadata": {
        "id": "417d8bHQNzwS"
      },
      "outputs": [],
      "source": [
        "le=LabelEncoder()"
      ]
    },
    {
      "cell_type": "code",
      "execution_count": 51,
      "metadata": {
        "colab": {
          "base_uri": "https://localhost:8080/"
        },
        "id": "NZguSyW0PcV0",
        "outputId": "61bb325e-3d9b-4efa-b022-afd7ef655eb2"
      },
      "outputs": [
        {
          "output_type": "execute_result",
          "data": {
            "text/plain": [
              "Index(['Age', 'Workclass', 'Fnlwgt', 'Education', 'Education_num',\n",
              "       'Marital_status', 'Occupation', 'Relationship', 'Race', 'Sex',\n",
              "       'Capital_gain', 'Capital_loss', 'Hours_per_week', 'Native_country',\n",
              "       'Income'],\n",
              "      dtype='object')"
            ]
          },
          "metadata": {},
          "execution_count": 51
        }
      ],
      "source": [
        "df.columns"
      ]
    },
    {
      "cell_type": "code",
      "execution_count": 52,
      "metadata": {
        "id": "G38MLPJnPfa3"
      },
      "outputs": [],
      "source": [
        "df['Workclass']=le.fit_transform(df['Workclass'])\n",
        "df['Education']=le.fit_transform(df['Education'])\n",
        "df['Marital_status']=le.fit_transform(df['Marital_status'])\n",
        "df['Occupation']=le.fit_transform(df['Occupation'])\n",
        "df['Relationship']=le.fit_transform(df['Relationship'])\n",
        "df['Race']=le.fit_transform(df['Race'])\n",
        "df['Sex']=le.fit_transform(df['Sex'])\n",
        "df['Native_country']=le.fit_transform(df['Native_country'])"
      ]
    },
    {
      "cell_type": "code",
      "execution_count": 53,
      "metadata": {
        "colab": {
          "base_uri": "https://localhost:8080/",
          "height": 270
        },
        "id": "ojkcySVDQXV0",
        "outputId": "7f9ed1bd-0907-4b92-fcfb-33e538e47c6c"
      },
      "outputs": [
        {
          "output_type": "execute_result",
          "data": {
            "text/plain": [
              "   Age  Workclass  Fnlwgt  Education  Education_num  Marital_status  \\\n",
              "0   50          3   83311          1             13               0   \n",
              "1   38          2  215646          1              9               2   \n",
              "2   53          2  234721          4              7               0   \n",
              "3   28          2  338409          1             13               0   \n",
              "4   37          2  284582          3             14               0   \n",
              "\n",
              "   Occupation  Relationship  Race  Sex  Capital_gain  Capital_loss  \\\n",
              "0           3             0     2    1             0             0   \n",
              "1           5             1     2    1             0             0   \n",
              "2           5             0     0    1             0             0   \n",
              "3           9             2     0    0             0             0   \n",
              "4           3             2     2    0             0             0   \n",
              "\n",
              "   Hours_per_week  Native_country  Income  \n",
              "0              13              37       0  \n",
              "1              40              37       0  \n",
              "2              40              37       0  \n",
              "3              40               4       0  \n",
              "4              40              37       0  "
            ],
            "text/html": [
              "\n",
              "  <div id=\"df-59654fab-e691-4bcd-9c66-da0b40874063\">\n",
              "    <div class=\"colab-df-container\">\n",
              "      <div>\n",
              "<style scoped>\n",
              "    .dataframe tbody tr th:only-of-type {\n",
              "        vertical-align: middle;\n",
              "    }\n",
              "\n",
              "    .dataframe tbody tr th {\n",
              "        vertical-align: top;\n",
              "    }\n",
              "\n",
              "    .dataframe thead th {\n",
              "        text-align: right;\n",
              "    }\n",
              "</style>\n",
              "<table border=\"1\" class=\"dataframe\">\n",
              "  <thead>\n",
              "    <tr style=\"text-align: right;\">\n",
              "      <th></th>\n",
              "      <th>Age</th>\n",
              "      <th>Workclass</th>\n",
              "      <th>Fnlwgt</th>\n",
              "      <th>Education</th>\n",
              "      <th>Education_num</th>\n",
              "      <th>Marital_status</th>\n",
              "      <th>Occupation</th>\n",
              "      <th>Relationship</th>\n",
              "      <th>Race</th>\n",
              "      <th>Sex</th>\n",
              "      <th>Capital_gain</th>\n",
              "      <th>Capital_loss</th>\n",
              "      <th>Hours_per_week</th>\n",
              "      <th>Native_country</th>\n",
              "      <th>Income</th>\n",
              "    </tr>\n",
              "  </thead>\n",
              "  <tbody>\n",
              "    <tr>\n",
              "      <th>0</th>\n",
              "      <td>50</td>\n",
              "      <td>3</td>\n",
              "      <td>83311</td>\n",
              "      <td>1</td>\n",
              "      <td>13</td>\n",
              "      <td>0</td>\n",
              "      <td>3</td>\n",
              "      <td>0</td>\n",
              "      <td>2</td>\n",
              "      <td>1</td>\n",
              "      <td>0</td>\n",
              "      <td>0</td>\n",
              "      <td>13</td>\n",
              "      <td>37</td>\n",
              "      <td>0</td>\n",
              "    </tr>\n",
              "    <tr>\n",
              "      <th>1</th>\n",
              "      <td>38</td>\n",
              "      <td>2</td>\n",
              "      <td>215646</td>\n",
              "      <td>1</td>\n",
              "      <td>9</td>\n",
              "      <td>2</td>\n",
              "      <td>5</td>\n",
              "      <td>1</td>\n",
              "      <td>2</td>\n",
              "      <td>1</td>\n",
              "      <td>0</td>\n",
              "      <td>0</td>\n",
              "      <td>40</td>\n",
              "      <td>37</td>\n",
              "      <td>0</td>\n",
              "    </tr>\n",
              "    <tr>\n",
              "      <th>2</th>\n",
              "      <td>53</td>\n",
              "      <td>2</td>\n",
              "      <td>234721</td>\n",
              "      <td>4</td>\n",
              "      <td>7</td>\n",
              "      <td>0</td>\n",
              "      <td>5</td>\n",
              "      <td>0</td>\n",
              "      <td>0</td>\n",
              "      <td>1</td>\n",
              "      <td>0</td>\n",
              "      <td>0</td>\n",
              "      <td>40</td>\n",
              "      <td>37</td>\n",
              "      <td>0</td>\n",
              "    </tr>\n",
              "    <tr>\n",
              "      <th>3</th>\n",
              "      <td>28</td>\n",
              "      <td>2</td>\n",
              "      <td>338409</td>\n",
              "      <td>1</td>\n",
              "      <td>13</td>\n",
              "      <td>0</td>\n",
              "      <td>9</td>\n",
              "      <td>2</td>\n",
              "      <td>0</td>\n",
              "      <td>0</td>\n",
              "      <td>0</td>\n",
              "      <td>0</td>\n",
              "      <td>40</td>\n",
              "      <td>4</td>\n",
              "      <td>0</td>\n",
              "    </tr>\n",
              "    <tr>\n",
              "      <th>4</th>\n",
              "      <td>37</td>\n",
              "      <td>2</td>\n",
              "      <td>284582</td>\n",
              "      <td>3</td>\n",
              "      <td>14</td>\n",
              "      <td>0</td>\n",
              "      <td>3</td>\n",
              "      <td>2</td>\n",
              "      <td>2</td>\n",
              "      <td>0</td>\n",
              "      <td>0</td>\n",
              "      <td>0</td>\n",
              "      <td>40</td>\n",
              "      <td>37</td>\n",
              "      <td>0</td>\n",
              "    </tr>\n",
              "  </tbody>\n",
              "</table>\n",
              "</div>\n",
              "      <button class=\"colab-df-convert\" onclick=\"convertToInteractive('df-59654fab-e691-4bcd-9c66-da0b40874063')\"\n",
              "              title=\"Convert this dataframe to an interactive table.\"\n",
              "              style=\"display:none;\">\n",
              "        \n",
              "  <svg xmlns=\"http://www.w3.org/2000/svg\" height=\"24px\"viewBox=\"0 0 24 24\"\n",
              "       width=\"24px\">\n",
              "    <path d=\"M0 0h24v24H0V0z\" fill=\"none\"/>\n",
              "    <path d=\"M18.56 5.44l.94 2.06.94-2.06 2.06-.94-2.06-.94-.94-2.06-.94 2.06-2.06.94zm-11 1L8.5 8.5l.94-2.06 2.06-.94-2.06-.94L8.5 2.5l-.94 2.06-2.06.94zm10 10l.94 2.06.94-2.06 2.06-.94-2.06-.94-.94-2.06-.94 2.06-2.06.94z\"/><path d=\"M17.41 7.96l-1.37-1.37c-.4-.4-.92-.59-1.43-.59-.52 0-1.04.2-1.43.59L10.3 9.45l-7.72 7.72c-.78.78-.78 2.05 0 2.83L4 21.41c.39.39.9.59 1.41.59.51 0 1.02-.2 1.41-.59l7.78-7.78 2.81-2.81c.8-.78.8-2.07 0-2.86zM5.41 20L4 18.59l7.72-7.72 1.47 1.35L5.41 20z\"/>\n",
              "  </svg>\n",
              "      </button>\n",
              "      \n",
              "  <style>\n",
              "    .colab-df-container {\n",
              "      display:flex;\n",
              "      flex-wrap:wrap;\n",
              "      gap: 12px;\n",
              "    }\n",
              "\n",
              "    .colab-df-convert {\n",
              "      background-color: #E8F0FE;\n",
              "      border: none;\n",
              "      border-radius: 50%;\n",
              "      cursor: pointer;\n",
              "      display: none;\n",
              "      fill: #1967D2;\n",
              "      height: 32px;\n",
              "      padding: 0 0 0 0;\n",
              "      width: 32px;\n",
              "    }\n",
              "\n",
              "    .colab-df-convert:hover {\n",
              "      background-color: #E2EBFA;\n",
              "      box-shadow: 0px 1px 2px rgba(60, 64, 67, 0.3), 0px 1px 3px 1px rgba(60, 64, 67, 0.15);\n",
              "      fill: #174EA6;\n",
              "    }\n",
              "\n",
              "    [theme=dark] .colab-df-convert {\n",
              "      background-color: #3B4455;\n",
              "      fill: #D2E3FC;\n",
              "    }\n",
              "\n",
              "    [theme=dark] .colab-df-convert:hover {\n",
              "      background-color: #434B5C;\n",
              "      box-shadow: 0px 1px 3px 1px rgba(0, 0, 0, 0.15);\n",
              "      filter: drop-shadow(0px 1px 2px rgba(0, 0, 0, 0.3));\n",
              "      fill: #FFFFFF;\n",
              "    }\n",
              "  </style>\n",
              "\n",
              "      <script>\n",
              "        const buttonEl =\n",
              "          document.querySelector('#df-59654fab-e691-4bcd-9c66-da0b40874063 button.colab-df-convert');\n",
              "        buttonEl.style.display =\n",
              "          google.colab.kernel.accessAllowed ? 'block' : 'none';\n",
              "\n",
              "        async function convertToInteractive(key) {\n",
              "          const element = document.querySelector('#df-59654fab-e691-4bcd-9c66-da0b40874063');\n",
              "          const dataTable =\n",
              "            await google.colab.kernel.invokeFunction('convertToInteractive',\n",
              "                                                     [key], {});\n",
              "          if (!dataTable) return;\n",
              "\n",
              "          const docLinkHtml = 'Like what you see? Visit the ' +\n",
              "            '<a target=\"_blank\" href=https://colab.research.google.com/notebooks/data_table.ipynb>data table notebook</a>'\n",
              "            + ' to learn more about interactive tables.';\n",
              "          element.innerHTML = '';\n",
              "          dataTable['output_type'] = 'display_data';\n",
              "          await google.colab.output.renderOutput(dataTable, element);\n",
              "          const docLink = document.createElement('div');\n",
              "          docLink.innerHTML = docLinkHtml;\n",
              "          element.appendChild(docLink);\n",
              "        }\n",
              "      </script>\n",
              "    </div>\n",
              "  </div>\n",
              "  "
            ]
          },
          "metadata": {},
          "execution_count": 53
        }
      ],
      "source": [
        "df.head()"
      ]
    },
    {
      "cell_type": "markdown",
      "metadata": {
        "id": "G3DXXVNDT10_"
      },
      "source": [
        "#Scaling the data"
      ]
    },
    {
      "cell_type": "code",
      "execution_count": 54,
      "metadata": {
        "id": "NClfX2qJTr9K"
      },
      "outputs": [],
      "source": [
        "from sklearn.preprocessing import StandardScaler"
      ]
    },
    {
      "cell_type": "code",
      "execution_count": 55,
      "metadata": {
        "id": "WV3SL9xlUBT6"
      },
      "outputs": [],
      "source": [
        "X=df.drop(['Income'],axis=1)\n",
        "y=df['Income']"
      ]
    },
    {
      "cell_type": "code",
      "execution_count": 56,
      "metadata": {
        "id": "zA5alfkfUMjd"
      },
      "outputs": [],
      "source": [
        "sc=StandardScaler()"
      ]
    },
    {
      "cell_type": "code",
      "execution_count": 57,
      "metadata": {
        "id": "5eU4s3QSUSVJ"
      },
      "outputs": [],
      "source": [
        "data=sc.fit_transform(X)"
      ]
    },
    {
      "cell_type": "code",
      "execution_count": 58,
      "metadata": {
        "id": "Q4YDyEr7UYe2"
      },
      "outputs": [],
      "source": [
        "x=pd.DataFrame(data,columns=X.columns)"
      ]
    },
    {
      "cell_type": "markdown",
      "metadata": {
        "id": "j_WttX-cUpzD"
      },
      "source": [
        "#Model Building"
      ]
    },
    {
      "cell_type": "code",
      "execution_count": 59,
      "metadata": {
        "id": "5qimUw85Uk47"
      },
      "outputs": [],
      "source": [
        "#importing libraries\n",
        "\n",
        "from sklearn.tree import DecisionTreeClassifier\n",
        "from sklearn.linear_model import LogisticRegression\n",
        "from sklearn.neighbors import KNeighborsClassifier\n",
        "from sklearn.ensemble import RandomForestClassifier\n",
        "from sklearn.svm import SVC\n",
        "from sklearn.model_selection import train_test_split\n",
        "from sklearn.metrics import accuracy_score,classification_report,confusion_matrix"
      ]
    },
    {
      "cell_type": "code",
      "execution_count": 60,
      "metadata": {
        "id": "Z36ZoQlJVeGK"
      },
      "outputs": [],
      "source": [
        "dt=DecisionTreeClassifier()\n",
        "lr=LogisticRegression()\n",
        "knn=KNeighborsClassifier()\n",
        "svc=SVC()\n",
        "rf=RandomForestClassifier()"
      ]
    },
    {
      "cell_type": "markdown",
      "metadata": {
        "id": "TcJM6blWWFUn"
      },
      "source": [
        "#Logistic Regression"
      ]
    },
    {
      "cell_type": "code",
      "execution_count": 61,
      "metadata": {
        "colab": {
          "base_uri": "https://localhost:8080/"
        },
        "id": "LmBFdySJV5M1",
        "outputId": "9d0d473a-d570-4cf6-8e6d-400c412d54d2"
      },
      "outputs": [
        {
          "output_type": "stream",
          "name": "stdout",
          "text": [
            "At random state 6 the model performs well\n",
            "At random state 6\n",
            "Training accuracy of data is :- 79.53564393780647\n",
            "Testing accuracy of data is :- 79.4502179014415\n",
            "\n",
            "\n",
            "At random state 18 the model performs well\n",
            "At random state 18\n",
            "Training accuracy of data is :- 79.51888018104857\n",
            "Testing accuracy of data is :- 79.48374120013409\n",
            "\n",
            "\n",
            "At random state 19 the model performs well\n",
            "At random state 19\n",
            "Training accuracy of data is :- 79.61108084321697\n",
            "Testing accuracy of data is :- 79.55078779751928\n",
            "\n",
            "\n",
            "At random state 81 the model performs well\n",
            "At random state 81\n",
            "Training accuracy of data is :- 79.59431708645907\n",
            "Testing accuracy of data is :- 79.55078779751928\n",
            "\n",
            "\n",
            "At random state 90 the model performs well\n",
            "At random state 90\n",
            "Training accuracy of data is :- 79.53983487699593\n",
            "Testing accuracy of data is :- 79.53402614817297\n",
            "\n",
            "\n",
            "At random state 99 the model performs well\n",
            "At random state 99\n",
            "Training accuracy of data is :- 79.56078957294329\n",
            "Testing accuracy of data is :- 79.60107274555817\n",
            "\n",
            "\n",
            "At random state 114 the model performs well\n",
            "At random state 114\n",
            "Training accuracy of data is :- 80.91446293114288\n",
            "Testing accuracy of data is :- 80.89171974522293\n",
            "\n",
            "\n",
            "At random state 117 the model performs well\n",
            "At random state 117\n",
            "Training accuracy of data is :- 80.93541762709023\n",
            "Testing accuracy of data is :- 80.92524304391551\n",
            "\n",
            "\n",
            "At random state 124 the model performs well\n",
            "At random state 124\n",
            "Training accuracy of data is :- 79.53564393780647\n",
            "Testing accuracy of data is :- 79.4502179014415\n",
            "\n",
            "\n",
            "At random state 154 the model performs well\n",
            "At random state 154\n",
            "Training accuracy of data is :- 79.59850802564856\n",
            "Testing accuracy of data is :- 79.56754944686557\n",
            "\n",
            "\n",
            "At random state 200 the model performs well\n",
            "At random state 200\n",
            "Training accuracy of data is :- 80.93541762709023\n",
            "Testing accuracy of data is :- 80.94200469326182\n",
            "\n",
            "\n",
            "At random state 261 the model performs well\n",
            "At random state 261\n",
            "Training accuracy of data is :- 79.50211642429068\n",
            "Testing accuracy of data is :- 79.4502179014415\n",
            "\n",
            "\n",
            "At random state 263 the model performs well\n",
            "At random state 263\n",
            "Training accuracy of data is :- 80.9228448095218\n",
            "Testing accuracy of data is :- 80.94200469326182\n",
            "\n",
            "\n",
            "At random state 269 the model performs well\n",
            "At random state 269\n",
            "Training accuracy of data is :- 79.59850802564856\n",
            "Testing accuracy of data is :- 79.61783439490446\n",
            "\n",
            "\n",
            "At random state 302 the model performs well\n",
            "At random state 302\n",
            "Training accuracy of data is :- 79.55240769456435\n",
            "Testing accuracy of data is :- 79.56754944686557\n",
            "\n",
            "\n",
            "At random state 314 the model performs well\n",
            "At random state 314\n",
            "Training accuracy of data is :- 79.53564393780647\n",
            "Testing accuracy of data is :- 79.4669795507878\n",
            "\n",
            "\n",
            "At random state 316 the model performs well\n",
            "At random state 316\n",
            "Training accuracy of data is :- 79.42248857969071\n",
            "Testing accuracy of data is :- 79.38317130405632\n",
            "\n",
            "\n",
            "At random state 325 the model performs well\n",
            "At random state 325\n",
            "Training accuracy of data is :- 79.531452998617\n",
            "Testing accuracy of data is :- 79.4669795507878\n",
            "\n",
            "\n",
            "At random state 327 the model performs well\n",
            "At random state 327\n",
            "Training accuracy of data is :- 79.65299023511169\n",
            "Testing accuracy of data is :- 79.68488099228964\n",
            "\n",
            "\n",
            "At random state 354 the model performs well\n",
            "At random state 354\n",
            "Training accuracy of data is :- 80.93122668790076\n",
            "Testing accuracy of data is :- 80.90848139456922\n",
            "\n",
            "\n",
            "At random state 398 the model performs well\n",
            "At random state 398\n",
            "Training accuracy of data is :- 79.44344327563807\n",
            "Testing accuracy of data is :- 79.39993295340261\n",
            "\n",
            "\n",
            "At random state 402 the model performs well\n",
            "At random state 402\n",
            "Training accuracy of data is :- 79.57755332970119\n",
            "Testing accuracy of data is :- 79.58431109621186\n",
            "\n",
            "\n",
            "At random state 410 the model performs well\n",
            "At random state 410\n",
            "Training accuracy of data is :- 80.91865387033235\n",
            "Testing accuracy of data is :- 80.94200469326182\n",
            "\n",
            "\n",
            "At random state 414 the model performs well\n",
            "At random state 414\n",
            "Training accuracy of data is :- 79.61108084321697\n",
            "Testing accuracy of data is :- 79.63459604425076\n",
            "\n",
            "\n",
            "At random state 454 the model performs well\n",
            "At random state 454\n",
            "Training accuracy of data is :- 79.5146892418591\n",
            "Testing accuracy of data is :- 79.4502179014415\n",
            "\n",
            "\n",
            "At random state 459 the model performs well\n",
            "At random state 459\n",
            "Training accuracy of data is :- 80.98151795817444\n",
            "Testing accuracy of data is :- 81.00905129064701\n",
            "\n",
            "\n",
            "At random state 462 the model performs well\n",
            "At random state 462\n",
            "Training accuracy of data is :- 79.54402581618541\n",
            "Testing accuracy of data is :- 79.53402614817297\n",
            "\n",
            "\n",
            "At random state 463 the model performs well\n",
            "At random state 463\n",
            "Training accuracy of data is :- 79.531452998617\n",
            "Testing accuracy of data is :- 79.4669795507878\n",
            "\n",
            "\n",
            "At random state 487 the model performs well\n",
            "At random state 487\n",
            "Training accuracy of data is :- 79.6362264783538\n",
            "Testing accuracy of data is :- 79.58431109621186\n",
            "\n",
            "\n",
            "At random state 492 the model performs well\n",
            "At random state 492\n",
            "Training accuracy of data is :- 79.60688990402748\n",
            "Testing accuracy of data is :- 79.61783439490446\n",
            "\n",
            "\n",
            "At random state 503 the model performs well\n",
            "At random state 503\n",
            "Training accuracy of data is :- 79.5146892418591\n",
            "Testing accuracy of data is :- 79.53402614817297\n",
            "\n",
            "\n",
            "At random state 506 the model performs well\n",
            "At random state 506\n",
            "Training accuracy of data is :- 80.94379950546917\n",
            "Testing accuracy of data is :- 80.87495809587664\n",
            "\n",
            "\n",
            "At random state 508 the model performs well\n",
            "At random state 508\n",
            "Training accuracy of data is :- 79.60269896483803\n",
            "Testing accuracy of data is :- 79.63459604425076\n",
            "\n",
            "\n",
            "At random state 520 the model performs well\n",
            "At random state 520\n",
            "Training accuracy of data is :- 80.96475420141654\n",
            "Testing accuracy of data is :- 81.0425745893396\n",
            "\n",
            "\n",
            "At random state 539 the model performs well\n",
            "At random state 539\n",
            "Training accuracy of data is :- 79.54402581618541\n",
            "Testing accuracy of data is :- 79.51726449882669\n",
            "\n",
            "\n",
            "At random state 547 the model performs well\n",
            "At random state 547\n",
            "Training accuracy of data is :- 80.9396085662797\n",
            "Testing accuracy of data is :- 80.94200469326182\n",
            "\n",
            "\n",
            "At random state 563 the model performs well\n",
            "At random state 563\n",
            "Training accuracy of data is :- 80.93122668790076\n",
            "Testing accuracy of data is :- 80.92524304391551\n",
            "\n",
            "\n",
            "At random state 580 the model performs well\n",
            "At random state 580\n",
            "Training accuracy of data is :- 79.5146892418591\n",
            "Testing accuracy of data is :- 79.51726449882669\n",
            "\n",
            "\n",
            "At random state 640 the model performs well\n",
            "At random state 640\n",
            "Training accuracy of data is :- 79.64879929592222\n",
            "Testing accuracy of data is :- 79.63459604425076\n",
            "\n",
            "\n",
            "At random state 651 the model performs well\n",
            "At random state 651\n",
            "Training accuracy of data is :- 79.55659863375382\n",
            "Testing accuracy of data is :- 79.56754944686557\n",
            "\n",
            "\n",
            "At random state 654 the model performs well\n",
            "At random state 654\n",
            "Training accuracy of data is :- 79.48954360672226\n",
            "Testing accuracy of data is :- 79.5005028494804\n",
            "\n",
            "\n",
            "At random state 664 the model performs well\n",
            "At random state 664\n",
            "Training accuracy of data is :- 79.38477012698546\n",
            "Testing accuracy of data is :- 79.4166946027489\n",
            "\n",
            "\n",
            "At random state 674 the model performs well\n",
            "At random state 674\n",
            "Training accuracy of data is :- 79.54821675537488\n",
            "Testing accuracy of data is :- 79.4502179014415\n",
            "\n",
            "\n",
            "At random state 697 the model performs well\n",
            "At random state 697\n",
            "Training accuracy of data is :- 79.531452998617\n",
            "Testing accuracy of data is :- 79.51726449882669\n",
            "\n",
            "\n",
            "At random state 716 the model performs well\n",
            "At random state 716\n",
            "Training accuracy of data is :- 79.59431708645907\n",
            "Testing accuracy of data is :- 79.56754944686557\n",
            "\n",
            "\n",
            "At random state 751 the model performs well\n",
            "At random state 751\n",
            "Training accuracy of data is :- 79.50630736348016\n",
            "Testing accuracy of data is :- 79.53402614817297\n",
            "\n",
            "\n",
            "At random state 753 the model performs well\n",
            "At random state 753\n",
            "Training accuracy of data is :- 79.56917145132223\n",
            "Testing accuracy of data is :- 79.56754944686557\n",
            "\n",
            "\n",
            "At random state 755 the model performs well\n",
            "At random state 755\n",
            "Training accuracy of data is :- 79.57755332970119\n",
            "Testing accuracy of data is :- 79.63459604425076\n",
            "\n",
            "\n",
            "At random state 758 the model performs well\n",
            "At random state 758\n",
            "Training accuracy of data is :- 79.56078957294329\n",
            "Testing accuracy of data is :- 79.58431109621186\n",
            "\n",
            "\n",
            "At random state 764 the model performs well\n",
            "At random state 764\n",
            "Training accuracy of data is :- 79.57336239051172\n",
            "Testing accuracy of data is :- 79.55078779751928\n",
            "\n",
            "\n",
            "At random state 785 the model performs well\n",
            "At random state 785\n",
            "Training accuracy of data is :- 79.4979254851012\n",
            "Testing accuracy of data is :- 79.51726449882669\n",
            "\n",
            "\n",
            "At random state 791 the model performs well\n",
            "At random state 791\n",
            "Training accuracy of data is :- 79.61946272159591\n",
            "Testing accuracy of data is :- 79.63459604425076\n",
            "\n",
            "\n",
            "At random state 822 the model performs well\n",
            "At random state 822\n",
            "Training accuracy of data is :- 81.00666359331126\n",
            "Testing accuracy of data is :- 81.00905129064701\n",
            "\n",
            "\n",
            "At random state 838 the model performs well\n",
            "At random state 838\n",
            "Training accuracy of data is :- 79.61527178240644\n",
            "Testing accuracy of data is :- 79.58431109621186\n",
            "\n",
            "\n",
            "At random state 849 the model performs well\n",
            "At random state 849\n",
            "Training accuracy of data is :- 80.93122668790076\n",
            "Testing accuracy of data is :- 80.94200469326182\n",
            "\n",
            "\n",
            "At random state 855 the model performs well\n",
            "At random state 855\n",
            "Training accuracy of data is :- 79.59850802564856\n",
            "Testing accuracy of data is :- 79.56754944686557\n",
            "\n",
            "\n",
            "At random state 866 the model performs well\n",
            "At random state 866\n",
            "Training accuracy of data is :- 79.56917145132223\n",
            "Testing accuracy of data is :- 79.55078779751928\n",
            "\n",
            "\n",
            "At random state 888 the model performs well\n",
            "At random state 888\n",
            "Training accuracy of data is :- 79.55659863375382\n",
            "Testing accuracy of data is :- 79.61783439490446\n",
            "\n",
            "\n",
            "At random state 904 the model performs well\n",
            "At random state 904\n",
            "Training accuracy of data is :- 79.4979254851012\n",
            "Testing accuracy of data is :- 79.53402614817297\n",
            "\n",
            "\n",
            "At random state 916 the model performs well\n",
            "At random state 916\n",
            "Training accuracy of data is :- 79.53983487699593\n",
            "Testing accuracy of data is :- 79.53402614817297\n",
            "\n",
            "\n",
            "At random state 941 the model performs well\n",
            "At random state 941\n",
            "Training accuracy of data is :- 79.46439797158543\n",
            "Testing accuracy of data is :- 79.4502179014415\n",
            "\n",
            "\n",
            "At random state 954 the model performs well\n",
            "At random state 954\n",
            "Training accuracy of data is :- 79.52307112023804\n",
            "Testing accuracy of data is :- 79.4502179014415\n",
            "\n",
            "\n",
            "At random state 955 the model performs well\n",
            "At random state 955\n",
            "Training accuracy of data is :- 79.54821675537488\n",
            "Testing accuracy of data is :- 79.51726449882669\n",
            "\n",
            "\n",
            "At random state 974 the model performs well\n",
            "At random state 974\n",
            "Training accuracy of data is :- 79.53564393780647\n",
            "Testing accuracy of data is :- 79.5005028494804\n",
            "\n",
            "\n",
            "At random state 986 the model performs well\n",
            "At random state 986\n",
            "Training accuracy of data is :- 79.4979254851012\n",
            "Testing accuracy of data is :- 79.51726449882669\n",
            "\n",
            "\n",
            "At random state 987 the model performs well\n",
            "At random state 987\n",
            "Training accuracy of data is :- 79.60688990402748\n",
            "Testing accuracy of data is :- 79.60107274555817\n",
            "\n",
            "\n",
            "At random state 991 the model performs well\n",
            "At random state 991\n",
            "Training accuracy of data is :- 79.56078957294329\n",
            "Testing accuracy of data is :- 79.55078779751928\n",
            "\n",
            "\n",
            "At random state 997 the model performs well\n",
            "At random state 997\n",
            "Training accuracy of data is :- 79.5146892418591\n",
            "Testing accuracy of data is :- 79.5005028494804\n",
            "\n",
            "\n"
          ]
        }
      ],
      "source": [
        "for i in range(0,1000):\n",
        "  x_train,x_test,y_train,y_test=train_test_split(X,y,test_size=0.20,random_state=i)\n",
        "  lr.fit(x_train,y_train)\n",
        "  pred_train=lr.predict(x_train)\n",
        "  pred_test=lr.predict(x_test)\n",
        "  if round(accuracy_score(y_train,pred_train)*100,1)==round(accuracy_score(y_test,pred_test)*100,1):\n",
        "    print('At random state',i,'the model performs well')\n",
        "    print('At random state',i)\n",
        "    print('Training accuracy of data is :-',accuracy_score(y_train,pred_train)*100)\n",
        "    print('Testing accuracy of data is :-',accuracy_score(y_test,pred_test)*100)\n",
        "    print('\\n')\n",
        "     "
      ]
    },
    {
      "cell_type": "code",
      "execution_count": 62,
      "metadata": {
        "id": "pAQwyhC_aHDi"
      },
      "outputs": [],
      "source": [
        "x_train,x_test,y_train,y_test=train_test_split(X,y,test_size=0.20,random_state=822)"
      ]
    },
    {
      "cell_type": "code",
      "execution_count": 63,
      "metadata": {
        "colab": {
          "base_uri": "https://localhost:8080/"
        },
        "id": "ejDq_9p5aPPz",
        "outputId": "7a9b0c59-b5fe-4f19-f00a-ac48d94da533"
      },
      "outputs": [
        {
          "output_type": "stream",
          "name": "stdout",
          "text": [
            "              precision    recall  f1-score   support\n",
            "\n",
            "           0       0.77      0.92      0.84      4578\n",
            "           1       0.24      0.08      0.12      1388\n",
            "\n",
            "    accuracy                           0.72      5966\n",
            "   macro avg       0.50      0.50      0.48      5966\n",
            "weighted avg       0.64      0.72      0.67      5966\n",
            "\n"
          ]
        }
      ],
      "source": [
        "print(classification_report(y_test,pred_test))"
      ]
    },
    {
      "cell_type": "markdown",
      "source": [
        "#CROSS VALIDATION(LOSGISTIC REGRESSION)"
      ],
      "metadata": {
        "id": "mtdE1QZj2yG7"
      }
    },
    {
      "cell_type": "code",
      "execution_count": 64,
      "metadata": {
        "id": "2zFKo67WacLZ"
      },
      "outputs": [],
      "source": [
        "from sklearn.model_selection import cross_val_score"
      ]
    },
    {
      "cell_type": "code",
      "execution_count": 65,
      "metadata": {
        "colab": {
          "base_uri": "https://localhost:8080/"
        },
        "id": "4eqrp7XQacOb",
        "outputId": "7203f093-5d61-451a-e927-5b2ceba83221"
      },
      "outputs": [
        {
          "output_type": "stream",
          "name": "stdout",
          "text": [
            "At cv:- 2\n",
            "cross validation score is :- 79.55544486932168\n",
            "accuracy score is:- 79.66811934294334\n",
            "\n",
            "\n",
            "At cv:- 3\n",
            "cross validation score is :- 80.03154121454807\n",
            "accuracy score is:- 79.66811934294334\n",
            "\n",
            "\n",
            "At cv:- 4\n",
            "cross validation score is :- 79.84046255397901\n",
            "accuracy score is:- 79.66811934294334\n",
            "\n",
            "\n",
            "At cv:- 5\n",
            "cross validation score is :- 79.52862589038358\n",
            "accuracy score is:- 79.66811934294334\n",
            "\n",
            "\n",
            "At cv:- 6\n",
            "cross validation score is :- 79.56549974297154\n",
            "accuracy score is:- 79.66811934294334\n",
            "\n",
            "\n",
            "At cv:- 7\n",
            "cross validation score is :- 79.8068863781138\n",
            "accuracy score is:- 79.66811934294334\n",
            "\n",
            "\n",
            "At cv:- 8\n",
            "cross validation score is :- 79.8739959150355\n",
            "accuracy score is:- 79.66811934294334\n",
            "\n",
            "\n",
            "At cv:- 9\n",
            "cross validation score is :- 79.59231415513143\n",
            "accuracy score is:- 79.66811934294334\n",
            "\n",
            "\n"
          ]
        }
      ],
      "source": [
        "pred_lr=lr.predict(x_test)\n",
        "\n",
        "lss=accuracy_score(y_test,pred_lr)\n",
        "for j in range(2,10):\n",
        "  lsscore=cross_val_score(lr,X,y,cv=j)\n",
        "  lsc=lsscore.mean()\n",
        "  print('At cv:-',j)\n",
        "  print('cross validation score is :-',lsc*100)\n",
        "  print('accuracy score is:-',lss*100)\n",
        "  print('\\n')"
      ]
    },
    {
      "cell_type": "code",
      "execution_count": 66,
      "metadata": {
        "colab": {
          "base_uri": "https://localhost:8080/"
        },
        "id": "x1HsrSWXaupz",
        "outputId": "8f70f328-8fd1-484c-91a1-64e9d7bf98f6"
      },
      "outputs": [
        {
          "output_type": "stream",
          "name": "stdout",
          "text": [
            "The cv score is  80.03154121454807 \n",
            " the accuracy score is  79.66811934294334\n"
          ]
        }
      ],
      "source": [
        "lsscore_selected=cross_val_score(lr,X,y,cv=3).mean()\n",
        "print('The cv score is ',lsscore_selected*100, '\\n the accuracy score is ',lss*100)"
      ]
    },
    {
      "cell_type": "markdown",
      "source": [
        "#DECISION TREE CLASSIFIER"
      ],
      "metadata": {
        "id": "SqtT0-P924Bx"
      }
    },
    {
      "cell_type": "code",
      "execution_count": 67,
      "metadata": {
        "colab": {
          "base_uri": "https://localhost:8080/"
        },
        "id": "uJeteqiZa0Q-",
        "outputId": "8c8c9cc1-53cd-42b5-a1f7-69763092771e"
      },
      "outputs": [
        {
          "output_type": "execute_result",
          "data": {
            "text/plain": [
              "DecisionTreeClassifier()"
            ]
          },
          "metadata": {},
          "execution_count": 67
        }
      ],
      "source": [
        "dt.fit(x_train,y_train)"
      ]
    },
    {
      "cell_type": "code",
      "execution_count": 68,
      "metadata": {
        "id": "Ion_qbXra8eY"
      },
      "outputs": [],
      "source": [
        "dt_train_pred=dt.predict(x_train)"
      ]
    },
    {
      "cell_type": "code",
      "execution_count": 69,
      "metadata": {
        "id": "v5yjqTkQbBU_"
      },
      "outputs": [],
      "source": [
        "dt_test_pred=dt.predict(x_test)"
      ]
    },
    {
      "cell_type": "code",
      "execution_count": 70,
      "metadata": {
        "colab": {
          "base_uri": "https://localhost:8080/"
        },
        "id": "5MIisohHbFrt",
        "outputId": "6288bc5e-f752-4d74-d5f4-a45b9154edcb"
      },
      "outputs": [
        {
          "output_type": "stream",
          "name": "stdout",
          "text": [
            "              precision    recall  f1-score   support\n",
            "\n",
            "           0       1.00      1.00      1.00     18595\n",
            "           1       1.00      1.00      1.00      5266\n",
            "\n",
            "    accuracy                           1.00     23861\n",
            "   macro avg       1.00      1.00      1.00     23861\n",
            "weighted avg       1.00      1.00      1.00     23861\n",
            "\n"
          ]
        }
      ],
      "source": [
        "print(classification_report(y_train,dt_train_pred))"
      ]
    },
    {
      "cell_type": "code",
      "execution_count": 71,
      "metadata": {
        "colab": {
          "base_uri": "https://localhost:8080/"
        },
        "id": "wYc1LjjgbJGx",
        "outputId": "e0a1dbcc-c25b-4233-9f90-fe95d8b119a5"
      },
      "outputs": [
        {
          "output_type": "stream",
          "name": "stdout",
          "text": [
            "              precision    recall  f1-score   support\n",
            "\n",
            "           0       0.87      0.87      0.87      4578\n",
            "           1       0.57      0.59      0.58      1388\n",
            "\n",
            "    accuracy                           0.80      5966\n",
            "   macro avg       0.72      0.73      0.73      5966\n",
            "weighted avg       0.80      0.80      0.80      5966\n",
            "\n"
          ]
        }
      ],
      "source": [
        "print(classification_report(y_test,dt_test_pred))"
      ]
    },
    {
      "cell_type": "code",
      "execution_count": 72,
      "metadata": {
        "colab": {
          "base_uri": "https://localhost:8080/"
        },
        "id": "17hHiu-icgc9",
        "outputId": "b39c67df-45a7-4e8f-bb60-c2e0f782b292"
      },
      "outputs": [
        {
          "output_type": "execute_result",
          "data": {
            "text/plain": [
              "72.0"
            ]
          },
          "metadata": {},
          "execution_count": 72
        }
      ],
      "source": [
        "(87+57)/2"
      ]
    },
    {
      "cell_type": "markdown",
      "source": [
        "#RANDOM FOREST CLASSIFIER"
      ],
      "metadata": {
        "id": "UT_wTA-X29xZ"
      }
    },
    {
      "cell_type": "code",
      "execution_count": 73,
      "metadata": {
        "colab": {
          "base_uri": "https://localhost:8080/"
        },
        "id": "Mx8EzP8ibNpg",
        "outputId": "15982a33-14c5-4f3f-992f-a447b27650b4"
      },
      "outputs": [
        {
          "output_type": "execute_result",
          "data": {
            "text/plain": [
              "RandomForestClassifier()"
            ]
          },
          "metadata": {},
          "execution_count": 73
        }
      ],
      "source": [
        "rf.fit(x_train,y_train)"
      ]
    },
    {
      "cell_type": "code",
      "execution_count": 74,
      "metadata": {
        "id": "nDDL0zBlbSMC"
      },
      "outputs": [],
      "source": [
        "rf_train_pred=rf.predict(x_train)"
      ]
    },
    {
      "cell_type": "code",
      "execution_count": 75,
      "metadata": {
        "id": "4vckuCZTbVx6"
      },
      "outputs": [],
      "source": [
        "rf_test_pred=rf.predict(x_test)"
      ]
    },
    {
      "cell_type": "code",
      "execution_count": 76,
      "metadata": {
        "colab": {
          "base_uri": "https://localhost:8080/"
        },
        "id": "7U74YqxLbZqn",
        "outputId": "99185a54-c61d-4be7-e619-34b31e792b77"
      },
      "outputs": [
        {
          "output_type": "stream",
          "name": "stdout",
          "text": [
            "              precision    recall  f1-score   support\n",
            "\n",
            "           0       1.00      1.00      1.00     18595\n",
            "           1       1.00      1.00      1.00      5266\n",
            "\n",
            "    accuracy                           1.00     23861\n",
            "   macro avg       1.00      1.00      1.00     23861\n",
            "weighted avg       1.00      1.00      1.00     23861\n",
            "\n"
          ]
        }
      ],
      "source": [
        "print(classification_report(y_train,rf_train_pred))"
      ]
    },
    {
      "cell_type": "code",
      "execution_count": 77,
      "metadata": {
        "colab": {
          "base_uri": "https://localhost:8080/"
        },
        "id": "7OfSykg8bdy3",
        "outputId": "26615355-a74f-4fcc-b846-e1115b9d6bbc"
      },
      "outputs": [
        {
          "output_type": "stream",
          "name": "stdout",
          "text": [
            "              precision    recall  f1-score   support\n",
            "\n",
            "           0       0.88      0.93      0.90      4578\n",
            "           1       0.71      0.59      0.65      1388\n",
            "\n",
            "    accuracy                           0.85      5966\n",
            "   macro avg       0.80      0.76      0.77      5966\n",
            "weighted avg       0.84      0.85      0.84      5966\n",
            "\n"
          ]
        }
      ],
      "source": [
        "print(classification_report(y_test,rf_test_pred))"
      ]
    },
    {
      "cell_type": "code",
      "execution_count": 78,
      "metadata": {
        "colab": {
          "base_uri": "https://localhost:8080/"
        },
        "id": "jRQdJMz5c2DX",
        "outputId": "317b0fce-5824-4c67-9302-7c71adac2524"
      },
      "outputs": [
        {
          "output_type": "execute_result",
          "data": {
            "text/plain": [
              "78.0"
            ]
          },
          "metadata": {},
          "execution_count": 78
        }
      ],
      "source": [
        "(91+65)/2"
      ]
    },
    {
      "cell_type": "markdown",
      "source": [
        "#KNEIGHBORS CLASSIFIER"
      ],
      "metadata": {
        "id": "KW8B9yTm3CI2"
      }
    },
    {
      "cell_type": "code",
      "execution_count": 79,
      "metadata": {
        "colab": {
          "base_uri": "https://localhost:8080/"
        },
        "id": "W2jyOc1jbf6y",
        "outputId": "76feb71e-509c-4fb0-a685-73ea9d06677f"
      },
      "outputs": [
        {
          "output_type": "execute_result",
          "data": {
            "text/plain": [
              "KNeighborsClassifier()"
            ]
          },
          "metadata": {},
          "execution_count": 79
        }
      ],
      "source": [
        "knn.fit(x_train,y_train)"
      ]
    },
    {
      "cell_type": "code",
      "execution_count": 80,
      "metadata": {
        "id": "CgtPOU3EbnYb"
      },
      "outputs": [],
      "source": [
        "knn_train_pred=knn.predict(x_train)"
      ]
    },
    {
      "cell_type": "code",
      "execution_count": 81,
      "metadata": {
        "id": "Z8HwaN6Fbqbs"
      },
      "outputs": [],
      "source": [
        "knn_test_pred=knn.predict(x_test)"
      ]
    },
    {
      "cell_type": "code",
      "execution_count": 82,
      "metadata": {
        "colab": {
          "base_uri": "https://localhost:8080/"
        },
        "id": "vgPjJZ3ibrXZ",
        "outputId": "bedb7b8c-ba29-4809-9f3d-8d432df3c250"
      },
      "outputs": [
        {
          "output_type": "stream",
          "name": "stdout",
          "text": [
            "              precision    recall  f1-score   support\n",
            "\n",
            "           0       0.85      0.96      0.90     18595\n",
            "           1       0.76      0.41      0.53      5266\n",
            "\n",
            "    accuracy                           0.84     23861\n",
            "   macro avg       0.81      0.68      0.72     23861\n",
            "weighted avg       0.83      0.84      0.82     23861\n",
            "\n"
          ]
        }
      ],
      "source": [
        "print(classification_report(y_train,knn_train_pred))"
      ]
    },
    {
      "cell_type": "code",
      "execution_count": 83,
      "metadata": {
        "colab": {
          "base_uri": "https://localhost:8080/"
        },
        "id": "ahYz0fbSbv4V",
        "outputId": "02fdc1b5-830c-4cc0-956d-05bbb118b909"
      },
      "outputs": [
        {
          "output_type": "stream",
          "name": "stdout",
          "text": [
            "              precision    recall  f1-score   support\n",
            "\n",
            "           0       0.81      0.93      0.87      4578\n",
            "           1       0.58      0.30      0.39      1388\n",
            "\n",
            "    accuracy                           0.79      5966\n",
            "   macro avg       0.70      0.62      0.63      5966\n",
            "weighted avg       0.76      0.79      0.76      5966\n",
            "\n"
          ]
        }
      ],
      "source": [
        "print(classification_report(y_test,knn_test_pred))"
      ]
    },
    {
      "cell_type": "code",
      "execution_count": 84,
      "metadata": {
        "colab": {
          "base_uri": "https://localhost:8080/"
        },
        "id": "AnXnz2Zic_xD",
        "outputId": "99d1b9b1-ea05-48e2-978c-af8bf4fdb7cc"
      },
      "outputs": [
        {
          "output_type": "execute_result",
          "data": {
            "text/plain": [
              "63.0"
            ]
          },
          "metadata": {},
          "execution_count": 84
        }
      ],
      "source": [
        "(87+39)/2"
      ]
    },
    {
      "cell_type": "markdown",
      "source": [
        "#SVC"
      ],
      "metadata": {
        "id": "ljKkDDJK3HmM"
      }
    },
    {
      "cell_type": "code",
      "execution_count": 85,
      "metadata": {
        "colab": {
          "base_uri": "https://localhost:8080/"
        },
        "id": "k317SJnrb0TJ",
        "outputId": "5358a3ea-6a26-4327-951c-f92086bbb2f3"
      },
      "outputs": [
        {
          "output_type": "execute_result",
          "data": {
            "text/plain": [
              "SVC()"
            ]
          },
          "metadata": {},
          "execution_count": 85
        }
      ],
      "source": [
        "svc.fit(x_train,y_train)"
      ]
    },
    {
      "cell_type": "code",
      "execution_count": 86,
      "metadata": {
        "id": "h6POFrqXb5mQ"
      },
      "outputs": [],
      "source": [
        "svc_train_pred=svc.predict(x_train)"
      ]
    },
    {
      "cell_type": "code",
      "execution_count": 87,
      "metadata": {
        "id": "3mk-WPRGb_nS"
      },
      "outputs": [],
      "source": [
        "svc_test_pred=svc.predict(x_test)"
      ]
    },
    {
      "cell_type": "code",
      "execution_count": 88,
      "metadata": {
        "colab": {
          "base_uri": "https://localhost:8080/"
        },
        "id": "Fe8o0vjQcESF",
        "outputId": "d387c7cd-e814-41e3-c49d-514e01b4e956"
      },
      "outputs": [
        {
          "output_type": "stream",
          "name": "stdout",
          "text": [
            "              precision    recall  f1-score   support\n",
            "\n",
            "           0       0.80      1.00      0.89     18595\n",
            "           1       0.98      0.14      0.24      5266\n",
            "\n",
            "    accuracy                           0.81     23861\n",
            "   macro avg       0.89      0.57      0.57     23861\n",
            "weighted avg       0.84      0.81      0.75     23861\n",
            "\n"
          ]
        }
      ],
      "source": [
        "print(classification_report(y_train,svc_train_pred))"
      ]
    },
    {
      "cell_type": "code",
      "execution_count": 89,
      "metadata": {
        "colab": {
          "base_uri": "https://localhost:8080/"
        },
        "id": "wYh3mzXFcT6U",
        "outputId": "1d5503b1-50df-4802-f4e8-e11a8811de20"
      },
      "outputs": [
        {
          "output_type": "stream",
          "name": "stdout",
          "text": [
            "              precision    recall  f1-score   support\n",
            "\n",
            "           0       0.80      1.00      0.89      4578\n",
            "           1       0.97      0.17      0.28      1388\n",
            "\n",
            "    accuracy                           0.81      5966\n",
            "   macro avg       0.89      0.58      0.59      5966\n",
            "weighted avg       0.84      0.81      0.75      5966\n",
            "\n"
          ]
        }
      ],
      "source": [
        "print(classification_report(y_test,svc_test_pred))"
      ]
    },
    {
      "cell_type": "code",
      "execution_count": 90,
      "metadata": {
        "colab": {
          "base_uri": "https://localhost:8080/"
        },
        "id": "zOVg1juudEuM",
        "outputId": "cb18bdef-7815-439d-89e9-ac3058e90a22"
      },
      "outputs": [
        {
          "output_type": "execute_result",
          "data": {
            "text/plain": [
              "58.5"
            ]
          },
          "metadata": {},
          "execution_count": 90
        }
      ],
      "source": [
        "(89+28)/2"
      ]
    },
    {
      "cell_type": "markdown",
      "metadata": {
        "id": "oMMqRi6AdL8c"
      },
      "source": [
        "#Cross Validation(Random Forest Classifier)"
      ]
    },
    {
      "cell_type": "code",
      "execution_count": 91,
      "metadata": {
        "colab": {
          "base_uri": "https://localhost:8080/"
        },
        "id": "5QQSepDTdY7p",
        "outputId": "d610f595-80b7-4b92-e275-212e7da6cd20"
      },
      "outputs": [
        {
          "output_type": "stream",
          "name": "stdout",
          "text": [
            "At cv:- 2\n",
            "cross validation score is :- 85.00352826420956\n",
            "accuracy score is:- 84.94803888702648\n",
            "\n",
            "\n",
            "At cv:- 3\n",
            "cross validation score is :- 85.08064768213215\n",
            "accuracy score is:- 84.94803888702648\n",
            "\n",
            "\n",
            "At cv:- 4\n",
            "cross validation score is :- 85.10410284702394\n",
            "accuracy score is:- 84.94803888702648\n",
            "\n",
            "\n",
            "At cv:- 5\n",
            "cross validation score is :- 85.11083117267759\n",
            "accuracy score is:- 84.94803888702648\n",
            "\n",
            "\n",
            "At cv:- 6\n",
            "cross validation score is :- 85.11083646911271\n",
            "accuracy score is:- 84.94803888702648\n",
            "\n",
            "\n",
            "At cv:- 7\n",
            "cross validation score is :- 85.07392630837832\n",
            "accuracy score is:- 84.94803888702648\n",
            "\n",
            "\n",
            "At cv:- 8\n",
            "cross validation score is :- 85.17121488346183\n",
            "accuracy score is:- 84.94803888702648\n",
            "\n",
            "\n",
            "At cv:- 9\n",
            "cross validation score is :- 85.22483698563785\n",
            "accuracy score is:- 84.94803888702648\n",
            "\n",
            "\n"
          ]
        }
      ],
      "source": [
        "pred_rf=rf.predict(x_test)\n",
        "\n",
        "lss=accuracy_score(y_test,pred_rf)\n",
        "for j in range(2,10):\n",
        "  lsscore=cross_val_score(rf,X,y,cv=j)\n",
        "  lsc=lsscore.mean()\n",
        "  print('At cv:-',j)\n",
        "  print('cross validation score is :-',lsc*100)\n",
        "  print('accuracy score is:-',lss*100)\n",
        "  print('\\n')"
      ]
    },
    {
      "cell_type": "code",
      "execution_count": 92,
      "metadata": {
        "colab": {
          "base_uri": "https://localhost:8080/"
        },
        "id": "QiKxZGWFd8MG",
        "outputId": "85720cbc-fc88-412a-dee9-bb104603cd53"
      },
      "outputs": [
        {
          "output_type": "stream",
          "name": "stdout",
          "text": [
            "The cv score is  85.22819684486765 \n",
            " the accuracy score is  84.94803888702648\n"
          ]
        }
      ],
      "source": [
        "lsscore_selected=cross_val_score(rf,X,y,cv=9).mean()\n",
        "print('The cv score is ',lsscore_selected*100, '\\n the accuracy score is ',lss*100)"
      ]
    },
    {
      "cell_type": "markdown",
      "metadata": {
        "id": "M-Wc1QkteLJb"
      },
      "source": [
        "#Hyper Parameter Tuning(Random Forest Classifier)"
      ]
    },
    {
      "cell_type": "code",
      "execution_count": 93,
      "metadata": {
        "id": "AXSaaHmmeFzb"
      },
      "outputs": [],
      "source": [
        "from sklearn.model_selection import GridSearchCV"
      ]
    },
    {
      "cell_type": "code",
      "execution_count": 94,
      "metadata": {
        "id": "R2aN0JS6eh5j"
      },
      "outputs": [],
      "source": [
        "parameters={'n_estimators':range(2,6),\n",
        "            'criterion':['entropy','gini'],\n",
        "            'max_depth':range(2,10),\n",
        "            'min_samples_split': range(2,10),\n",
        "            'min_samples_leaf':range(2,10)}"
      ]
    },
    {
      "cell_type": "code",
      "execution_count": 95,
      "metadata": {
        "id": "6t5zFmKuelwj",
        "colab": {
          "base_uri": "https://localhost:8080/"
        },
        "outputId": "c1292beb-0596-4fd6-cfd1-be7f006659b1"
      },
      "outputs": [
        {
          "output_type": "execute_result",
          "data": {
            "text/plain": [
              "GridSearchCV(estimator=RandomForestClassifier(),\n",
              "             param_grid={'criterion': ['entropy', 'gini'],\n",
              "                         'max_depth': range(2, 10),\n",
              "                         'min_samples_leaf': range(2, 10),\n",
              "                         'min_samples_split': range(2, 10),\n",
              "                         'n_estimators': range(2, 6)})"
            ]
          },
          "metadata": {},
          "execution_count": 95
        }
      ],
      "source": [
        "grid=GridSearchCV(rf,param_grid=parameters)\n",
        "\n",
        "grid.fit(x_train,y_train)"
      ]
    },
    {
      "cell_type": "code",
      "execution_count": 96,
      "metadata": {
        "id": "pafKPx_Yh9qI",
        "colab": {
          "base_uri": "https://localhost:8080/"
        },
        "outputId": "86d60f16-b369-4676-c00b-991e467a8647"
      },
      "outputs": [
        {
          "output_type": "stream",
          "name": "stdout",
          "text": [
            "best_params => {'criterion': 'gini', 'max_depth': 9, 'min_samples_leaf': 9, 'min_samples_split': 4, 'n_estimators': 5}\n"
          ]
        }
      ],
      "source": [
        "print('best_params =>',grid.best_params_)"
      ]
    },
    {
      "cell_type": "code",
      "execution_count": 97,
      "metadata": {
        "id": "wW8OkN5xiO5e"
      },
      "outputs": [],
      "source": [
        "rf=grid.best_estimator_"
      ]
    },
    {
      "cell_type": "code",
      "execution_count": 98,
      "metadata": {
        "id": "dNZoXLziiFc_",
        "colab": {
          "base_uri": "https://localhost:8080/"
        },
        "outputId": "84ff8127-b234-441d-9689-7df9b3659a11"
      },
      "outputs": [
        {
          "output_type": "execute_result",
          "data": {
            "text/plain": [
              "RandomForestClassifier(max_depth=9, min_samples_leaf=9, min_samples_split=4,\n",
              "                       n_estimators=5)"
            ]
          },
          "metadata": {},
          "execution_count": 98
        }
      ],
      "source": [
        "rf.fit(x_train,y_train)"
      ]
    },
    {
      "cell_type": "code",
      "execution_count": 99,
      "metadata": {
        "id": "7EbNwMVAiIJ8"
      },
      "outputs": [],
      "source": [
        "rf_train_pred=rf.predict(x_train)"
      ]
    },
    {
      "cell_type": "code",
      "execution_count": 100,
      "metadata": {
        "id": "xnUzLQbziTi7"
      },
      "outputs": [],
      "source": [
        "rf_test_pred=rf.predict(x_test)"
      ]
    },
    {
      "cell_type": "code",
      "execution_count": 101,
      "metadata": {
        "id": "hxpeKYlSiYGL",
        "colab": {
          "base_uri": "https://localhost:8080/"
        },
        "outputId": "74d0e56a-18e3-4b6f-e635-06ff14f2ec50"
      },
      "outputs": [
        {
          "output_type": "stream",
          "name": "stdout",
          "text": [
            "              precision    recall  f1-score   support\n",
            "\n",
            "           0       0.86      0.96      0.91      4578\n",
            "           1       0.78      0.51      0.61      1388\n",
            "\n",
            "    accuracy                           0.85      5966\n",
            "   macro avg       0.82      0.73      0.76      5966\n",
            "weighted avg       0.85      0.85      0.84      5966\n",
            "\n"
          ]
        }
      ],
      "source": [
        "print(classification_report(y_test,rf_test_pred))"
      ]
    },
    {
      "cell_type": "code",
      "execution_count": 102,
      "metadata": {
        "id": "qFZMBOIgiawj",
        "colab": {
          "base_uri": "https://localhost:8080/"
        },
        "outputId": "019fc913-c221-4ed7-c0d1-53584608d988"
      },
      "outputs": [
        {
          "output_type": "execute_result",
          "data": {
            "text/plain": [
              "76.0"
            ]
          },
          "metadata": {},
          "execution_count": 102
        }
      ],
      "source": [
        "(91+61)/2"
      ]
    },
    {
      "cell_type": "markdown",
      "metadata": {
        "id": "T69W_B3rie3j"
      },
      "source": [
        "Model was performing better before hyper parameter tuning."
      ]
    },
    {
      "cell_type": "markdown",
      "source": [
        "#ROC_AUC CURVE"
      ],
      "metadata": {
        "id": "HSToq_d33MoP"
      }
    },
    {
      "cell_type": "code",
      "execution_count": 103,
      "metadata": {
        "id": "ASfG2g_uin_Y"
      },
      "outputs": [],
      "source": [
        "from sklearn.metrics import roc_curve, roc_auc_score\n",
        "from sklearn.metrics import plot_roc_curve"
      ]
    },
    {
      "cell_type": "code",
      "execution_count": 104,
      "metadata": {
        "id": "FGfdjRTojFVT",
        "colab": {
          "base_uri": "https://localhost:8080/",
          "height": 285
        },
        "outputId": "a70030e8-132e-4899-f486-792ad1d33fea"
      },
      "outputs": [
        {
          "output_type": "display_data",
          "data": {
            "text/plain": [
              "<Figure size 432x288 with 1 Axes>"
            ],
            "image/png": "[encoded data removed]"
          },
          "metadata": {}
        }
      ],
      "source": [
        "disp=plot_roc_curve(dt,x_test,y_test)\n",
        "\n",
        "plot_roc_curve(lr,x_test,y_test,ax=disp.ax_)\n",
        "\n",
        "plot_roc_curve(rf,x_test,y_test,ax=disp.ax_)\n",
        "\n",
        "plot_roc_curve(knn,x_test,y_test,ax=disp.ax_)\n",
        "\n",
        "\n",
        "plt.legend(prop={'size':10},loc='lower right')\n",
        "\n",
        "plt.show()"
      ]
    },
    {
      "cell_type": "markdown",
      "metadata": {
        "id": "QiQFMr-CjLGd"
      },
      "source": [
        "Random Forest Classifier has the maximum area under curve, hence we choose Random Forest Classifier"
      ]
    },
    {
      "cell_type": "markdown",
      "source": [
        "#LOADING THE MODEL"
      ],
      "metadata": {
        "id": "XukRdPwk3RD2"
      }
    },
    {
      "cell_type": "code",
      "execution_count": 105,
      "metadata": {
        "id": "OqvGVfXDjUwm"
      },
      "outputs": [],
      "source": [
        "import joblib"
      ]
    },
    {
      "cell_type": "code",
      "execution_count": 106,
      "metadata": {
        "id": "Tx3xR9eFkEoz",
        "colab": {
          "base_uri": "https://localhost:8080/"
        },
        "outputId": "beab9b4b-49f1-45e4-c43a-ffb4e4d4345d"
      },
      "outputs": [
        {
          "output_type": "execute_result",
          "data": {
            "text/plain": [
              "['census_income.obj']"
            ]
          },
          "metadata": {},
          "execution_count": 106
        }
      ],
      "source": [
        "joblib.dump(rf,'census_income.obj')"
      ]
    },
    {
      "cell_type": "code",
      "execution_count": 107,
      "metadata": {
        "id": "CpPg-8E0kQ2G"
      },
      "outputs": [],
      "source": [
        "model=joblib.load('census_income.obj')"
      ]
    },
    {
      "cell_type": "code",
      "execution_count": 108,
      "metadata": {
        "id": "F686Vl7JkeSx"
      },
      "outputs": [],
      "source": [
        "result=model.predict(x_test)"
      ]
    },
    {
      "cell_type": "code",
      "execution_count": 109,
      "metadata": {
        "id": "bItdhxfzkkZ1",
        "colab": {
          "base_uri": "https://localhost:8080/"
        },
        "outputId": "b48ee4f2-6659-433c-aa3f-37aab0d2a797"
      },
      "outputs": [
        {
          "output_type": "execute_result",
          "data": {
            "text/plain": [
              "0.8521622527656721"
            ]
          },
          "metadata": {},
          "execution_count": 109
        }
      ],
      "source": [
        "accuracy_score(y_test,result)"
      ]
    },
    {
      "cell_type": "code",
      "execution_count": 110,
      "metadata": {
        "id": "BZKN3U3Mkr1c"
      },
      "outputs": [],
      "source": [
        "predicted_values=pd.DataFrame({'Actual':y_test,'Predicted':result})"
      ]
    },
    {
      "cell_type": "code",
      "execution_count": 111,
      "metadata": {
        "id": "4DLmORqPk7l5",
        "colab": {
          "base_uri": "https://localhost:8080/",
          "height": 424
        },
        "outputId": "ee99c48d-d55c-4b7b-aad9-cdb6cb73640e"
      },
      "outputs": [
        {
          "output_type": "execute_result",
          "data": {
            "text/plain": [
              "       Actual  Predicted\n",
              "5641        0          0\n",
              "7417        1          1\n",
              "27622       0          0\n",
              "32117       0          0\n",
              "29392       0          0\n",
              "...       ...        ...\n",
              "27958       0          0\n",
              "25824       1          1\n",
              "5350        1          0\n",
              "32064       0          0\n",
              "22164       0          0\n",
              "\n",
              "[5966 rows x 2 columns]"
            ],
            "text/html": [
              "\n",
              "  <div id=\"df-f094b3c1-9879-4731-90b1-02c4cd7d0d12\">\n",
              "    <div class=\"colab-df-container\">\n",
              "      <div>\n",
              "<style scoped>\n",
              "    .dataframe tbody tr th:only-of-type {\n",
              "        vertical-align: middle;\n",
              "    }\n",
              "\n",
              "    .dataframe tbody tr th {\n",
              "        vertical-align: top;\n",
              "    }\n",
              "\n",
              "    .dataframe thead th {\n",
              "        text-align: right;\n",
              "    }\n",
              "</style>\n",
              "<table border=\"1\" class=\"dataframe\">\n",
              "  <thead>\n",
              "    <tr style=\"text-align: right;\">\n",
              "      <th></th>\n",
              "      <th>Actual</th>\n",
              "      <th>Predicted</th>\n",
              "    </tr>\n",
              "  </thead>\n",
              "  <tbody>\n",
              "    <tr>\n",
              "      <th>5641</th>\n",
              "      <td>0</td>\n",
              "      <td>0</td>\n",
              "    </tr>\n",
              "    <tr>\n",
              "      <th>7417</th>\n",
              "      <td>1</td>\n",
              "      <td>1</td>\n",
              "    </tr>\n",
              "    <tr>\n",
              "      <th>27622</th>\n",
              "      <td>0</td>\n",
              "      <td>0</td>\n",
              "    </tr>\n",
              "    <tr>\n",
              "      <th>32117</th>\n",
              "      <td>0</td>\n",
              "      <td>0</td>\n",
              "    </tr>\n",
              "    <tr>\n",
              "      <th>29392</th>\n",
              "      <td>0</td>\n",
              "      <td>0</td>\n",
              "    </tr>\n",
              "    <tr>\n",
              "      <th>...</th>\n",
              "      <td>...</td>\n",
              "      <td>...</td>\n",
              "    </tr>\n",
              "    <tr>\n",
              "      <th>27958</th>\n",
              "      <td>0</td>\n",
              "      <td>0</td>\n",
              "    </tr>\n",
              "    <tr>\n",
              "      <th>25824</th>\n",
              "      <td>1</td>\n",
              "      <td>1</td>\n",
              "    </tr>\n",
              "    <tr>\n",
              "      <th>5350</th>\n",
              "      <td>1</td>\n",
              "      <td>0</td>\n",
              "    </tr>\n",
              "    <tr>\n",
              "      <th>32064</th>\n",
              "      <td>0</td>\n",
              "      <td>0</td>\n",
              "    </tr>\n",
              "    <tr>\n",
              "      <th>22164</th>\n",
              "      <td>0</td>\n",
              "      <td>0</td>\n",
              "    </tr>\n",
              "  </tbody>\n",
              "</table>\n",
              "<p>5966 rows × 2 columns</p>\n",
              "</div>\n",
              "      <button class=\"colab-df-convert\" onclick=\"convertToInteractive('df-f094b3c1-9879-4731-90b1-02c4cd7d0d12')\"\n",
              "              title=\"Convert this dataframe to an interactive table.\"\n",
              "              style=\"display:none;\">\n",
              "        \n",
              "  <svg xmlns=\"http://www.w3.org/2000/svg\" height=\"24px\"viewBox=\"0 0 24 24\"\n",
              "       width=\"24px\">\n",
              "    <path d=\"M0 0h24v24H0V0z\" fill=\"none\"/>\n",
              "    <path d=\"M18.56 5.44l.94 2.06.94-2.06 2.06-.94-2.06-.94-.94-2.06-.94 2.06-2.06.94zm-11 1L8.5 8.5l.94-2.06 2.06-.94-2.06-.94L8.5 2.5l-.94 2.06-2.06.94zm10 10l.94 2.06.94-2.06 2.06-.94-2.06-.94-.94-2.06-.94 2.06-2.06.94z\"/><path d=\"M17.41 7.96l-1.37-1.37c-.4-.4-.92-.59-1.43-.59-.52 0-1.04.2-1.43.59L10.3 9.45l-7.72 7.72c-.78.78-.78 2.05 0 2.83L4 21.41c.39.39.9.59 1.41.59.51 0 1.02-.2 1.41-.59l7.78-7.78 2.81-2.81c.8-.78.8-2.07 0-2.86zM5.41 20L4 18.59l7.72-7.72 1.47 1.35L5.41 20z\"/>\n",
              "  </svg>\n",
              "      </button>\n",
              "      \n",
              "  <style>\n",
              "    .colab-df-container {\n",
              "      display:flex;\n",
              "      flex-wrap:wrap;\n",
              "      gap: 12px;\n",
              "    }\n",
              "\n",
              "    .colab-df-convert {\n",
              "      background-color: #E8F0FE;\n",
              "      border: none;\n",
              "      border-radius: 50%;\n",
              "      cursor: pointer;\n",
              "      display: none;\n",
              "      fill: #1967D2;\n",
              "      height: 32px;\n",
              "      padding: 0 0 0 0;\n",
              "      width: 32px;\n",
              "    }\n",
              "\n",
              "    .colab-df-convert:hover {\n",
              "      background-color: #E2EBFA;\n",
              "      box-shadow: 0px 1px 2px rgba(60, 64, 67, 0.3), 0px 1px 3px 1px rgba(60, 64, 67, 0.15);\n",
              "      fill: #174EA6;\n",
              "    }\n",
              "\n",
              "    [theme=dark] .colab-df-convert {\n",
              "      background-color: #3B4455;\n",
              "      fill: #D2E3FC;\n",
              "    }\n",
              "\n",
              "    [theme=dark] .colab-df-convert:hover {\n",
              "      background-color: #434B5C;\n",
              "      box-shadow: 0px 1px 3px 1px rgba(0, 0, 0, 0.15);\n",
              "      filter: drop-shadow(0px 1px 2px rgba(0, 0, 0, 0.3));\n",
              "      fill: #FFFFFF;\n",
              "    }\n",
              "  </style>\n",
              "\n",
              "      <script>\n",
              "        const buttonEl =\n",
              "          document.querySelector('#df-f094b3c1-9879-4731-90b1-02c4cd7d0d12 button.colab-df-convert');\n",
              "        buttonEl.style.display =\n",
              "          google.colab.kernel.accessAllowed ? 'block' : 'none';\n",
              "\n",
              "        async function convertToInteractive(key) {\n",
              "          const element = document.querySelector('#df-f094b3c1-9879-4731-90b1-02c4cd7d0d12');\n",
              "          const dataTable =\n",
              "            await google.colab.kernel.invokeFunction('convertToInteractive',\n",
              "                                                     [key], {});\n",
              "          if (!dataTable) return;\n",
              "\n",
              "          const docLinkHtml = 'Like what you see? Visit the ' +\n",
              "            '<a target=\"_blank\" href=https://colab.research.google.com/notebooks/data_table.ipynb>data table notebook</a>'\n",
              "            + ' to learn more about interactive tables.';\n",
              "          element.innerHTML = '';\n",
              "          dataTable['output_type'] = 'display_data';\n",
              "          await google.colab.output.renderOutput(dataTable, element);\n",
              "          const docLink = document.createElement('div');\n",
              "          docLink.innerHTML = docLinkHtml;\n",
              "          element.appendChild(docLink);\n",
              "        }\n",
              "      </script>\n",
              "    </div>\n",
              "  </div>\n",
              "  "
            ]
          },
          "metadata": {},
          "execution_count": 111
        }
      ],
      "source": [
        "predicted_values"
      ]
    }
  ],
  "metadata": {
    "colab": {
      "provenance": []
    },
    "kernelspec": {
      "display_name": "Python 3",
      "name": "python3"
    },
    "language_info": {
      "name": "python"
    }
  },
  "nbformat": 4,
  "nbformat_minor": 0
}